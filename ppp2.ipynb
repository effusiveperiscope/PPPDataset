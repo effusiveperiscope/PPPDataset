{
 "cells": [
  {
   "cell_type": "code",
   "execution_count": null,
   "metadata": {
    "metadata": {}
   },
   "outputs": [],
   "source": [
    "from ppp2 import PPPDataset2, FolderSpec, ExportSpec\n",
    "dataset = PPPDataset2.from_file(\n",
    "    folder_specs = [FolderSpec(\n",
    "        path = r'D:\\MLP_Samples\\AIData\\Master file'\n",
    "    )],\n",
    "    characters=['Twilight'])\n",
    "dataset.export(\n",
    "    specs = [\n",
    "        ExportSpec(\n",
    "            export_path = r'D:\\Code\\GPT-SoVITS\\Twilight_data',\n",
    "            list_path = r'D:\\Code\\GPT-SoVITS\\filelist_Twilight.list'\n",
    "        )\n",
    "    ],\n",
    "    filename_formatter = lambda parse: f'{parse.process_idx}.wav',\n",
    "    fileline_formatter = lambda parse: f'{parse.out_path}|{parse.char}|en|{parse.line}'\n",
    ")"
   ]
  },
  {
   "cell_type": "code",
   "execution_count": null,
   "metadata": {},
   "outputs": [],
   "source": []
  }
 ],
 "metadata": {
  "kernelspec": {
   "display_name": "Python 3",
   "language": "python",
   "name": "python3"
  },
  "language_info": {
   "codemirror_mode": {
    "name": "ipython",
    "version": 3
   },
   "file_extension": ".py",
   "mimetype": "text/x-python",
   "name": "python",
   "nbconvert_exporter": "python",
   "pygments_lexer": "ipython3",
   "version": "3.10.7"
  }
 },
 "nbformat": 4,
 "nbformat_minor": 2
}
