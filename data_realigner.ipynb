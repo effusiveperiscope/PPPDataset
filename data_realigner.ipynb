{
 "cells": [
  {
   "cell_type": "code",
   "execution_count": 16,
   "metadata": {},
   "outputs": [
    {
     "name": "stdout",
     "output_type": "stream",
     "text": [
      "Loading source audio\n",
      "Resampling source audio\n"
     ]
    },
    {
     "name": "stderr",
     "output_type": "stream",
     "text": [
      "2it [00:00,  2.26it/s]"
     ]
    },
    {
     "name": "stdout",
     "output_type": "stream",
     "text": [
      "Expected offset: 70991 pre-window: 70991 | -7.626435009211699 post-window: 70991 | -7.626411176639533\n"
     ]
    },
    {
     "name": "stderr",
     "output_type": "stream",
     "text": [
      "3it [00:01,  2.08it/s]"
     ]
    },
    {
     "name": "stdout",
     "output_type": "stream",
     "text": [
      "Expected offset: 10215 pre-window: 10215 | -7.166184550816595 post-window: 10215 | -7.166184550816595\n"
     ]
    },
    {
     "name": "stderr",
     "output_type": "stream",
     "text": [
      "4it [00:01,  2.13it/s]"
     ]
    },
    {
     "name": "stdout",
     "output_type": "stream",
     "text": [
      "Expected offset: 89237 pre-window: 89238 | -8.303382814888556 post-window: 89238 | -8.303149285530909\n"
     ]
    },
    {
     "name": "stderr",
     "output_type": "stream",
     "text": [
      "5it [00:02,  2.57it/s]"
     ]
    },
    {
     "name": "stdout",
     "output_type": "stream",
     "text": [
      "Expected offset: 31351 pre-window: 31351 | -3.049148360517004 post-window: 31351 | -3.049148360517004\n"
     ]
    },
    {
     "name": "stderr",
     "output_type": "stream",
     "text": [
      "6it [00:02,  2.33it/s]"
     ]
    },
    {
     "name": "stdout",
     "output_type": "stream",
     "text": [
      "Expected offset: 83840 pre-window: 83841 | -15.576067672021086 post-window: 83841 | -15.57587297239206\n"
     ]
    },
    {
     "name": "stderr",
     "output_type": "stream",
     "text": [
      "7it [00:03,  2.19it/s]"
     ]
    },
    {
     "name": "stdout",
     "output_type": "stream",
     "text": [
      "Expected offset: 14660 pre-window: 14660 | -17.847514076241744 post-window: 14660 | -17.847514076241744\n"
     ]
    },
    {
     "name": "stderr",
     "output_type": "stream",
     "text": [
      "8it [00:03,  2.20it/s]"
     ]
    },
    {
     "name": "stdout",
     "output_type": "stream",
     "text": [
      "Expected offset: 28737 pre-window: 28738 | -12.936795648897562 post-window: 28738 | -12.936633939962633\n"
     ]
    },
    {
     "name": "stderr",
     "output_type": "stream",
     "text": [
      "9it [00:03,  2.64it/s]"
     ]
    },
    {
     "name": "stdout",
     "output_type": "stream",
     "text": [
      "Expected offset: 19646 pre-window: 19646 | -17.03834166775212 post-window: 19646 | -17.03834166775212\n"
     ]
    },
    {
     "name": "stderr",
     "output_type": "stream",
     "text": [
      "10it [00:04,  3.00it/s]"
     ]
    },
    {
     "name": "stdout",
     "output_type": "stream",
     "text": [
      "Expected offset: 16679 pre-window: 16680 | -18.89806994687995 post-window: 16680 | -18.89783372248202\n"
     ]
    },
    {
     "name": "stderr",
     "output_type": "stream",
     "text": [
      "11it [00:04,  2.68it/s]"
     ]
    },
    {
     "name": "stdout",
     "output_type": "stream",
     "text": [
      "Expected offset: 17024 pre-window: 17024 | -29.434562649075854 post-window: 17024 | -29.434470666211297\n"
     ]
    },
    {
     "name": "stderr",
     "output_type": "stream",
     "text": [
      "12it [00:04,  2.51it/s]"
     ]
    },
    {
     "name": "stdout",
     "output_type": "stream",
     "text": [
      "Expected offset: 21110 pre-window: 21110 | -24.789259413375323 post-window: 21110 | -24.789259413375323\n"
     ]
    },
    {
     "name": "stderr",
     "output_type": "stream",
     "text": [
      "13it [00:05,  2.40it/s]"
     ]
    },
    {
     "name": "stdout",
     "output_type": "stream",
     "text": [
      "Expected offset: 21907 pre-window: 21908 | -40.50253760247305 post-window: 21908 | -40.502031323917265\n"
     ]
    },
    {
     "name": "stderr",
     "output_type": "stream",
     "text": [
      "14it [00:05,  2.34it/s]"
     ]
    },
    {
     "name": "stdout",
     "output_type": "stream",
     "text": [
      "Expected offset: 80853 pre-window: 80853 | -35.95080707086786 post-window: 80853 | -35.95080707086786\n"
     ]
    },
    {
     "name": "stderr",
     "output_type": "stream",
     "text": [
      "15it [00:06,  2.32it/s]"
     ]
    },
    {
     "name": "stdout",
     "output_type": "stream",
     "text": [
      "Expected offset: 34756 pre-window: 34757 | -5.463839546573757 post-window: 34757 | -5.463771249006285\n"
     ]
    },
    {
     "name": "stderr",
     "output_type": "stream",
     "text": [
      "16it [00:06,  2.27it/s]"
     ]
    },
    {
     "name": "stdout",
     "output_type": "stream",
     "text": [
      "Expected offset: 54737 pre-window: 54737 | -33.901120122534316 post-window: 54737 | -33.901120122534316\n"
     ]
    },
    {
     "name": "stderr",
     "output_type": "stream",
     "text": [
      "17it [00:07,  2.19it/s]"
     ]
    },
    {
     "name": "stdout",
     "output_type": "stream",
     "text": [
      "Expected offset: 29874 pre-window: 29875 | -39.060754890658515 post-window: 29875 | -39.06026663427399\n"
     ]
    },
    {
     "name": "stderr",
     "output_type": "stream",
     "text": [
      "18it [00:07,  2.12it/s]"
     ]
    },
    {
     "name": "stdout",
     "output_type": "stream",
     "text": [
      "Expected offset: 36704 pre-window: 36704 | -25.04499673041071 post-window: 36704 | -25.04499673041071\n"
     ]
    },
    {
     "name": "stderr",
     "output_type": "stream",
     "text": [
      "19it [00:08,  2.11it/s]"
     ]
    },
    {
     "name": "stdout",
     "output_type": "stream",
     "text": [
      "Expected offset: 33259 pre-window: 33259 | -28.565402215378757 post-window: 33259 | -28.565402215378757\n"
     ]
    },
    {
     "name": "stderr",
     "output_type": "stream",
     "text": [
      "20it [00:08,  2.08it/s]"
     ]
    },
    {
     "name": "stdout",
     "output_type": "stream",
     "text": [
      "Expected offset: 39382 pre-window: 39382 | -34.26690413995579 post-window: 39382 | -34.26690413995579\n"
     ]
    },
    {
     "name": "stderr",
     "output_type": "stream",
     "text": [
      "21it [00:09,  2.14it/s]"
     ]
    },
    {
     "name": "stdout",
     "output_type": "stream",
     "text": [
      "Expected offset: 30603 pre-window: 30604 | -20.453419027559463 post-window: 30604 | -20.453163361419534\n"
     ]
    },
    {
     "name": "stderr",
     "output_type": "stream",
     "text": [
      "22it [00:09,  2.18it/s]"
     ]
    },
    {
     "name": "stdout",
     "output_type": "stream",
     "text": [
      "Expected offset: 74952 pre-window: 74952 | -18.801597245598504 post-window: 74952 | -18.801597245598504\n"
     ]
    },
    {
     "name": "stderr",
     "output_type": "stream",
     "text": [
      "23it [00:10,  2.08it/s]"
     ]
    },
    {
     "name": "stdout",
     "output_type": "stream",
     "text": [
      "Expected offset: 13322 pre-window: 13323 | -38.23437829392714 post-window: 13323 | -38.23390036718552\n"
     ]
    },
    {
     "name": "stderr",
     "output_type": "stream",
     "text": [
      "24it [00:10,  2.06it/s]"
     ]
    },
    {
     "name": "stdout",
     "output_type": "stream",
     "text": [
      "Expected offset: 35040 pre-window: 35040 | -25.864920695316016 post-window: 35040 | -25.864920695316016\n"
     ]
    },
    {
     "name": "stderr",
     "output_type": "stream",
     "text": [
      "25it [00:11,  2.02it/s]"
     ]
    },
    {
     "name": "stdout",
     "output_type": "stream",
     "text": [
      "Expected offset: 38529 pre-window: 38529 | -19.81749685841783 post-window: 38529 | -19.81743492883691\n"
     ]
    },
    {
     "name": "stderr",
     "output_type": "stream",
     "text": [
      "26it [00:11,  2.04it/s]"
     ]
    },
    {
     "name": "stdout",
     "output_type": "stream",
     "text": [
      "Expected offset: 39214 pre-window: 39215 | -33.49196788429368 post-window: 39215 | -33.49154923731167\n"
     ]
    },
    {
     "name": "stderr",
     "output_type": "stream",
     "text": [
      "27it [00:12,  1.81it/s]"
     ]
    },
    {
     "name": "stdout",
     "output_type": "stream",
     "text": [
      "Expected offset: 27437 pre-window: 27437 | -21.106478862288807 post-window: 27437 | -21.106478862288807\n"
     ]
    },
    {
     "name": "stderr",
     "output_type": "stream",
     "text": [
      "28it [00:12,  1.91it/s]"
     ]
    },
    {
     "name": "stdout",
     "output_type": "stream",
     "text": [
      "Expected offset: 25893 pre-window: 25894 | -10.360965514400018 post-window: 25894 | -10.360836003140534\n"
     ]
    },
    {
     "name": "stderr",
     "output_type": "stream",
     "text": [
      "29it [00:13,  1.97it/s]"
     ]
    },
    {
     "name": "stdout",
     "output_type": "stream",
     "text": [
      "Expected offset: 13397 pre-window: 13397 | -27.069549137823692 post-window: 13397 | -27.069549137823692\n"
     ]
    },
    {
     "name": "stderr",
     "output_type": "stream",
     "text": [
      "30it [00:13,  2.01it/s]"
     ]
    },
    {
     "name": "stdout",
     "output_type": "stream",
     "text": [
      "Expected offset: 30367 pre-window: 30368 | -30.481956714971872 post-window: 30368 | -30.481575692894328\n"
     ]
    },
    {
     "name": "stderr",
     "output_type": "stream",
     "text": [
      "31it [00:14,  2.06it/s]"
     ]
    },
    {
     "name": "stdout",
     "output_type": "stream",
     "text": [
      "Expected offset: 27483 pre-window: 27483 | -11.776586205062694 post-window: 27483 | -11.776586205062694\n"
     ]
    },
    {
     "name": "stderr",
     "output_type": "stream",
     "text": [
      "32it [00:14,  2.08it/s]"
     ]
    },
    {
     "name": "stdout",
     "output_type": "stream",
     "text": [
      "Expected offset: 39916 pre-window: 39917 | -23.036696453623847 post-window: 39917 | -23.0360485556472\n"
     ]
    },
    {
     "name": "stderr",
     "output_type": "stream",
     "text": [
      "33it [00:15,  2.14it/s]"
     ]
    },
    {
     "name": "stdout",
     "output_type": "stream",
     "text": [
      "Expected offset: 49962 pre-window: 49963 | -9.677555097292625 post-window: 49963 | -9.677434128609965\n"
     ]
    },
    {
     "name": "stderr",
     "output_type": "stream",
     "text": [
      "34it [00:15,  2.15it/s]"
     ]
    },
    {
     "name": "stdout",
     "output_type": "stream",
     "text": [
      "Expected offset: 7516 pre-window: 7517 | -38.916286382819905 post-window: 7517 | -38.91579993228044\n"
     ]
    },
    {
     "name": "stderr",
     "output_type": "stream",
     "text": [
      "35it [00:16,  2.06it/s]"
     ]
    },
    {
     "name": "stdout",
     "output_type": "stream",
     "text": [
      "Expected offset: 244152 pre-window: 244152 | -49.15830282037817 post-window: 244152 | -49.15830282037817\n"
     ]
    },
    {
     "name": "stderr",
     "output_type": "stream",
     "text": [
      "36it [00:16,  2.08it/s]"
     ]
    },
    {
     "name": "stdout",
     "output_type": "stream",
     "text": [
      "Expected offset: 31332 pre-window: 31333 | -14.845608654164732 post-window: 31333 | -14.845423085216362\n"
     ]
    },
    {
     "name": "stderr",
     "output_type": "stream",
     "text": [
      "37it [00:17,  2.04it/s]"
     ]
    },
    {
     "name": "stdout",
     "output_type": "stream",
     "text": [
      "Expected offset: 8861 pre-window: 8861 | -39.682528536411084 post-window: 8861 | -39.682528536411084\n"
     ]
    },
    {
     "name": "stderr",
     "output_type": "stream",
     "text": [
      "38it [00:17,  2.02it/s]"
     ]
    },
    {
     "name": "stdout",
     "output_type": "stream",
     "text": [
      "Expected offset: 37221 pre-window: 37222 | -23.212441469971296 post-window: 37222 | -23.212151316266386\n"
     ]
    },
    {
     "name": "stderr",
     "output_type": "stream",
     "text": [
      "39it [00:17,  2.14it/s]"
     ]
    },
    {
     "name": "stdout",
     "output_type": "stream",
     "text": [
      "Expected offset: 28955 pre-window: 28955 | -25.149385013975493 post-window: 28955 | -25.149385013975493\n"
     ]
    },
    {
     "name": "stderr",
     "output_type": "stream",
     "text": [
      "40it [00:18,  2.15it/s]"
     ]
    },
    {
     "name": "stdout",
     "output_type": "stream",
     "text": [
      "Expected offset: 20756 pre-window: 20757 | -35.78008414268227 post-window: 20757 | -35.77963689442579\n"
     ]
    },
    {
     "name": "stderr",
     "output_type": "stream",
     "text": [
      "41it [00:19,  2.00it/s]"
     ]
    },
    {
     "name": "stdout",
     "output_type": "stream",
     "text": [
      "Expected offset: 28455 pre-window: 28456 | -21.748793594609566 post-window: 28456 | -21.74852173638875\n"
     ]
    },
    {
     "name": "stderr",
     "output_type": "stream",
     "text": [
      "42it [00:19,  1.99it/s]"
     ]
    },
    {
     "name": "stdout",
     "output_type": "stream",
     "text": [
      "Expected offset: 29809 pre-window: 29810 | -41.290646367056084 post-window: 29810 | -41.29013023720231\n"
     ]
    },
    {
     "name": "stderr",
     "output_type": "stream",
     "text": [
      "43it [00:19,  2.16it/s]"
     ]
    },
    {
     "name": "stdout",
     "output_type": "stream",
     "text": [
      "Expected offset: 47174 pre-window: 47174 | -37.18859887669108 post-window: 47174 | -37.18848266250117\n"
     ]
    },
    {
     "name": "stderr",
     "output_type": "stream",
     "text": [
      "44it [00:20,  2.16it/s]"
     ]
    },
    {
     "name": "stdout",
     "output_type": "stream",
     "text": [
      "Expected offset: 44696 pre-window: 44697 | -44.532200252991956 post-window: 44697 | -44.53164360396786\n"
     ]
    },
    {
     "name": "stderr",
     "output_type": "stream",
     "text": [
      "45it [00:20,  2.16it/s]"
     ]
    },
    {
     "name": "stdout",
     "output_type": "stream",
     "text": [
      "Expected offset: 78765 pre-window: 78765 | -42.151823773793566 post-window: 78765 | -42.151823773793566\n"
     ]
    },
    {
     "name": "stderr",
     "output_type": "stream",
     "text": [
      "46it [00:21,  2.12it/s]"
     ]
    },
    {
     "name": "stdout",
     "output_type": "stream",
     "text": [
      "Expected offset: 27111 pre-window: 27111 | -49.2060830422268 post-window: 27111 | -49.2060830422268\n"
     ]
    },
    {
     "name": "stderr",
     "output_type": "stream",
     "text": [
      "47it [00:21,  2.01it/s]"
     ]
    },
    {
     "name": "stdout",
     "output_type": "stream",
     "text": [
      "Expected offset: 38618 pre-window: 38619 | -34.559903605520994 post-window: 38619 | -34.559471609425906\n"
     ]
    },
    {
     "name": "stderr",
     "output_type": "stream",
     "text": [
      "48it [00:22,  1.96it/s]"
     ]
    },
    {
     "name": "stdout",
     "output_type": "stream",
     "text": [
      "Expected offset: 65399 pre-window: 65400 | -25.734556972639382 post-window: 65400 | -25.73423529268773\n"
     ]
    },
    {
     "name": "stderr",
     "output_type": "stream",
     "text": [
      "49it [00:22,  2.01it/s]"
     ]
    },
    {
     "name": "stdout",
     "output_type": "stream",
     "text": [
      "Expected offset: 76961 pre-window: 76961 | -32.10645862357771 post-window: 76961 | -32.10645862357771\n"
     ]
    },
    {
     "name": "stderr",
     "output_type": "stream",
     "text": [
      "50it [00:23,  2.03it/s]"
     ]
    },
    {
     "name": "stdout",
     "output_type": "stream",
     "text": [
      "Expected offset: 38150 pre-window: 38151 | -49.84865069513027 post-window: 38151 | -49.848027590890986\n"
     ]
    },
    {
     "name": "stderr",
     "output_type": "stream",
     "text": [
      "51it [00:23,  2.09it/s]"
     ]
    },
    {
     "name": "stdout",
     "output_type": "stream",
     "text": [
      "Expected offset: 39843 pre-window: 39843 | -30.09988399569562 post-window: 39843 | -30.099789933705104\n"
     ]
    },
    {
     "name": "stderr",
     "output_type": "stream",
     "text": [
      "52it [00:24,  2.09it/s]"
     ]
    },
    {
     "name": "stdout",
     "output_type": "stream",
     "text": [
      "Expected offset: 15540 pre-window: 15541 | -34.340151110700404 post-window: 15541 | -34.33972186149433\n"
     ]
    },
    {
     "name": "stderr",
     "output_type": "stream",
     "text": [
      "53it [00:24,  2.12it/s]"
     ]
    },
    {
     "name": "stdout",
     "output_type": "stream",
     "text": [
      "Expected offset: 30704 pre-window: 30704 | -19.40931270215266 post-window: 30704 | -19.40931270215266\n"
     ]
    },
    {
     "name": "stderr",
     "output_type": "stream",
     "text": [
      "54it [00:25,  2.39it/s]"
     ]
    },
    {
     "name": "stdout",
     "output_type": "stream",
     "text": [
      "Expected offset: 48838 pre-window: 48839 | -30.61799896875154 post-window: 48839 | -30.617137849640088\n"
     ]
    },
    {
     "name": "stderr",
     "output_type": "stream",
     "text": [
      "55it [00:25,  2.25it/s]"
     ]
    },
    {
     "name": "stdout",
     "output_type": "stream",
     "text": [
      "Expected offset: 28075 pre-window: 28075 | -29.73905483022025 post-window: 28075 | -29.73905483022025\n"
     ]
    },
    {
     "name": "stderr",
     "output_type": "stream",
     "text": [
      "56it [00:25,  2.22it/s]"
     ]
    },
    {
     "name": "stdout",
     "output_type": "stream",
     "text": [
      "Expected offset: 21393 pre-window: 21394 | -24.79078130764439 post-window: 21394 | -24.79008407672497\n"
     ]
    },
    {
     "name": "stderr",
     "output_type": "stream",
     "text": [
      "57it [00:26,  2.66it/s]"
     ]
    },
    {
     "name": "stdout",
     "output_type": "stream",
     "text": [
      "Expected offset: 13467 pre-window: 13468 | -35.851207302325555 post-window: 13468 | -35.85019900129948\n"
     ]
    },
    {
     "name": "stderr",
     "output_type": "stream",
     "text": [
      "58it [00:26,  2.50it/s]"
     ]
    },
    {
     "name": "stdout",
     "output_type": "stream",
     "text": [
      "Expected offset: 30797 pre-window: 30797 | -29.36745802836371 post-window: 30797 | -29.36745802836371\n"
     ]
    },
    {
     "name": "stderr",
     "output_type": "stream",
     "text": [
      "59it [00:27,  2.43it/s]"
     ]
    },
    {
     "name": "stdout",
     "output_type": "stream",
     "text": [
      "Expected offset: 44586 pre-window: 44586 | -45.15461920298618 post-window: 44586 | -45.15461920298618\n"
     ]
    },
    {
     "name": "stderr",
     "output_type": "stream",
     "text": [
      "60it [00:27,  2.47it/s]"
     ]
    },
    {
     "name": "stdout",
     "output_type": "stream",
     "text": [
      "Expected offset: 92513 pre-window: 92514 | -40.31868164438551 post-window: 92514 | -40.31754769741046\n"
     ]
    },
    {
     "name": "stderr",
     "output_type": "stream",
     "text": [
      "61it [00:27,  2.38it/s]"
     ]
    },
    {
     "name": "stdout",
     "output_type": "stream",
     "text": [
      "Expected offset: 27818 pre-window: 27818 | -41.92221634078443 post-window: 27818 | -41.92221634078443\n"
     ]
    },
    {
     "name": "stderr",
     "output_type": "stream",
     "text": [
      "62it [00:28,  2.49it/s]"
     ]
    },
    {
     "name": "stdout",
     "output_type": "stream",
     "text": [
      "Expected offset: 30508 pre-window: 30508 | -14.481652172871991 post-window: 30508 | -14.481652172871991\n"
     ]
    },
    {
     "name": "stderr",
     "output_type": "stream",
     "text": [
      "63it [00:28,  2.42it/s]"
     ]
    },
    {
     "name": "stdout",
     "output_type": "stream",
     "text": [
      "Expected offset: 14270 pre-window: 14271 | -29.997141813171204 post-window: 14271 | -29.9962981554217\n"
     ]
    },
    {
     "name": "stderr",
     "output_type": "stream",
     "text": [
      "64it [00:29,  2.18it/s]"
     ]
    },
    {
     "name": "stdout",
     "output_type": "stream",
     "text": [
      "Expected offset: 30441 pre-window: 30441 | -9.788453095713704 post-window: 30441 | -9.788453095713704\n"
     ]
    },
    {
     "name": "stderr",
     "output_type": "stream",
     "text": [
      "66it [00:29,  2.76it/s]"
     ]
    },
    {
     "name": "stdout",
     "output_type": "stream",
     "text": [
      "Expected offset: 15016 pre-window: 15017 | -27.77773702479123 post-window: 15017 | -27.777389805248546\n",
      "Expected offset: 22643 pre-window: 22643 | -19.871607949347013 post-window: 22643 | -19.8715458506692\n"
     ]
    },
    {
     "name": "stderr",
     "output_type": "stream",
     "text": [
      "67it [00:30,  2.60it/s]"
     ]
    },
    {
     "name": "stdout",
     "output_type": "stream",
     "text": [
      "Expected offset: 14060 pre-window: 14061 | -46.00795088862132 post-window: 14061 | -46.00737579282957\n"
     ]
    },
    {
     "name": "stderr",
     "output_type": "stream",
     "text": [
      "68it [00:30,  2.55it/s]"
     ]
    },
    {
     "name": "stdout",
     "output_type": "stream",
     "text": [
      "Expected offset: 31360 pre-window: 31360 | -32.25269389416893 post-window: 31360 | -32.25269389416893\n"
     ]
    },
    {
     "name": "stderr",
     "output_type": "stream",
     "text": [
      "69it [00:31,  2.47it/s]"
     ]
    },
    {
     "name": "stdout",
     "output_type": "stream",
     "text": [
      "Expected offset: 45720 pre-window: 45720 | -26.941590927001 post-window: 45720 | -26.941590927001\n"
     ]
    },
    {
     "name": "stderr",
     "output_type": "stream",
     "text": [
      "70it [00:31,  2.38it/s]"
     ]
    },
    {
     "name": "stdout",
     "output_type": "stream",
     "text": [
      "Expected offset: 35615 pre-window: 35616 | -30.035860343321474 post-window: 35616 | -30.035484897413724\n"
     ]
    },
    {
     "name": "stderr",
     "output_type": "stream",
     "text": [
      "71it [00:32,  2.33it/s]"
     ]
    },
    {
     "name": "stdout",
     "output_type": "stream",
     "text": [
      "Expected offset: 23642 pre-window: 23642 | -15.930973255074747 post-window: 23642 | -15.930923470861112\n"
     ]
    },
    {
     "name": "stderr",
     "output_type": "stream",
     "text": [
      "72it [00:32,  2.30it/s]"
     ]
    },
    {
     "name": "stdout",
     "output_type": "stream",
     "text": [
      "Expected offset: 13106 pre-window: 13106 | -34.48264338088168 post-window: 13106 | -34.48253562278949\n"
     ]
    },
    {
     "name": "stderr",
     "output_type": "stream",
     "text": [
      "73it [00:32,  2.40it/s]"
     ]
    },
    {
     "name": "stdout",
     "output_type": "stream",
     "text": [
      "Expected offset: 21059 pre-window: 21060 | -22.297299388212068 post-window: 21060 | -22.297020673711682\n"
     ]
    },
    {
     "name": "stderr",
     "output_type": "stream",
     "text": [
      "74it [00:33,  2.10it/s]"
     ]
    },
    {
     "name": "stdout",
     "output_type": "stream",
     "text": [
      "Expected offset: 49384 pre-window: 49384 | -26.62649723678623 post-window: 49384 | -26.62649723678623\n"
     ]
    },
    {
     "name": "stderr",
     "output_type": "stream",
     "text": [
      "75it [00:33,  2.16it/s]"
     ]
    },
    {
     "name": "stdout",
     "output_type": "stream",
     "text": [
      "Expected offset: 24023 pre-window: 24024 | -28.92861571980606 post-window: 24024 | -28.92780211393033\n"
     ]
    },
    {
     "name": "stderr",
     "output_type": "stream",
     "text": [
      "76it [00:34,  2.16it/s]"
     ]
    },
    {
     "name": "stdout",
     "output_type": "stream",
     "text": [
      "Expected offset: 20688 pre-window: 20688 | -24.697657032471803 post-window: 20688 | -24.697657032471803\n"
     ]
    },
    {
     "name": "stderr",
     "output_type": "stream",
     "text": [
      "77it [00:35,  1.98it/s]"
     ]
    },
    {
     "name": "stdout",
     "output_type": "stream",
     "text": [
      "Expected offset: 63768 pre-window: 63768 | -20.333736856165864 post-window: 63768 | -20.333673313337474\n"
     ]
    },
    {
     "name": "stderr",
     "output_type": "stream",
     "text": [
      "78it [00:35,  1.96it/s]"
     ]
    },
    {
     "name": "stdout",
     "output_type": "stream",
     "text": [
      "Expected offset: 15418 pre-window: 15419 | -39.5185943330274 post-window: 15419 | -39.51810035368562\n"
     ]
    },
    {
     "name": "stderr",
     "output_type": "stream",
     "text": [
      "79it [00:36,  1.97it/s]"
     ]
    },
    {
     "name": "stdout",
     "output_type": "stream",
     "text": [
      "Expected offset: 53940 pre-window: 53941 | -17.23514738050146 post-window: 53941 | -17.234931942505693\n"
     ]
    },
    {
     "name": "stderr",
     "output_type": "stream",
     "text": [
      "80it [00:36,  1.96it/s]"
     ]
    },
    {
     "name": "stdout",
     "output_type": "stream",
     "text": [
      "Expected offset: 52000 pre-window: 52000 | -15.954448109633255 post-window: 52000 | -15.954398252060814\n"
     ]
    },
    {
     "name": "stderr",
     "output_type": "stream",
     "text": [
      "81it [00:37,  1.95it/s]"
     ]
    },
    {
     "name": "stdout",
     "output_type": "stream",
     "text": [
      "Expected offset: 103499 pre-window: 140507 | -16.191762102299528 post-window: 103574 | -0.2435680615088863\n",
      "Warning - windowed corr for line 00_07_09_Twilight_Anxious Shouting_Very Noisy_Rainbow dash, fluttershy! Let's get everypony out!\n",
      " low; using pre-window\n"
     ]
    },
    {
     "name": "stderr",
     "output_type": "stream",
     "text": [
      "82it [00:37,  1.95it/s]"
     ]
    },
    {
     "name": "stdout",
     "output_type": "stream",
     "text": [
      "Expected offset: 165492 pre-window: 165492 | -24.14392841778746 post-window: 165492 | -24.14392841778746\n"
     ]
    },
    {
     "name": "stderr",
     "output_type": "stream",
     "text": [
      "83it [00:38,  1.94it/s]"
     ]
    },
    {
     "name": "stdout",
     "output_type": "stream",
     "text": [
      "Expected offset: 31695 pre-window: 31696 | -18.09630263895351 post-window: 31696 | -18.09607643658429\n"
     ]
    },
    {
     "name": "stderr",
     "output_type": "stream",
     "text": [
      "84it [00:38,  1.97it/s]"
     ]
    },
    {
     "name": "stdout",
     "output_type": "stream",
     "text": [
      "Expected offset: 41805 pre-window: 41806 | -29.248136911021124 post-window: 41806 | -29.247771311594736\n"
     ]
    },
    {
     "name": "stderr",
     "output_type": "stream",
     "text": [
      "85it [00:39,  2.00it/s]"
     ]
    },
    {
     "name": "stdout",
     "output_type": "stream",
     "text": [
      "Expected offset: 46282 pre-window: 46282 | -12.10866544345667 post-window: 46282 | -12.108627603936284\n"
     ]
    },
    {
     "name": "stderr",
     "output_type": "stream",
     "text": [
      "86it [00:39,  2.07it/s]"
     ]
    },
    {
     "name": "stdout",
     "output_type": "stream",
     "text": [
      "Expected offset: 12244 pre-window: 12245 | -2.8905997626455586 post-window: 12245 | -2.8905636303743525\n"
     ]
    },
    {
     "name": "stderr",
     "output_type": "stream",
     "text": [
      "87it [00:40,  2.06it/s]"
     ]
    },
    {
     "name": "stdout",
     "output_type": "stream",
     "text": [
      "Expected offset: 10857 pre-window: 10858 | -18.97071388638904 post-window: 10858 | -18.97047675394754\n"
     ]
    },
    {
     "name": "stderr",
     "output_type": "stream",
     "text": [
      "88it [00:40,  2.03it/s]"
     ]
    },
    {
     "name": "stdout",
     "output_type": "stream",
     "text": [
      "Expected offset: 19609 pre-window: 19609 | -32.142534670051134 post-window: 19609 | -32.142534670051134\n"
     ]
    },
    {
     "name": "stderr",
     "output_type": "stream",
     "text": [
      "89it [00:41,  1.98it/s]"
     ]
    },
    {
     "name": "stdout",
     "output_type": "stream",
     "text": [
      "Expected offset: 42375 pre-window: 42376 | -29.878734638677802 post-window: 42376 | -29.878361156829083\n"
     ]
    },
    {
     "name": "stderr",
     "output_type": "stream",
     "text": [
      "90it [00:41,  2.28it/s]"
     ]
    },
    {
     "name": "stdout",
     "output_type": "stream",
     "text": [
      "Expected offset: 49095 pre-window: 49095 | -30.597335445102424 post-window: 49095 | -30.59723982857856\n"
     ]
    },
    {
     "name": "stderr",
     "output_type": "stream",
     "text": [
      "91it [00:41,  2.18it/s]"
     ]
    },
    {
     "name": "stdout",
     "output_type": "stream",
     "text": [
      "Expected offset: 36170 pre-window: 36171 | -20.83409493425423 post-window: 36171 | -20.83383450969521\n",
      "Expected offset: 26404 pre-window: 26405 | -12.721876340201561 post-window: 26405 | -12.721518542461048\n"
     ]
    },
    {
     "name": "stderr",
     "output_type": "stream",
     "text": [
      "93it [00:42,  2.44it/s]"
     ]
    },
    {
     "name": "stdout",
     "output_type": "stream",
     "text": [
      "Expected offset: 196633 pre-window: 196633 | -29.201468664030667 post-window: 196633 | -29.201468664030667\n"
     ]
    },
    {
     "name": "stderr",
     "output_type": "stream",
     "text": [
      "94it [00:43,  2.27it/s]"
     ]
    },
    {
     "name": "stdout",
     "output_type": "stream",
     "text": [
      "Expected offset: 51418 pre-window: 51419 | -8.927149977394503 post-window: 51419 | -8.927038388717216\n"
     ]
    },
    {
     "name": "stderr",
     "output_type": "stream",
     "text": [
      "95it [00:43,  2.46it/s]"
     ]
    },
    {
     "name": "stdout",
     "output_type": "stream",
     "text": [
      "Expected offset: 11114 pre-window: 11114 | -16.660939815707465 post-window: 11114 | -16.660887750351893\n"
     ]
    },
    {
     "name": "stderr",
     "output_type": "stream",
     "text": [
      "96it [00:43,  2.26it/s]"
     ]
    },
    {
     "name": "stdout",
     "output_type": "stream",
     "text": [
      "Expected offset: 27882 pre-window: 27883 | -23.963764439172287 post-window: 27883 | -23.963090467775203\n"
     ]
    },
    {
     "name": "stderr",
     "output_type": "stream",
     "text": [
      "97it [00:44,  2.24it/s]"
     ]
    },
    {
     "name": "stdout",
     "output_type": "stream",
     "text": [
      "Expected offset: 70927 pre-window: 70927 | -46.56196141145589 post-window: 70927 | -46.56196141145589\n"
     ]
    },
    {
     "name": "stderr",
     "output_type": "stream",
     "text": [
      "98it [00:44,  2.28it/s]"
     ]
    },
    {
     "name": "stdout",
     "output_type": "stream",
     "text": [
      "Expected offset: 27513 pre-window: 27513 | -25.196688936786515 post-window: 27513 | -25.196688936786515\n"
     ]
    },
    {
     "name": "stderr",
     "output_type": "stream",
     "text": [
      "99it [00:45,  2.22it/s]"
     ]
    },
    {
     "name": "stdout",
     "output_type": "stream",
     "text": [
      "Expected offset: 21351 pre-window: 21352 | -41.00881117394155 post-window: 21352 | -41.008298567005674\n"
     ]
    },
    {
     "name": "stderr",
     "output_type": "stream",
     "text": [
      "100it [00:45,  2.20it/s]"
     ]
    },
    {
     "name": "stdout",
     "output_type": "stream",
     "text": [
      "Expected offset: 71408 pre-window: 71408 | -38.427749460813374 post-window: 71408 | -38.427749460813374\n"
     ]
    },
    {
     "name": "stderr",
     "output_type": "stream",
     "text": [
      "101it [00:46,  2.24it/s]"
     ]
    },
    {
     "name": "stdout",
     "output_type": "stream",
     "text": [
      "Expected offset: 30896 pre-window: 30897 | -13.036811975829735 post-window: 30897 | -13.036445320649028\n"
     ]
    },
    {
     "name": "stderr",
     "output_type": "stream",
     "text": [
      "102it [00:46,  2.25it/s]"
     ]
    },
    {
     "name": "stdout",
     "output_type": "stream",
     "text": [
      "Expected offset: 22357 pre-window: 22357 | -25.77366086392017 post-window: 22357 | -25.77358032135582\n"
     ]
    },
    {
     "name": "stderr",
     "output_type": "stream",
     "text": [
      "103it [00:47,  2.27it/s]"
     ]
    },
    {
     "name": "stdout",
     "output_type": "stream",
     "text": [
      "Expected offset: 19402 pre-window: 19403 | -32.238728159256674 post-window: 19403 | -32.238325177673325\n"
     ]
    },
    {
     "name": "stderr",
     "output_type": "stream",
     "text": [
      "104it [00:47,  2.27it/s]"
     ]
    },
    {
     "name": "stdout",
     "output_type": "stream",
     "text": [
      "Expected offset: 23192 pre-window: 23192 | -41.49706644452038 post-window: 23192 | -41.49706644452038\n"
     ]
    },
    {
     "name": "stderr",
     "output_type": "stream",
     "text": [
      "105it [00:47,  2.28it/s]"
     ]
    },
    {
     "name": "stdout",
     "output_type": "stream",
     "text": [
      "Expected offset: 49212 pre-window: 49212 | -33.71466491632857 post-window: 49212 | -33.71466491632857\n"
     ]
    },
    {
     "name": "stderr",
     "output_type": "stream",
     "text": [
      "106it [00:48,  2.65it/s]"
     ]
    },
    {
     "name": "stdout",
     "output_type": "stream",
     "text": [
      "Expected offset: 66819 pre-window: 66819 | -41.54808013009557 post-window: 66819 | -41.54795029254803\n"
     ]
    },
    {
     "name": "stderr",
     "output_type": "stream",
     "text": [
      "107it [00:48,  2.60it/s]"
     ]
    },
    {
     "name": "stdout",
     "output_type": "stream",
     "text": [
      "Expected offset: 28649 pre-window: 28650 | -35.743030391219655 post-window: 28650 | -35.74202513262642\n"
     ]
    },
    {
     "name": "stderr",
     "output_type": "stream",
     "text": [
      "108it [00:48,  2.44it/s]"
     ]
    },
    {
     "name": "stdout",
     "output_type": "stream",
     "text": [
      "Expected offset: 22100 pre-window: 22101 | -24.731762057380674 post-window: 22101 | -24.731452912287118\n"
     ]
    },
    {
     "name": "stderr",
     "output_type": "stream",
     "text": [
      "109it [00:49,  2.49it/s]"
     ]
    },
    {
     "name": "stdout",
     "output_type": "stream",
     "text": [
      "Expected offset: 17985 pre-window: 17985 | -32.720539812343524 post-window: 17985 | -32.720539812343524\n"
     ]
    },
    {
     "name": "stderr",
     "output_type": "stream",
     "text": [
      "110it [00:49,  2.37it/s]"
     ]
    },
    {
     "name": "stdout",
     "output_type": "stream",
     "text": [
      "Expected offset: 26024 pre-window: 26024 | -13.8612736492756 post-window: 26024 | -13.861230332863126\n"
     ]
    },
    {
     "name": "stderr",
     "output_type": "stream",
     "text": [
      "111it [00:50,  2.33it/s]"
     ]
    },
    {
     "name": "stdout",
     "output_type": "stream",
     "text": [
      "Expected offset: 54414 pre-window: 54415 | -33.62609337976277 post-window: 54415 | -33.62567305622255\n"
     ]
    },
    {
     "name": "stderr",
     "output_type": "stream",
     "text": [
      "112it [00:50,  2.36it/s]"
     ]
    },
    {
     "name": "stdout",
     "output_type": "stream",
     "text": [
      "Expected offset: 40828 pre-window: 40828 | -34.431368369329796 post-window: 40828 | -34.43126077147176\n"
     ]
    },
    {
     "name": "stderr",
     "output_type": "stream",
     "text": [
      "113it [00:51,  2.35it/s]"
     ]
    },
    {
     "name": "stdout",
     "output_type": "stream",
     "text": [
      "Expected offset: 40892 pre-window: 40892 | -17.503808234334187 post-window: 40892 | -17.503808234334187\n"
     ]
    },
    {
     "name": "stderr",
     "output_type": "stream",
     "text": [
      "114it [00:51,  2.29it/s]"
     ]
    },
    {
     "name": "stdout",
     "output_type": "stream",
     "text": [
      "Expected offset: 18053 pre-window: 18053 | -20.595206886559815 post-window: 18053 | -20.595206886559815\n"
     ]
    },
    {
     "name": "stderr",
     "output_type": "stream",
     "text": [
      "115it [00:52,  2.30it/s]"
     ]
    },
    {
     "name": "stdout",
     "output_type": "stream",
     "text": [
      "Expected offset: 22357 pre-window: 22358 | -22.502864957155186 post-window: 22358 | -22.50258367310125\n"
     ]
    },
    {
     "name": "stderr",
     "output_type": "stream",
     "text": [
      "116it [00:52,  2.30it/s]"
     ]
    },
    {
     "name": "stdout",
     "output_type": "stream",
     "text": [
      "Expected offset: 11178 pre-window: 11179 | -34.171378513539565 post-window: 11179 | -34.17095137397777\n"
     ]
    },
    {
     "name": "stderr",
     "output_type": "stream",
     "text": [
      "117it [00:52,  2.22it/s]"
     ]
    },
    {
     "name": "stdout",
     "output_type": "stream",
     "text": [
      "Expected offset: 23155 pre-window: 23155 | -25.825305521108596 post-window: 23155 | -25.825305521108596\n"
     ]
    },
    {
     "name": "stderr",
     "output_type": "stream",
     "text": [
      "118it [00:53,  2.22it/s]"
     ]
    },
    {
     "name": "stdout",
     "output_type": "stream",
     "text": [
      "Expected offset: 51690 pre-window: 51691 | -39.25289176271511 post-window: 51691 | -39.25240110463469\n"
     ]
    },
    {
     "name": "stderr",
     "output_type": "stream",
     "text": [
      "119it [00:53,  2.59it/s]"
     ]
    },
    {
     "name": "stdout",
     "output_type": "stream",
     "text": [
      "Expected offset: 45678 pre-window: 45678 | -17.943528508343544 post-window: 45678 | -17.943528508343544\n"
     ]
    },
    {
     "name": "stderr",
     "output_type": "stream",
     "text": [
      "120it [00:54,  2.50it/s]"
     ]
    },
    {
     "name": "stdout",
     "output_type": "stream",
     "text": [
      "Expected offset: 14840 pre-window: 14841 | -14.159100165286365 post-window: 14841 | -14.158923177640473\n"
     ]
    },
    {
     "name": "stderr",
     "output_type": "stream",
     "text": [
      "121it [00:54,  2.38it/s]"
     ]
    },
    {
     "name": "stdout",
     "output_type": "stream",
     "text": [
      "Expected offset: 13910 pre-window: 13910 | -30.52819133852918 post-window: 13910 | -30.52819133852918\n"
     ]
    },
    {
     "name": "stderr",
     "output_type": "stream",
     "text": [
      "122it [00:55,  2.28it/s]"
     ]
    },
    {
     "name": "stdout",
     "output_type": "stream",
     "text": [
      "Expected offset: 76868 pre-window: 76869 | -46.30660637485839 post-window: 76869 | -46.30602754589639\n"
     ]
    },
    {
     "name": "stderr",
     "output_type": "stream",
     "text": [
      "123it [00:55,  2.22it/s]"
     ]
    },
    {
     "name": "stdout",
     "output_type": "stream",
     "text": [
      "Expected offset: 110470 pre-window: 110470 | -19.425814462195593 post-window: 110470 | -19.425814462195593\n"
     ]
    },
    {
     "name": "stderr",
     "output_type": "stream",
     "text": [
      "124it [00:55,  2.25it/s]"
     ]
    },
    {
     "name": "stdout",
     "output_type": "stream",
     "text": [
      "Expected offset: 18566 pre-window: 18567 | -15.004745956008918 post-window: 18567 | -15.004323953463345\n"
     ]
    },
    {
     "name": "stderr",
     "output_type": "stream",
     "text": [
      "125it [00:56,  2.20it/s]"
     ]
    },
    {
     "name": "stdout",
     "output_type": "stream",
     "text": [
      "Expected offset: 13716 pre-window: 13717 | -35.09225776288637 post-window: 13717 | -35.0918191124059\n"
     ]
    },
    {
     "name": "stderr",
     "output_type": "stream",
     "text": [
      "126it [00:56,  2.10it/s]"
     ]
    },
    {
     "name": "stdout",
     "output_type": "stream",
     "text": [
      "Expected offset: 48313 pre-window: 48313 | -12.068007845092595 post-window: 48313 | -12.067970132627003\n"
     ]
    },
    {
     "name": "stderr",
     "output_type": "stream",
     "text": [
      "127it [00:57,  2.07it/s]"
     ]
    },
    {
     "name": "stdout",
     "output_type": "stream",
     "text": [
      "Expected offset: 12334 pre-window: 12335 | -20.922101569102704 post-window: 12335 | -20.921840044467622\n"
     ]
    },
    {
     "name": "stderr",
     "output_type": "stream",
     "text": [
      "128it [00:57,  2.18it/s]"
     ]
    },
    {
     "name": "stdout",
     "output_type": "stream",
     "text": [
      "Expected offset: 34307 pre-window: 34307 | -12.721139000843234 post-window: 34307 | -12.721139000843234\n"
     ]
    },
    {
     "name": "stderr",
     "output_type": "stream",
     "text": [
      "129it [00:58,  2.04it/s]"
     ]
    },
    {
     "name": "stdout",
     "output_type": "stream",
     "text": [
      "Expected offset: 31223 pre-window: 31223 | -21.071009121833086 post-window: 31223 | -21.071009121833086\n"
     ]
    },
    {
     "name": "stderr",
     "output_type": "stream",
     "text": [
      "130it [00:58,  2.06it/s]"
     ]
    },
    {
     "name": "stdout",
     "output_type": "stream",
     "text": [
      "Expected offset: 18231 pre-window: 18231 | -38.24241546478021 post-window: 18231 | -38.24229595741861\n"
     ]
    },
    {
     "name": "stderr",
     "output_type": "stream",
     "text": [
      "132it [00:59,  2.63it/s]"
     ]
    },
    {
     "name": "stdout",
     "output_type": "stream",
     "text": [
      "Expected offset: 31696 pre-window: 31696 | -10.808013053715856 post-window: 31696 | -10.808013053715856\n",
      "Expected offset: 34491 pre-window: 34492 | -17.765846905860894 post-window: 34492 | -17.76534724844313\n"
     ]
    },
    {
     "name": "stderr",
     "output_type": "stream",
     "text": [
      "133it [00:59,  2.44it/s]"
     ]
    },
    {
     "name": "stdout",
     "output_type": "stream",
     "text": [
      "Expected offset: 26236 pre-window: 26236 | -40.7378737798692 post-window: 26236 | -40.7378737798692\n"
     ]
    },
    {
     "name": "stderr",
     "output_type": "stream",
     "text": [
      "134it [01:00,  2.24it/s]"
     ]
    },
    {
     "name": "stdout",
     "output_type": "stream",
     "text": [
      "Expected offset: 28629 pre-window: 28629 | -34.958334065982335 post-window: 28629 | -34.958334065982335\n"
     ]
    },
    {
     "name": "stderr",
     "output_type": "stream",
     "text": [
      "135it [01:00,  2.22it/s]"
     ]
    },
    {
     "name": "stdout",
     "output_type": "stream",
     "text": [
      "Expected offset: 42106 pre-window: 42107 | -26.415442702578268 post-window: 42107 | -26.415112511608182\n"
     ]
    },
    {
     "name": "stderr",
     "output_type": "stream",
     "text": [
      "136it [01:01,  2.23it/s]"
     ]
    },
    {
     "name": "stdout",
     "output_type": "stream",
     "text": [
      "Expected offset: 45384 pre-window: 45384 | -17.74389323994902 post-window: 45384 | -17.743837790369284\n"
     ]
    },
    {
     "name": "stderr",
     "output_type": "stream",
     "text": [
      "137it [01:01,  2.21it/s]"
     ]
    },
    {
     "name": "stdout",
     "output_type": "stream",
     "text": [
      "Expected offset: 15015 pre-window: 15016 | -21.884079229627933 post-window: 15016 | -21.883463748554842\n"
     ]
    },
    {
     "name": "stderr",
     "output_type": "stream",
     "text": [
      "138it [01:02,  2.18it/s]"
     ]
    },
    {
     "name": "stdout",
     "output_type": "stream",
     "text": [
      "Expected offset: 40054 pre-window: 40054 | -20.874535637511865 post-window: 40054 | -20.874535637511865\n"
     ]
    },
    {
     "name": "stderr",
     "output_type": "stream",
     "text": [
      "139it [01:02,  2.09it/s]"
     ]
    },
    {
     "name": "stdout",
     "output_type": "stream",
     "text": [
      "Expected offset: 20001 pre-window: 20002 | -13.12278345946254 post-window: 20002 | -13.12261942569451\n"
     ]
    },
    {
     "name": "stderr",
     "output_type": "stream",
     "text": [
      "140it [01:03,  2.12it/s]"
     ]
    },
    {
     "name": "stdout",
     "output_type": "stream",
     "text": [
      "Expected offset: 28214 pre-window: 28215 | -16.923652497138107 post-window: 28215 | -16.923176526105\n"
     ]
    },
    {
     "name": "stderr",
     "output_type": "stream",
     "text": [
      "141it [01:03,  2.10it/s]"
     ]
    },
    {
     "name": "stdout",
     "output_type": "stream",
     "text": [
      "Expected offset: 17539 pre-window: 17539 | -33.96773196258731 post-window: 17539 | -33.96773196258731\n"
     ]
    },
    {
     "name": "stderr",
     "output_type": "stream",
     "text": [
      "142it [01:04,  2.14it/s]"
     ]
    },
    {
     "name": "stdout",
     "output_type": "stream",
     "text": [
      "Expected offset: 21318 pre-window: 21318 | -13.933318781644935 post-window: 21318 | -13.933275240091776\n"
     ]
    },
    {
     "name": "stderr",
     "output_type": "stream",
     "text": [
      "143it [01:04,  2.13it/s]"
     ]
    },
    {
     "name": "stdout",
     "output_type": "stream",
     "text": [
      "Expected offset: 67308 pre-window: 67309 | -27.325308477241013 post-window: 67309 | -27.32496691301983\n"
     ]
    },
    {
     "name": "stderr",
     "output_type": "stream",
     "text": [
      "144it [01:05,  1.89it/s]"
     ]
    },
    {
     "name": "stdout",
     "output_type": "stream",
     "text": [
      "Expected offset: 44329 pre-window: 44329 | -27.13967746678481 post-window: 44329 | -27.13967746678481\n"
     ]
    },
    {
     "name": "stderr",
     "output_type": "stream",
     "text": [
      "145it [01:05,  1.93it/s]"
     ]
    },
    {
     "name": "stdout",
     "output_type": "stream",
     "text": [
      "Expected offset: 18818 pre-window: 18818 | -25.21635193965516 post-window: 18818 | -25.21635193965516\n"
     ]
    },
    {
     "name": "stderr",
     "output_type": "stream",
     "text": [
      "146it [01:06,  2.36it/s]"
     ]
    },
    {
     "name": "stdout",
     "output_type": "stream",
     "text": [
      "Expected offset: 125639 pre-window: 125640 | -25.854582904390373 post-window: 125640 | -25.85425972412395\n"
     ]
    },
    {
     "name": "stderr",
     "output_type": "stream",
     "text": [
      "147it [01:06,  2.64it/s]"
     ]
    },
    {
     "name": "stdout",
     "output_type": "stream",
     "text": [
      "Expected offset: 21070 pre-window: 21071 | -13.11187087008871 post-window: 21071 | -13.111706972727195\n"
     ]
    },
    {
     "name": "stderr",
     "output_type": "stream",
     "text": [
      "148it [01:06,  2.48it/s]"
     ]
    },
    {
     "name": "stdout",
     "output_type": "stream",
     "text": [
      "Expected offset: 19402 pre-window: 19402 | -20.520103717070135 post-window: 19402 | -20.520103717070135\n"
     ]
    },
    {
     "name": "stderr",
     "output_type": "stream",
     "text": [
      "149it [01:07,  2.40it/s]"
     ]
    },
    {
     "name": "stdout",
     "output_type": "stream",
     "text": [
      "Expected offset: 58397 pre-window: 58398 | -22.688903180846427 post-window: 58398 | -22.688265064418022\n"
     ]
    },
    {
     "name": "stderr",
     "output_type": "stream",
     "text": [
      "150it [01:07,  2.32it/s]"
     ]
    },
    {
     "name": "stdout",
     "output_type": "stream",
     "text": [
      "Expected offset: 23290 pre-window: 23290 | -29.445380108901645 post-window: 23290 | -29.445380108901645\n"
     ]
    },
    {
     "name": "stderr",
     "output_type": "stream",
     "text": [
      "151it [01:08,  2.28it/s]"
     ]
    },
    {
     "name": "stdout",
     "output_type": "stream",
     "text": [
      "Expected offset: 19471 pre-window: 19471 | -32.101517544045855 post-window: 19471 | -32.101517544045855\n"
     ]
    },
    {
     "name": "stderr",
     "output_type": "stream",
     "text": [
      "152it [01:08,  2.25it/s]"
     ]
    },
    {
     "name": "stdout",
     "output_type": "stream",
     "text": [
      "Expected offset: 28905 pre-window: 28906 | -41.90526589577057 post-window: 28906 | -41.904742083220704\n"
     ]
    },
    {
     "name": "stderr",
     "output_type": "stream",
     "text": [
      "153it [01:09,  2.26it/s]"
     ]
    },
    {
     "name": "stdout",
     "output_type": "stream",
     "text": [
      "Expected offset: 43173 pre-window: 43173 | -13.634051002900234 post-window: 43173 | -13.634051002900234\n"
     ]
    },
    {
     "name": "stderr",
     "output_type": "stream",
     "text": [
      "154it [01:09,  2.23it/s]"
     ]
    },
    {
     "name": "stdout",
     "output_type": "stream",
     "text": [
      "Expected offset: 11564 pre-window: 11564 | -7.856229906953011 post-window: 11564 | -7.856229906953011\n"
     ]
    },
    {
     "name": "stderr",
     "output_type": "stream",
     "text": [
      "155it [01:09,  2.26it/s]"
     ]
    },
    {
     "name": "stdout",
     "output_type": "stream",
     "text": [
      "Expected offset: 7837 pre-window: 7838 | -14.080209047106596 post-window: 7838 | -14.080033045593519\n"
     ]
    },
    {
     "name": "stderr",
     "output_type": "stream",
     "text": [
      "156it [01:10,  2.23it/s]"
     ]
    },
    {
     "name": "stdout",
     "output_type": "stream",
     "text": [
      "Expected offset: 19594 pre-window: 19595 | -14.162273675034632 post-window: 19595 | -14.162096647720116\n"
     ]
    },
    {
     "name": "stderr",
     "output_type": "stream",
     "text": [
      "157it [01:10,  2.17it/s]"
     ]
    },
    {
     "name": "stdout",
     "output_type": "stream",
     "text": [
      "Expected offset: 16896 pre-window: 16897 | -15.8525868761139 post-window: 16897 | -15.852388720016426\n"
     ]
    },
    {
     "name": "stderr",
     "output_type": "stream",
     "text": [
      "158it [01:11,  2.19it/s]"
     ]
    },
    {
     "name": "stdout",
     "output_type": "stream",
     "text": [
      "Expected offset: 16446 pre-window: 16447 | -37.69227402184272 post-window: 16447 | -37.69180287136214\n"
     ]
    },
    {
     "name": "stderr",
     "output_type": "stream",
     "text": [
      "159it [01:11,  2.13it/s]"
     ]
    },
    {
     "name": "stdout",
     "output_type": "stream",
     "text": [
      "Expected offset: 37455 pre-window: 37455 | -20.816238192692563 post-window: 37455 | -20.816238192692563\n"
     ]
    },
    {
     "name": "stderr",
     "output_type": "stream",
     "text": [
      "161it [01:12,  2.57it/s]"
     ]
    },
    {
     "name": "stdout",
     "output_type": "stream",
     "text": [
      "Expected offset: 15989 pre-window: 15989 | -16.076859085085534 post-window: 15989 | -16.076808844979393\n",
      "Expected offset: 21023 pre-window: 21024 | -37.209055868529866 post-window: 21024 | -37.208009378549896\n"
     ]
    },
    {
     "name": "stderr",
     "output_type": "stream",
     "text": [
      "162it [01:12,  2.48it/s]"
     ]
    },
    {
     "name": "stdout",
     "output_type": "stream",
     "text": [
      "Expected offset: 22092 pre-window: 22093 | -33.32549269077041 post-window: 22093 | -33.324555424468855\n"
     ]
    },
    {
     "name": "stderr",
     "output_type": "stream",
     "text": [
      "163it [01:13,  2.35it/s]"
     ]
    },
    {
     "name": "stdout",
     "output_type": "stream",
     "text": [
      "Expected offset: 47971 pre-window: 47971 | -33.084146013888926 post-window: 47971 | -33.084146013888926\n"
     ]
    },
    {
     "name": "stderr",
     "output_type": "stream",
     "text": [
      "164it [01:13,  2.69it/s]"
     ]
    },
    {
     "name": "stdout",
     "output_type": "stream",
     "text": [
      "Expected offset: 36639 pre-window: 36640 | -32.020658446274396 post-window: 36640 | -32.0197578779199\n"
     ]
    },
    {
     "name": "stderr",
     "output_type": "stream",
     "text": [
      "165it [01:14,  2.41it/s]"
     ]
    },
    {
     "name": "stdout",
     "output_type": "stream",
     "text": [
      "Expected offset: 15744 pre-window: 15744 | -4.240508922162384 post-window: 15744 | -4.240508922162384\n"
     ]
    },
    {
     "name": "stderr",
     "output_type": "stream",
     "text": [
      "166it [01:14,  2.31it/s]"
     ]
    },
    {
     "name": "stdout",
     "output_type": "stream",
     "text": [
      "Expected offset: 17406 pre-window: 17407 | -18.5154279060429 post-window: 17407 | -18.515196464640585\n"
     ]
    },
    {
     "name": "stderr",
     "output_type": "stream",
     "text": [
      "167it [01:14,  2.59it/s]"
     ]
    },
    {
     "name": "stdout",
     "output_type": "stream",
     "text": [
      "Expected offset: 15961 pre-window: 15961 | -13.258952362046143 post-window: 15961 | -13.258952362046143\n"
     ]
    },
    {
     "name": "stderr",
     "output_type": "stream",
     "text": [
      "168it [01:15,  2.44it/s]"
     ]
    },
    {
     "name": "stdout",
     "output_type": "stream",
     "text": [
      "Expected offset: 10637 pre-window: 10638 | -18.35319464603806 post-window: 10638 | -18.352678469697402\n"
     ]
    },
    {
     "name": "stderr",
     "output_type": "stream",
     "text": [
      "169it [01:16,  2.19it/s]"
     ]
    },
    {
     "name": "stdout",
     "output_type": "stream",
     "text": [
      "Expected offset: 282322 pre-window: 282322 | -12.231937770632888 post-window: 282322 | -12.231937770632888\n"
     ]
    },
    {
     "name": "stderr",
     "output_type": "stream",
     "text": [
      "170it [01:16,  1.99it/s]"
     ]
    },
    {
     "name": "stdout",
     "output_type": "stream",
     "text": [
      "Expected offset: 27695 pre-window: 27696 | -47.466708218209185 post-window: 27696 | -47.46611488806478\n"
     ]
    },
    {
     "name": "stderr",
     "output_type": "stream",
     "text": [
      "171it [01:17,  1.95it/s]"
     ]
    },
    {
     "name": "stdout",
     "output_type": "stream",
     "text": [
      "Expected offset: 34143 pre-window: 34144 | -38.58886605863534 post-window: 34144 | -38.58778076203949\n"
     ]
    },
    {
     "name": "stderr",
     "output_type": "stream",
     "text": [
      "172it [01:17,  2.02it/s]"
     ]
    },
    {
     "name": "stdout",
     "output_type": "stream",
     "text": [
      "Expected offset: 19916 pre-window: 19916 | -20.302642286808005 post-window: 19916 | -20.30257884114999\n"
     ]
    },
    {
     "name": "stderr",
     "output_type": "stream",
     "text": [
      "173it [01:18,  2.08it/s]"
     ]
    },
    {
     "name": "stdout",
     "output_type": "stream",
     "text": [
      "Expected offset: 11628 pre-window: 11629 | -22.850025949465945 post-window: 11629 | -22.849740325926728\n"
     ]
    },
    {
     "name": "stderr",
     "output_type": "stream",
     "text": [
      "174it [01:18,  2.13it/s]"
     ]
    },
    {
     "name": "stdout",
     "output_type": "stream",
     "text": [
      "Expected offset: 18374 pre-window: 18374 | -53.69139113822841 post-window: 18374 | -53.69122335289327\n"
     ]
    },
    {
     "name": "stderr",
     "output_type": "stream",
     "text": [
      "175it [01:18,  2.16it/s]"
     ]
    },
    {
     "name": "stdout",
     "output_type": "stream",
     "text": [
      "Expected offset: 33057 pre-window: 33057 | -20.263195106105815 post-window: 33057 | -20.263195106105815\n"
     ]
    },
    {
     "name": "stderr",
     "output_type": "stream",
     "text": [
      "176it [01:19,  2.15it/s]"
     ]
    },
    {
     "name": "stdout",
     "output_type": "stream",
     "text": [
      "Expected offset: 92423 pre-window: 92424 | -42.78745137937173 post-window: 92424 | -42.786916539572246\n"
     ]
    },
    {
     "name": "stderr",
     "output_type": "stream",
     "text": [
      "177it [01:19,  2.17it/s]"
     ]
    },
    {
     "name": "stdout",
     "output_type": "stream",
     "text": [
      "Expected offset: 67063 pre-window: 67064 | -27.015706359508272 post-window: 67064 | -27.01536866528937\n"
     ]
    },
    {
     "name": "stderr",
     "output_type": "stream",
     "text": [
      "178it [01:20,  2.11it/s]"
     ]
    },
    {
     "name": "stdout",
     "output_type": "stream",
     "text": [
      "Expected offset: 42039 pre-window: 42040 | -25.919189102862163 post-window: 42040 | -25.918865115023305\n"
     ]
    },
    {
     "name": "stderr",
     "output_type": "stream",
     "text": [
      "179it [01:20,  2.15it/s]"
     ]
    },
    {
     "name": "stdout",
     "output_type": "stream",
     "text": [
      "Expected offset: 62736 pre-window: 62736 | -46.89209622139682 post-window: 62736 | -46.89209622139682\n"
     ]
    },
    {
     "name": "stderr",
     "output_type": "stream",
     "text": [
      "181it [01:21,  2.84it/s]"
     ]
    },
    {
     "name": "stdout",
     "output_type": "stream",
     "text": [
      "Expected offset: 57314 pre-window: 57314 | -17.00183355707215 post-window: 57314 | -17.00183355707215\n",
      "Expected offset: 22164 pre-window: 22165 | -15.898510896354413 post-window: 22165 | -15.89806375702338\n"
     ]
    },
    {
     "name": "stderr",
     "output_type": "stream",
     "text": [
      "182it [01:21,  2.46it/s]"
     ]
    },
    {
     "name": "stdout",
     "output_type": "stream",
     "text": [
      "Expected offset: 15617 pre-window: 15617 | -32.879358283616355 post-window: 15617 | -32.879358283616355\n"
     ]
    },
    {
     "name": "stderr",
     "output_type": "stream",
     "text": [
      "183it [01:22,  2.34it/s]"
     ]
    },
    {
     "name": "stdout",
     "output_type": "stream",
     "text": [
      "Expected offset: 55952 pre-window: 55953 | -37.54552438983659 post-window: 55953 | -37.54505507371494\n"
     ]
    },
    {
     "name": "stderr",
     "output_type": "stream",
     "text": [
      "184it [01:22,  2.27it/s]"
     ]
    },
    {
     "name": "stdout",
     "output_type": "stream",
     "text": [
      "Expected offset: 34799 pre-window: 34799 | -27.141212929237167 post-window: 34799 | -27.141212929237167\n"
     ]
    },
    {
     "name": "stderr",
     "output_type": "stream",
     "text": [
      "185it [01:23,  2.24it/s]"
     ]
    },
    {
     "name": "stdout",
     "output_type": "stream",
     "text": [
      "Expected offset: 30345 pre-window: 30346 | -29.977336538054338 post-window: 30346 | -29.97696182368958\n"
     ]
    },
    {
     "name": "stderr",
     "output_type": "stream",
     "text": [
      "186it [01:23,  2.25it/s]"
     ]
    },
    {
     "name": "stdout",
     "output_type": "stream",
     "text": [
      "Expected offset: 47477 pre-window: 47477 | -45.90693473021394 post-window: 47477 | -45.90693473021394\n"
     ]
    },
    {
     "name": "stderr",
     "output_type": "stream",
     "text": [
      "187it [01:24,  2.21it/s]"
     ]
    },
    {
     "name": "stdout",
     "output_type": "stream",
     "text": [
      "Expected offset: 34949 pre-window: 34950 | -41.55447258869812 post-window: 34950 | -41.553953161037185\n"
     ]
    },
    {
     "name": "stderr",
     "output_type": "stream",
     "text": [
      "188it [01:24,  2.18it/s]"
     ]
    },
    {
     "name": "stdout",
     "output_type": "stream",
     "text": [
      "Expected offset: 60326 pre-window: 60327 | -32.89251827946081 post-window: 60327 | -32.89210712555203\n"
     ]
    },
    {
     "name": "stderr",
     "output_type": "stream",
     "text": [
      "189it [01:25,  2.14it/s]"
     ]
    },
    {
     "name": "stdout",
     "output_type": "stream",
     "text": [
      "Expected offset: 36108 pre-window: 36108 | -44.21559409453978 post-window: 36108 | -44.21559409453978\n"
     ]
    },
    {
     "name": "stderr",
     "output_type": "stream",
     "text": [
      "190it [01:25,  2.18it/s]"
     ]
    },
    {
     "name": "stdout",
     "output_type": "stream",
     "text": [
      "Expected offset: 27944 pre-window: 27944 | -28.647350797663165 post-window: 27944 | -28.647261274831802\n"
     ]
    },
    {
     "name": "stderr",
     "output_type": "stream",
     "text": [
      "191it [01:26,  2.20it/s]"
     ]
    },
    {
     "name": "stdout",
     "output_type": "stream",
     "text": [
      "Expected offset: 17439 pre-window: 17440 | -19.284789186390615 post-window: 17440 | -19.28424680932196\n"
     ]
    },
    {
     "name": "stderr",
     "output_type": "stream",
     "text": [
      "192it [01:26,  2.20it/s]"
     ]
    },
    {
     "name": "stdout",
     "output_type": "stream",
     "text": [
      "Expected offset: 17344 pre-window: 17344 | -21.518152114650963 post-window: 17344 | -21.51808487053067\n"
     ]
    },
    {
     "name": "stderr",
     "output_type": "stream",
     "text": [
      "193it [01:26,  2.23it/s]"
     ]
    },
    {
     "name": "stdout",
     "output_type": "stream",
     "text": [
      "Expected offset: 20017 pre-window: 20018 | -36.834185970888925 post-window: 20018 | -36.83372554644195\n"
     ]
    },
    {
     "name": "stderr",
     "output_type": "stream",
     "text": [
      "194it [01:27,  2.27it/s]"
     ]
    },
    {
     "name": "stdout",
     "output_type": "stream",
     "text": [
      "Expected offset: 33374 pre-window: 33374 | -33.14816050457898 post-window: 33374 | -33.14805691673926\n"
     ]
    },
    {
     "name": "stderr",
     "output_type": "stream",
     "text": [
      "195it [01:27,  2.12it/s]"
     ]
    },
    {
     "name": "stdout",
     "output_type": "stream",
     "text": [
      "Expected offset: 19435 pre-window: 19436 | -38.55362916514579 post-window: 19436 | -38.55314724779322\n"
     ]
    },
    {
     "name": "stderr",
     "output_type": "stream",
     "text": [
      "196it [01:28,  2.12it/s]"
     ]
    },
    {
     "name": "stdout",
     "output_type": "stream",
     "text": [
      "Expected offset: 29295 pre-window: 29296 | -16.778686014757415 post-window: 29296 | -16.77821412084929\n"
     ]
    },
    {
     "name": "stderr",
     "output_type": "stream",
     "text": [
      "197it [01:28,  2.15it/s]"
     ]
    },
    {
     "name": "stdout",
     "output_type": "stream",
     "text": [
      "Expected offset: 17282 pre-window: 17282 | -16.455087057948006 post-window: 17282 | -16.455035635881295\n"
     ]
    },
    {
     "name": "stderr",
     "output_type": "stream",
     "text": [
      "198it [01:29,  2.16it/s]"
     ]
    },
    {
     "name": "stdout",
     "output_type": "stream",
     "text": [
      "Expected offset: 16511 pre-window: 16511 | -42.025418097605794 post-window: 16511 | -42.025418097605794\n"
     ]
    },
    {
     "name": "stderr",
     "output_type": "stream",
     "text": [
      "199it [01:29,  2.20it/s]"
     ]
    },
    {
     "name": "stdout",
     "output_type": "stream",
     "text": [
      "Expected offset: 51611 pre-window: 51611 | -36.99675650160333 post-window: 51611 | -36.99675650160333\n"
     ]
    },
    {
     "name": "stderr",
     "output_type": "stream",
     "text": [
      "200it [01:30,  2.22it/s]"
     ]
    },
    {
     "name": "stdout",
     "output_type": "stream",
     "text": [
      "Expected offset: 33695 pre-window: 33696 | -32.023204119197786 post-window: 33696 | -32.0228038316481\n"
     ]
    },
    {
     "name": "stderr",
     "output_type": "stream",
     "text": [
      "201it [01:30,  2.16it/s]"
     ]
    },
    {
     "name": "stdout",
     "output_type": "stream",
     "text": [
      "Expected offset: 44083 pre-window: 44083 | -38.33052496876149 post-window: 44083 | -38.33052496876149\n"
     ]
    },
    {
     "name": "stderr",
     "output_type": "stream",
     "text": [
      "202it [01:31,  2.03it/s]"
     ]
    },
    {
     "name": "stdout",
     "output_type": "stream",
     "text": [
      "Expected offset: 138384 pre-window: 175222 | -36.598573826592464 post-window: 138366 | 0.16508914394504368\n",
      "Warning - windowed corr for line 00_16_51_Mayor Sunny Skies_Happy_Very Noisy_Here is our famous outdoor spa With the all-natural mud bath. pretty huh?\n",
      " low; using pre-window\n"
     ]
    },
    {
     "name": "stderr",
     "output_type": "stream",
     "text": [
      "203it [01:31,  1.95it/s]"
     ]
    },
    {
     "name": "stdout",
     "output_type": "stream",
     "text": [
      "Expected offset: 68550 pre-window: 68550 | -41.35239538225893 post-window: 68550 | -41.35239538225893\n"
     ]
    },
    {
     "name": "stderr",
     "output_type": "stream",
     "text": [
      "204it [01:32,  1.91it/s]"
     ]
    },
    {
     "name": "stdout",
     "output_type": "stream",
     "text": [
      "Expected offset: 33407 pre-window: 33408 | -30.21608748920025 post-window: 33408 | -30.215709790467255\n"
     ]
    },
    {
     "name": "stderr",
     "output_type": "stream",
     "text": [
      "205it [01:32,  1.88it/s]"
     ]
    },
    {
     "name": "stdout",
     "output_type": "stream",
     "text": [
      "Expected offset: 45238 pre-window: 45238 | -42.95281342637861 post-window: 45238 | -42.95281342637861\n"
     ]
    },
    {
     "name": "stderr",
     "output_type": "stream",
     "text": [
      "206it [01:33,  1.88it/s]"
     ]
    },
    {
     "name": "stdout",
     "output_type": "stream",
     "text": [
      "Expected offset: 39703 pre-window: 39704 | -23.14768031591779 post-window: 39704 | -23.147390971722245\n"
     ]
    },
    {
     "name": "stderr",
     "output_type": "stream",
     "text": [
      "207it [01:33,  2.18it/s]"
     ]
    },
    {
     "name": "stdout",
     "output_type": "stream",
     "text": [
      "Expected offset: 21255 pre-window: 21256 | -33.7481438789975 post-window: 21256 | -33.74719472579844\n"
     ]
    },
    {
     "name": "stderr",
     "output_type": "stream",
     "text": [
      "208it [01:34,  1.85it/s]"
     ]
    },
    {
     "name": "stdout",
     "output_type": "stream",
     "text": [
      "Expected offset: 52152 pre-window: 52152 | -16.26376110006951 post-window: 52152 | -16.26376110006951\n"
     ]
    },
    {
     "name": "stderr",
     "output_type": "stream",
     "text": [
      "209it [01:34,  1.84it/s]"
     ]
    },
    {
     "name": "stdout",
     "output_type": "stream",
     "text": [
      "Expected offset: 27023 pre-window: 27024 | -53.705083662768054 post-window: 27024 | -53.70441235341796\n"
     ]
    },
    {
     "name": "stderr",
     "output_type": "stream",
     "text": [
      "210it [01:35,  1.81it/s]"
     ]
    },
    {
     "name": "stdout",
     "output_type": "stream",
     "text": [
      "Expected offset: 30105 pre-window: 30106 | -30.138958401197105 post-window: 30106 | -30.138581666571685\n"
     ]
    },
    {
     "name": "stderr",
     "output_type": "stream",
     "text": [
      "211it [01:36,  1.81it/s]"
     ]
    },
    {
     "name": "stdout",
     "output_type": "stream",
     "text": [
      "Expected offset: 54544 pre-window: 54544 | -47.8732960375524 post-window: 54544 | -47.8732960375524\n"
     ]
    },
    {
     "name": "stderr",
     "output_type": "stream",
     "text": [
      "212it [01:36,  1.82it/s]"
     ]
    },
    {
     "name": "stdout",
     "output_type": "stream",
     "text": [
      "Expected offset: 33471 pre-window: 33472 | -26.037276895900057 post-window: 33472 | -26.03654460778521\n"
     ]
    },
    {
     "name": "stderr",
     "output_type": "stream",
     "text": [
      "213it [01:37,  1.80it/s]"
     ]
    },
    {
     "name": "stdout",
     "output_type": "stream",
     "text": [
      "Expected offset: 18759 pre-window: 18760 | -25.578529895739937 post-window: 18760 | -25.578210166114555\n"
     ]
    },
    {
     "name": "stderr",
     "output_type": "stream",
     "text": [
      "214it [01:37,  1.81it/s]"
     ]
    },
    {
     "name": "stdout",
     "output_type": "stream",
     "text": [
      "Expected offset: 17942 pre-window: 17942 | -49.43839898236564 post-window: 17942 | -49.43839898236564\n"
     ]
    },
    {
     "name": "stderr",
     "output_type": "stream",
     "text": [
      "215it [01:38,  1.81it/s]"
     ]
    },
    {
     "name": "stdout",
     "output_type": "stream",
     "text": [
      "Expected offset: 54719 pre-window: 54719 | -17.678031045552654 post-window: 54719 | -17.678031045552654\n"
     ]
    },
    {
     "name": "stderr",
     "output_type": "stream",
     "text": [
      "216it [01:38,  1.81it/s]"
     ]
    },
    {
     "name": "stdout",
     "output_type": "stream",
     "text": [
      "Expected offset: 36041 pre-window: 36042 | -16.498944286189513 post-window: 36042 | -16.498480259906863\n"
     ]
    },
    {
     "name": "stderr",
     "output_type": "stream",
     "text": [
      "217it [01:39,  1.81it/s]"
     ]
    },
    {
     "name": "stdout",
     "output_type": "stream",
     "text": [
      "Expected offset: 91485 pre-window: 91486 | -36.654325409375744 post-window: 91486 | -36.65386723317173\n"
     ]
    },
    {
     "name": "stderr",
     "output_type": "stream",
     "text": [
      "218it [01:39,  1.83it/s]"
     ]
    },
    {
     "name": "stdout",
     "output_type": "stream",
     "text": [
      "Expected offset: 69256 pre-window: 69257 | -8.273780036417845 post-window: 69257 | -8.273676614813777\n"
     ]
    },
    {
     "name": "stderr",
     "output_type": "stream",
     "text": [
      "219it [01:40,  1.91it/s]"
     ]
    },
    {
     "name": "stdout",
     "output_type": "stream",
     "text": [
      "Expected offset: 44456 pre-window: 44456 | -15.997909174414698 post-window: 44456 | -15.997859181026643\n"
     ]
    },
    {
     "name": "stderr",
     "output_type": "stream",
     "text": [
      "220it [01:40,  1.89it/s]"
     ]
    },
    {
     "name": "stdout",
     "output_type": "stream",
     "text": [
      "Expected offset: 37703 pre-window: 37704 | -40.559909394988125 post-window: 37704 | -40.55940239928942\n"
     ]
    },
    {
     "name": "stderr",
     "output_type": "stream",
     "text": [
      "221it [01:41,  2.30it/s]"
     ]
    },
    {
     "name": "stdout",
     "output_type": "stream",
     "text": [
      "Expected offset: 26800 pre-window: 26800 | -30.42150611911103 post-window: 26800 | -30.42141105205295\n"
     ]
    },
    {
     "name": "stderr",
     "output_type": "stream",
     "text": [
      "222it [01:41,  2.14it/s]"
     ]
    },
    {
     "name": "stdout",
     "output_type": "stream",
     "text": [
      "Expected offset: 63295 pre-window: 63296 | -27.354447276283736 post-window: 63296 | -27.35410534782984\n"
     ]
    },
    {
     "name": "stderr",
     "output_type": "stream",
     "text": [
      "223it [01:42,  2.06it/s]"
     ]
    },
    {
     "name": "stdout",
     "output_type": "stream",
     "text": [
      "Expected offset: 61469 pre-window: 61469 | -43.11263601327869 post-window: 61469 | -43.11263601327869\n"
     ]
    },
    {
     "name": "stderr",
     "output_type": "stream",
     "text": [
      "224it [01:42,  1.90it/s]"
     ]
    },
    {
     "name": "stdout",
     "output_type": "stream",
     "text": [
      "Expected offset: 37712 pre-window: 37712 | -43.65111925454375 post-window: 37712 | -43.65111925454375\n"
     ]
    },
    {
     "name": "stderr",
     "output_type": "stream",
     "text": [
      "225it [01:43,  1.91it/s]"
     ]
    },
    {
     "name": "stdout",
     "output_type": "stream",
     "text": [
      "Expected offset: 33946 pre-window: 33947 | -10.680901936911829 post-window: 33947 | -10.680601540769194\n"
     ]
    },
    {
     "name": "stderr",
     "output_type": "stream",
     "text": [
      "226it [01:43,  1.89it/s]"
     ]
    },
    {
     "name": "stdout",
     "output_type": "stream",
     "text": [
      "Expected offset: 13679 pre-window: 13680 | -26.571687801799566 post-window: 13680 | -26.571355657777946\n"
     ]
    },
    {
     "name": "stderr",
     "output_type": "stream",
     "text": [
      "227it [01:44,  1.86it/s]"
     ]
    },
    {
     "name": "stdout",
     "output_type": "stream",
     "text": [
      "Expected offset: 32037 pre-window: 32038 | -36.53662014969736 post-window: 32038 | -36.536163444799904\n"
     ]
    },
    {
     "name": "stderr",
     "output_type": "stream",
     "text": [
      "228it [01:44,  1.86it/s]"
     ]
    },
    {
     "name": "stdout",
     "output_type": "stream",
     "text": [
      "Expected offset: 86410 pre-window: 86410 | -18.725794865355756 post-window: 86410 | -18.725794865355756\n"
     ]
    },
    {
     "name": "stderr",
     "output_type": "stream",
     "text": [
      "229it [01:45,  1.85it/s]"
     ]
    },
    {
     "name": "stdout",
     "output_type": "stream",
     "text": [
      "Expected offset: 19594 pre-window: 19595 | -3.173614406758853 post-window: 19595 | -3.173574736826706\n"
     ]
    },
    {
     "name": "stderr",
     "output_type": "stream",
     "text": [
      "230it [01:46,  1.87it/s]"
     ]
    },
    {
     "name": "stdout",
     "output_type": "stream",
     "text": [
      "Expected offset: 10548 pre-window: 10549 | -38.353206824213956 post-window: 10549 | -38.352727412124985\n"
     ]
    },
    {
     "name": "stderr",
     "output_type": "stream",
     "text": [
      "231it [01:46,  1.84it/s]"
     ]
    },
    {
     "name": "stdout",
     "output_type": "stream",
     "text": [
      "Expected offset: 43935 pre-window: 43936 | -27.468257175280527 post-window: 43936 | -27.467484641411282\n"
     ]
    },
    {
     "name": "stderr",
     "output_type": "stream",
     "text": [
      "232it [01:47,  1.86it/s]"
     ]
    },
    {
     "name": "stdout",
     "output_type": "stream",
     "text": [
      "Expected offset: 14964 pre-window: 14965 | -18.7464181467936 post-window: 14965 | -18.74589091119751\n"
     ]
    },
    {
     "name": "stderr",
     "output_type": "stream",
     "text": [
      "233it [01:47,  2.06it/s]"
     ]
    },
    {
     "name": "stdout",
     "output_type": "stream",
     "text": [
      "Expected offset: 12945 pre-window: 12945 | -24.64986225618733 post-window: 12945 | -24.64986225618733\n"
     ]
    },
    {
     "name": "stderr",
     "output_type": "stream",
     "text": [
      "234it [01:48,  1.94it/s]"
     ]
    },
    {
     "name": "stdout",
     "output_type": "stream",
     "text": [
      "Expected offset: 15290 pre-window: 15291 | -15.44604763161016 post-window: 15291 | -15.445613217629496\n"
     ]
    },
    {
     "name": "stderr",
     "output_type": "stream",
     "text": [
      "235it [01:48,  1.81it/s]"
     ]
    },
    {
     "name": "stdout",
     "output_type": "stream",
     "text": [
      "Expected offset: 15836 pre-window: 15836 | -28.6917760620039 post-window: 15836 | -28.6916864003438\n"
     ]
    },
    {
     "name": "stderr",
     "output_type": "stream",
     "text": [
      "236it [01:49,  1.83it/s]"
     ]
    },
    {
     "name": "stdout",
     "output_type": "stream",
     "text": [
      "Expected offset: 14764 pre-window: 14764 | -9.33239919703735 post-window: 14764 | -9.332370033335428\n"
     ]
    },
    {
     "name": "stderr",
     "output_type": "stream",
     "text": [
      "237it [01:49,  2.22it/s]"
     ]
    },
    {
     "name": "stdout",
     "output_type": "stream",
     "text": [
      "Expected offset: 8532 pre-window: 8533 | -19.845072232111978 post-window: 8533 | -19.84451409730426\n"
     ]
    },
    {
     "name": "stderr",
     "output_type": "stream",
     "text": [
      "238it [01:50,  2.08it/s]"
     ]
    },
    {
     "name": "stdout",
     "output_type": "stream",
     "text": [
      "Expected offset: 15635 pre-window: 15636 | -18.315432741121782 post-window: 15636 | -18.315203799643406\n"
     ]
    },
    {
     "name": "stderr",
     "output_type": "stream",
     "text": [
      "239it [01:50,  2.03it/s]"
     ]
    },
    {
     "name": "stdout",
     "output_type": "stream",
     "text": [
      "Expected offset: 9861 pre-window: 9862 | -25.303747911067664 post-window: 9862 | -25.303036253165402\n"
     ]
    },
    {
     "name": "stderr",
     "output_type": "stream",
     "text": [
      "240it [01:51,  1.98it/s]"
     ]
    },
    {
     "name": "stdout",
     "output_type": "stream",
     "text": [
      "Expected offset: 31304 pre-window: 31304 | -40.62906994045387 post-window: 31304 | -40.62906994045387\n"
     ]
    },
    {
     "name": "stderr",
     "output_type": "stream",
     "text": [
      "241it [01:51,  1.94it/s]"
     ]
    },
    {
     "name": "stdout",
     "output_type": "stream",
     "text": [
      "Expected offset: 60984 pre-window: 60984 | -35.67452958284392 post-window: 60984 | -35.67452958284392\n"
     ]
    },
    {
     "name": "stderr",
     "output_type": "stream",
     "text": [
      "242it [01:52,  1.93it/s]"
     ]
    },
    {
     "name": "stdout",
     "output_type": "stream",
     "text": [
      "Expected offset: 38161 pre-window: 38162 | -47.13127512674106 post-window: 38162 | -47.130685989484085\n"
     ]
    },
    {
     "name": "stderr",
     "output_type": "stream",
     "text": [
      "243it [01:52,  1.91it/s]"
     ]
    },
    {
     "name": "stdout",
     "output_type": "stream",
     "text": [
      "Expected offset: 70220 pre-window: 70221 | -49.699399983857624 post-window: 70221 | -49.698778745240574\n"
     ]
    },
    {
     "name": "stderr",
     "output_type": "stream",
     "text": [
      "244it [01:53,  1.88it/s]"
     ]
    },
    {
     "name": "stdout",
     "output_type": "stream",
     "text": [
      "Expected offset: 65145 pre-window: 65145 | -37.470286076994476 post-window: 65145 | -37.470286076994476\n"
     ]
    },
    {
     "name": "stderr",
     "output_type": "stream",
     "text": [
      "245it [01:53,  1.85it/s]"
     ]
    },
    {
     "name": "stdout",
     "output_type": "stream",
     "text": [
      "Expected offset: 63538 pre-window: 63539 | -26.88977032096278 post-window: 63539 | -26.88943420093452\n"
     ]
    },
    {
     "name": "stderr",
     "output_type": "stream",
     "text": [
      "246it [01:54,  1.85it/s]"
     ]
    },
    {
     "name": "stdout",
     "output_type": "stream",
     "text": [
      "Expected offset: 68550 pre-window: 68550 | -40.33551419918965 post-window: 68550 | -40.33551419918965\n"
     ]
    },
    {
     "name": "stderr",
     "output_type": "stream",
     "text": [
      "247it [01:54,  1.86it/s]"
     ]
    },
    {
     "name": "stdout",
     "output_type": "stream",
     "text": [
      "Expected offset: 65503 pre-window: 65504 | -32.96511785368631 post-window: 65504 | -32.96470579228853\n"
     ]
    },
    {
     "name": "stderr",
     "output_type": "stream",
     "text": [
      "248it [01:55,  1.85it/s]"
     ]
    },
    {
     "name": "stdout",
     "output_type": "stream",
     "text": [
      "Expected offset: 67400 pre-window: 67400 | -43.44885865784182 post-window: 67400 | -43.44885865784182\n"
     ]
    },
    {
     "name": "stderr",
     "output_type": "stream",
     "text": [
      "249it [01:55,  1.85it/s]"
     ]
    },
    {
     "name": "stdout",
     "output_type": "stream",
     "text": [
      "Expected offset: 67285 pre-window: 67286 | -58.22201269302398 post-window: 67286 | -58.221284922413886\n"
     ]
    },
    {
     "name": "stderr",
     "output_type": "stream",
     "text": [
      "250it [01:56,  1.85it/s]"
     ]
    },
    {
     "name": "stdout",
     "output_type": "stream",
     "text": [
      "Expected offset: 64514 pre-window: 64514 | -38.96158867157077 post-window: 64514 | -38.96158867157077\n"
     ]
    },
    {
     "name": "stderr",
     "output_type": "stream",
     "text": [
      "251it [01:57,  1.82it/s]"
     ]
    },
    {
     "name": "stdout",
     "output_type": "stream",
     "text": [
      "Expected offset: 102524 pre-window: 102524 | -52.445126303250156 post-window: 102524 | -52.445126303250156\n"
     ]
    },
    {
     "name": "stderr",
     "output_type": "stream",
     "text": [
      "252it [01:57,  1.81it/s]"
     ]
    },
    {
     "name": "stdout",
     "output_type": "stream",
     "text": [
      "Expected offset: 65273 pre-window: 65274 | -47.28405773634134 post-window: 65274 | -47.283466689313684\n"
     ]
    },
    {
     "name": "stderr",
     "output_type": "stream",
     "text": [
      "253it [01:58,  1.82it/s]"
     ]
    },
    {
     "name": "stdout",
     "output_type": "stream",
     "text": [
      "Expected offset: 64759 pre-window: 64759 | -39.30380338430216 post-window: 64759 | -39.30380338430216\n"
     ]
    },
    {
     "name": "stderr",
     "output_type": "stream",
     "text": [
      "254it [01:58,  1.83it/s]"
     ]
    },
    {
     "name": "stdout",
     "output_type": "stream",
     "text": [
      "Expected offset: 66402 pre-window: 66403 | -38.7866052160972 post-window: 66403 | -38.78612038656219\n"
     ]
    },
    {
     "name": "stderr",
     "output_type": "stream",
     "text": [
      "255it [01:59,  1.84it/s]"
     ]
    },
    {
     "name": "stdout",
     "output_type": "stream",
     "text": [
      "Expected offset: 42712 pre-window: 42712 | -61.43891535829299 post-window: 42712 | -61.43891535829299\n"
     ]
    },
    {
     "name": "stderr",
     "output_type": "stream",
     "text": [
      "256it [01:59,  1.84it/s]"
     ]
    },
    {
     "name": "stdout",
     "output_type": "stream",
     "text": [
      "Expected offset: 104439 pre-window: 104440 | -62.453948650374265 post-window: 104440 | -62.45316798089533\n"
     ]
    },
    {
     "name": "stderr",
     "output_type": "stream",
     "text": [
      "257it [02:00,  1.85it/s]"
     ]
    },
    {
     "name": "stdout",
     "output_type": "stream",
     "text": [
      "Expected offset: 67400 pre-window: 67400 | -67.23794769000712 post-window: 67400 | -67.23794769000712\n"
     ]
    },
    {
     "name": "stderr",
     "output_type": "stream",
     "text": [
      "258it [02:00,  1.83it/s]"
     ]
    },
    {
     "name": "stdout",
     "output_type": "stream",
     "text": [
      "Expected offset: 68541 pre-window: 68541 | -51.03710818715259 post-window: 68541 | -51.03710818715259\n"
     ]
    },
    {
     "name": "stderr",
     "output_type": "stream",
     "text": [
      "259it [02:01,  1.83it/s]"
     ]
    },
    {
     "name": "stdout",
     "output_type": "stream",
     "text": [
      "Expected offset: 67922 pre-window: 67923 | -49.25221505229497 post-window: 67923 | -49.25159940345463\n"
     ]
    },
    {
     "name": "stderr",
     "output_type": "stream",
     "text": [
      "260it [02:01,  1.86it/s]"
     ]
    },
    {
     "name": "stdout",
     "output_type": "stream",
     "text": [
      "Expected offset: 69735 pre-window: 69736 | -49.060599533142664 post-window: 69736 | -49.05998627948134\n"
     ]
    },
    {
     "name": "stderr",
     "output_type": "stream",
     "text": [
      "261it [02:02,  1.86it/s]"
     ]
    },
    {
     "name": "stdout",
     "output_type": "stream",
     "text": [
      "Expected offset: 58728 pre-window: 58728 | -52.76779156694223 post-window: 58728 | -52.76779156694223\n"
     ]
    },
    {
     "name": "stderr",
     "output_type": "stream",
     "text": [
      "262it [02:03,  1.84it/s]"
     ]
    },
    {
     "name": "stdout",
     "output_type": "stream",
     "text": [
      "Expected offset: 90087 pre-window: 90088 | -48.08965178349119 post-window: 90088 | -48.08905066660088\n"
     ]
    },
    {
     "name": "stderr",
     "output_type": "stream",
     "text": [
      "263it [02:03,  1.84it/s]"
     ]
    },
    {
     "name": "stdout",
     "output_type": "stream",
     "text": [
      "Expected offset: 196138 pre-window: 196137 | -39.14079784775872 post-window: 196137 | -39.14030859084348\n"
     ]
    },
    {
     "name": "stderr",
     "output_type": "stream",
     "text": [
      "264it [02:04,  1.84it/s]"
     ]
    },
    {
     "name": "stdout",
     "output_type": "stream",
     "text": [
      "Expected offset: 38765 pre-window: 38766 | -48.12773265174102 post-window: 38766 | -48.127131058842835\n"
     ]
    },
    {
     "name": "stderr",
     "output_type": "stream",
     "text": [
      "265it [02:04,  1.85it/s]"
     ]
    },
    {
     "name": "stdout",
     "output_type": "stream",
     "text": [
      "Expected offset: 40256 pre-window: 40256 | -35.87649878077196 post-window: 40256 | -35.87649878077196\n"
     ]
    },
    {
     "name": "stderr",
     "output_type": "stream",
     "text": [
      "266it [02:05,  1.85it/s]"
     ]
    },
    {
     "name": "stdout",
     "output_type": "stream",
     "text": [
      "Expected offset: 38159 pre-window: 38160 | -18.461412718675035 post-window: 38160 | -18.461181952458343\n"
     ]
    },
    {
     "name": "stderr",
     "output_type": "stream",
     "text": [
      "267it [02:05,  1.88it/s]"
     ]
    },
    {
     "name": "stdout",
     "output_type": "stream",
     "text": [
      "Expected offset: 21845 pre-window: 21846 | -21.80684762041092 post-window: 21846 | -21.806575036519316\n"
     ]
    },
    {
     "name": "stderr",
     "output_type": "stream",
     "text": [
      "269it [02:06,  2.37it/s]"
     ]
    },
    {
     "name": "stdout",
     "output_type": "stream",
     "text": [
      "Expected offset: 18438 pre-window: 18438 | -38.94050150863854 post-window: 18438 | -38.94050150863854\n",
      "Expected offset: 61811 pre-window: 61812 | -28.96604479141141 post-window: 61812 | -28.96523013285784\n"
     ]
    },
    {
     "name": "stderr",
     "output_type": "stream",
     "text": [
      "270it [02:06,  2.22it/s]"
     ]
    },
    {
     "name": "stdout",
     "output_type": "stream",
     "text": [
      "Expected offset: 21024 pre-window: 21024 | -24.01698808475728 post-window: 21024 | -24.01698808475728\n"
     ]
    },
    {
     "name": "stderr",
     "output_type": "stream",
     "text": [
      "271it [02:07,  2.11it/s]"
     ]
    },
    {
     "name": "stdout",
     "output_type": "stream",
     "text": [
      "Expected offset: 21023 pre-window: 21024 | -48.183834033273094 post-window: 21024 | -48.183231739112024\n"
     ]
    },
    {
     "name": "stderr",
     "output_type": "stream",
     "text": [
      "272it [02:08,  2.03it/s]"
     ]
    },
    {
     "name": "stdout",
     "output_type": "stream",
     "text": [
      "Expected offset: 33304 pre-window: 33304 | -15.041171546996955 post-window: 33304 | -15.041124543409312\n"
     ]
    },
    {
     "name": "stderr",
     "output_type": "stream",
     "text": [
      "273it [02:08,  1.98it/s]"
     ]
    },
    {
     "name": "stdout",
     "output_type": "stream",
     "text": [
      "Expected offset: 21201 pre-window: 21201 | -41.678534072729306 post-window: 21201 | -41.678534072729306\n"
     ]
    },
    {
     "name": "stderr",
     "output_type": "stream",
     "text": [
      "274it [02:09,  2.03it/s]"
     ]
    },
    {
     "name": "stdout",
     "output_type": "stream",
     "text": [
      "Expected offset: 29574 pre-window: 29575 | -32.65627673273048 post-window: 29575 | -32.655868531822584\n"
     ]
    },
    {
     "name": "stderr",
     "output_type": "stream",
     "text": [
      "275it [02:09,  2.06it/s]"
     ]
    },
    {
     "name": "stdout",
     "output_type": "stream",
     "text": [
      "Expected offset: 28360 pre-window: 28360 | -26.698214883146303 post-window: 28360 | -26.698214883146303\n"
     ]
    },
    {
     "name": "stderr",
     "output_type": "stream",
     "text": [
      "276it [02:09,  2.10it/s]"
     ]
    },
    {
     "name": "stdout",
     "output_type": "stream",
     "text": [
      "Expected offset: 28154 pre-window: 28155 | -36.9576376979379 post-window: 28155 | -36.957175730353974\n"
     ]
    },
    {
     "name": "stderr",
     "output_type": "stream",
     "text": [
      "277it [02:10,  2.11it/s]"
     ]
    },
    {
     "name": "stdout",
     "output_type": "stream",
     "text": [
      "Expected offset: 21565 pre-window: 21565 | -19.270281966622406 post-window: 21565 | -19.270281966622406\n"
     ]
    },
    {
     "name": "stderr",
     "output_type": "stream",
     "text": [
      "278it [02:10,  2.02it/s]"
     ]
    },
    {
     "name": "stdout",
     "output_type": "stream",
     "text": [
      "Expected offset: 17352 pre-window: 17352 | -38.57596715259356 post-window: 17352 | -38.57596715259356\n"
     ]
    },
    {
     "name": "stderr",
     "output_type": "stream",
     "text": [
      "279it [02:11,  1.94it/s]"
     ]
    },
    {
     "name": "stdout",
     "output_type": "stream",
     "text": [
      "Expected offset: 43039 pre-window: 43040 | -27.288983969195368 post-window: 43040 | -27.288642859027696\n"
     ]
    },
    {
     "name": "stderr",
     "output_type": "stream",
     "text": [
      "280it [02:12,  1.91it/s]"
     ]
    },
    {
     "name": "stdout",
     "output_type": "stream",
     "text": [
      "Expected offset: 29380 pre-window: 29380 | -29.217682183912892 post-window: 29380 | -29.217682183912892\n"
     ]
    },
    {
     "name": "stderr",
     "output_type": "stream",
     "text": [
      "281it [02:12,  1.90it/s]"
     ]
    },
    {
     "name": "stdout",
     "output_type": "stream",
     "text": [
      "Expected offset: 43943 pre-window: 43944 | -45.50732821844541 post-window: 43944 | -45.506759380397924\n"
     ]
    },
    {
     "name": "stderr",
     "output_type": "stream",
     "text": [
      "282it [02:13,  1.91it/s]"
     ]
    },
    {
     "name": "stdout",
     "output_type": "stream",
     "text": [
      "Expected offset: 41309 pre-window: 41310 | -41.16545553050561 post-window: 41310 | -41.164940965527514\n"
     ]
    },
    {
     "name": "stderr",
     "output_type": "stream",
     "text": [
      "283it [02:13,  1.91it/s]"
     ]
    },
    {
     "name": "stdout",
     "output_type": "stream",
     "text": [
      "Expected offset: 29809 pre-window: 29810 | -29.000419529538274 post-window: 29810 | -28.99960390420879\n"
     ]
    },
    {
     "name": "stderr",
     "output_type": "stream",
     "text": [
      "284it [02:14,  1.90it/s]"
     ]
    },
    {
     "name": "stdout",
     "output_type": "stream",
     "text": [
      "Expected offset: 22935 pre-window: 22936 | -33.94180763064713 post-window: 22936 | -33.94138336070344\n"
     ]
    },
    {
     "name": "stderr",
     "output_type": "stream",
     "text": [
      "285it [02:14,  1.86it/s]"
     ]
    },
    {
     "name": "stdout",
     "output_type": "stream",
     "text": [
      "Expected offset: 31030 pre-window: 31030 | -42.12439714092167 post-window: 31030 | -42.12439714092167\n"
     ]
    },
    {
     "name": "stderr",
     "output_type": "stream",
     "text": [
      "286it [02:15,  2.13it/s]"
     ]
    },
    {
     "name": "stdout",
     "output_type": "stream",
     "text": [
      "Expected offset: 56214 pre-window: 56215 | -24.535901175407066 post-window: 56215 | -24.535211112890558\n"
     ]
    },
    {
     "name": "stderr",
     "output_type": "stream",
     "text": [
      "287it [02:15,  2.07it/s]"
     ]
    },
    {
     "name": "stdout",
     "output_type": "stream",
     "text": [
      "Expected offset: 25377 pre-window: 25377 | -23.679309473120195 post-window: 25377 | -23.679309473120195\n"
     ]
    },
    {
     "name": "stderr",
     "output_type": "stream",
     "text": [
      "288it [02:16,  2.01it/s]"
     ]
    },
    {
     "name": "stdout",
     "output_type": "stream",
     "text": [
      "Expected offset: 37358 pre-window: 37359 | -38.71986393292506 post-window: 37359 | -38.71937993765087\n"
     ]
    },
    {
     "name": "stderr",
     "output_type": "stream",
     "text": [
      "289it [02:16,  1.95it/s]"
     ]
    },
    {
     "name": "stdout",
     "output_type": "stream",
     "text": [
      "Expected offset: 50400 pre-window: 50401 | -27.442686565125648 post-window: 50401 | -27.442343533687534\n"
     ]
    },
    {
     "name": "stderr",
     "output_type": "stream",
     "text": [
      "290it [02:17,  1.94it/s]"
     ]
    },
    {
     "name": "stdout",
     "output_type": "stream",
     "text": [
      "Expected offset: 59334 pre-window: 59334 | -12.312975124138859 post-window: 59334 | -12.312975124138859\n"
     ]
    },
    {
     "name": "stderr",
     "output_type": "stream",
     "text": [
      "291it [02:17,  1.85it/s]"
     ]
    },
    {
     "name": "stdout",
     "output_type": "stream",
     "text": [
      "Expected offset: 30095 pre-window: 30096 | -35.39467489644761 post-window: 30096 | -35.394232465776604\n"
     ]
    },
    {
     "name": "stderr",
     "output_type": "stream",
     "text": [
      "292it [02:18,  1.83it/s]"
     ]
    },
    {
     "name": "stdout",
     "output_type": "stream",
     "text": [
      "Expected offset: 64952 pre-window: 64952 | -28.415747748949812 post-window: 64952 | -28.415658949876843\n"
     ]
    },
    {
     "name": "stderr",
     "output_type": "stream",
     "text": [
      "293it [02:18,  1.83it/s]"
     ]
    },
    {
     "name": "stdout",
     "output_type": "stream",
     "text": [
      "Expected offset: 16896 pre-window: 16897 | -42.69637562207545 post-window: 16897 | -42.695841920715814\n"
     ]
    },
    {
     "name": "stderr",
     "output_type": "stream",
     "text": [
      "294it [02:19,  1.84it/s]"
     ]
    },
    {
     "name": "stdout",
     "output_type": "stream",
     "text": [
      "Expected offset: 49854 pre-window: 49854 | -19.62094551328211 post-window: 49854 | -19.620884197923186\n"
     ]
    },
    {
     "name": "stderr",
     "output_type": "stream",
     "text": [
      "295it [02:19,  1.85it/s]"
     ]
    },
    {
     "name": "stdout",
     "output_type": "stream",
     "text": [
      "Expected offset: 24720 pre-window: 24721 | -22.293747674621578 post-window: 24721 | -22.2931206717855\n"
     ]
    },
    {
     "name": "stderr",
     "output_type": "stream",
     "text": [
      "296it [02:20,  1.82it/s]"
     ]
    },
    {
     "name": "stdout",
     "output_type": "stream",
     "text": [
      "Expected offset: 22688 pre-window: 22688 | -38.50105095008545 post-window: 22688 | -38.50105095008545\n"
     ]
    },
    {
     "name": "stderr",
     "output_type": "stream",
     "text": [
      "297it [02:21,  1.82it/s]"
     ]
    },
    {
     "name": "stdout",
     "output_type": "stream",
     "text": [
      "Expected offset: 41506 pre-window: 41507 | -48.34493190170716 post-window: 41507 | -48.344327593835324\n"
     ]
    },
    {
     "name": "stderr",
     "output_type": "stream",
     "text": [
      "298it [02:21,  1.82it/s]"
     ]
    },
    {
     "name": "stdout",
     "output_type": "stream",
     "text": [
      "Expected offset: 27557 pre-window: 27557 | -26.24322388862189 post-window: 27557 | -26.24322388862189\n"
     ]
    },
    {
     "name": "stderr",
     "output_type": "stream",
     "text": [
      "299it [02:22,  1.85it/s]"
     ]
    },
    {
     "name": "stdout",
     "output_type": "stream",
     "text": [
      "Expected offset: 41047 pre-window: 41048 | -24.342022744432693 post-window: 41048 | -24.3417184710501\n"
     ]
    },
    {
     "name": "stderr",
     "output_type": "stream",
     "text": [
      "300it [02:22,  1.84it/s]"
     ]
    },
    {
     "name": "stdout",
     "output_type": "stream",
     "text": [
      "Expected offset: 28212 pre-window: 28213 | -35.63545219735239 post-window: 28213 | -35.635006756983934\n"
     ]
    },
    {
     "name": "stderr",
     "output_type": "stream",
     "text": [
      "301it [02:23,  1.84it/s]"
     ]
    },
    {
     "name": "stdout",
     "output_type": "stream",
     "text": [
      "Expected offset: 50531 pre-window: 50531 | -55.75789126543725 post-window: 50531 | -55.75789126543725\n"
     ]
    },
    {
     "name": "stderr",
     "output_type": "stream",
     "text": [
      "302it [02:23,  2.22it/s]"
     ]
    },
    {
     "name": "stdout",
     "output_type": "stream",
     "text": [
      "Expected offset: 58108 pre-window: 58108 | -29.399778630512984 post-window: 58108 | -29.399778630512984\n"
     ]
    },
    {
     "name": "stderr",
     "output_type": "stream",
     "text": [
      "303it [02:23,  2.09it/s]"
     ]
    },
    {
     "name": "stdout",
     "output_type": "stream",
     "text": [
      "Expected offset: 19530 pre-window: 19531 | -36.428991157921004 post-window: 19531 | -36.42853579837753\n"
     ]
    },
    {
     "name": "stderr",
     "output_type": "stream",
     "text": [
      "304it [02:24,  2.02it/s]"
     ]
    },
    {
     "name": "stdout",
     "output_type": "stream",
     "text": [
      "Expected offset: 42145 pre-window: 42145 | -29.7391691902245 post-window: 42145 | -29.739076255465992\n"
     ]
    },
    {
     "name": "stderr",
     "output_type": "stream",
     "text": [
      "305it [02:25,  1.95it/s]"
     ]
    },
    {
     "name": "stdout",
     "output_type": "stream",
     "text": [
      "Expected offset: 79793 pre-window: 79793 | -40.3229881539839 post-window: 79793 | -40.3229881539839\n"
     ]
    },
    {
     "name": "stderr",
     "output_type": "stream",
     "text": [
      "306it [02:25,  2.31it/s]"
     ]
    },
    {
     "name": "stdout",
     "output_type": "stream",
     "text": [
      "Expected offset: 91046 pre-window: 125120 | -16.468370717492313 post-window: 91111 | -0.0043273703535817686\n",
      "Warning - windowed corr for line 00_26_31_Rainbow_Neutral__So, what's your plan?\n",
      " low; using pre-window\n"
     ]
    },
    {
     "name": "stderr",
     "output_type": "stream",
     "text": [
      "307it [02:25,  2.14it/s]"
     ]
    },
    {
     "name": "stdout",
     "output_type": "stream",
     "text": [
      "Expected offset: 19776 pre-window: 19777 | -40.16363256516281 post-window: 19777 | -40.16313052289351\n"
     ]
    },
    {
     "name": "stderr",
     "output_type": "stream",
     "text": [
      "308it [02:26,  2.05it/s]"
     ]
    },
    {
     "name": "stdout",
     "output_type": "stream",
     "text": [
      "Expected offset: 114935 pre-window: 114935 | -36.85997847929135 post-window: 114935 | -36.85997847929135\n"
     ]
    },
    {
     "name": "stderr",
     "output_type": "stream",
     "text": [
      "309it [02:26,  2.00it/s]"
     ]
    },
    {
     "name": "stdout",
     "output_type": "stream",
     "text": [
      "Expected offset: 44200 pre-window: 44201 | -43.19220101267035 post-window: 44201 | -43.19166111353207\n"
     ]
    },
    {
     "name": "stderr",
     "output_type": "stream",
     "text": [
      "310it [02:27,  1.95it/s]"
     ]
    },
    {
     "name": "stdout",
     "output_type": "stream",
     "text": [
      "Expected offset: 242591 pre-window: 242591 | -15.73323792263626 post-window: 242591 | -15.73323792263626\n"
     ]
    },
    {
     "name": "stderr",
     "output_type": "stream",
     "text": [
      "311it [02:27,  1.95it/s]"
     ]
    },
    {
     "name": "stdout",
     "output_type": "stream",
     "text": [
      "Expected offset: 21136 pre-window: 21137 | -12.309908930000546 post-window: 21137 | -12.30956271868051\n"
     ]
    },
    {
     "name": "stderr",
     "output_type": "stream",
     "text": [
      "312it [02:28,  1.99it/s]"
     ]
    },
    {
     "name": "stdout",
     "output_type": "stream",
     "text": [
      "Expected offset: 9508 pre-window: 9508 | -25.41968560237281 post-window: 9508 | -25.41960616597942\n"
     ]
    },
    {
     "name": "stderr",
     "output_type": "stream",
     "text": [
      "313it [02:28,  2.42it/s]"
     ]
    },
    {
     "name": "stdout",
     "output_type": "stream",
     "text": [
      "Expected offset: 169094 pre-window: 169095 | -18.70674481778761 post-window: 169095 | -18.706510984938845\n"
     ]
    },
    {
     "name": "stderr",
     "output_type": "stream",
     "text": [
      "314it [02:28,  2.69it/s]"
     ]
    },
    {
     "name": "stdout",
     "output_type": "stream",
     "text": [
      "Expected offset: 31608 pre-window: 31609 | -34.259836968882404 post-window: 31609 | -34.25887342451756\n"
     ]
    },
    {
     "name": "stderr",
     "output_type": "stream",
     "text": [
      "315it [02:29,  2.33it/s]"
     ]
    },
    {
     "name": "stdout",
     "output_type": "stream",
     "text": [
      "Expected offset: 21907 pre-window: 21907 | -34.881977108884755 post-window: 21907 | -34.881977108884755\n"
     ]
    },
    {
     "name": "stderr",
     "output_type": "stream",
     "text": [
      "316it [02:30,  2.15it/s]"
     ]
    },
    {
     "name": "stdout",
     "output_type": "stream",
     "text": [
      "Expected offset: 15724 pre-window: 15724 | -17.14801802223341 post-window: 15724 | -17.14801802223341\n"
     ]
    },
    {
     "name": "stderr",
     "output_type": "stream",
     "text": [
      "317it [02:30,  2.06it/s]"
     ]
    },
    {
     "name": "stdout",
     "output_type": "stream",
     "text": [
      "Expected offset: 12511 pre-window: 12512 | -41.145172735356205 post-window: 12512 | -41.144658423911466\n"
     ]
    },
    {
     "name": "stderr",
     "output_type": "stream",
     "text": [
      "318it [02:31,  1.98it/s]"
     ]
    },
    {
     "name": "stdout",
     "output_type": "stream",
     "text": [
      "Expected offset: 33067 pre-window: 33068 | -20.824285934707717 post-window: 33068 | -20.824025632760424\n"
     ]
    },
    {
     "name": "stderr",
     "output_type": "stream",
     "text": [
      "319it [02:31,  1.99it/s]"
     ]
    },
    {
     "name": "stdout",
     "output_type": "stream",
     "text": [
      "Expected offset: 19688 pre-window: 19688 | -28.781519268246637 post-window: 19688 | -28.781519268246637\n"
     ]
    },
    {
     "name": "stderr",
     "output_type": "stream",
     "text": [
      "320it [02:32,  2.03it/s]"
     ]
    },
    {
     "name": "stdout",
     "output_type": "stream",
     "text": [
      "Expected offset: 44094 pre-window: 44094 | -28.74949050537054 post-window: 44094 | -28.74949050537054\n"
     ]
    },
    {
     "name": "stderr",
     "output_type": "stream",
     "text": [
      "321it [02:32,  2.09it/s]"
     ]
    },
    {
     "name": "stdout",
     "output_type": "stream",
     "text": [
      "Expected offset: 32540 pre-window: 32541 | -13.979225997770977 post-window: 32541 | -13.97883283756863\n"
     ]
    },
    {
     "name": "stderr",
     "output_type": "stream",
     "text": [
      "322it [02:33,  2.11it/s]"
     ]
    },
    {
     "name": "stdout",
     "output_type": "stream",
     "text": [
      "Expected offset: 22967 pre-window: 22968 | -17.04062902975246 post-window: 22968 | -17.04041602322088\n"
     ]
    },
    {
     "name": "stderr",
     "output_type": "stream",
     "text": [
      "323it [02:33,  2.14it/s]"
     ]
    },
    {
     "name": "stdout",
     "output_type": "stream",
     "text": [
      "Expected offset: 8837 pre-window: 8837 | -17.308974780100115 post-window: 8837 | -17.308920689638445\n"
     ]
    },
    {
     "name": "stderr",
     "output_type": "stream",
     "text": [
      "324it [02:33,  2.17it/s]"
     ]
    },
    {
     "name": "stdout",
     "output_type": "stream",
     "text": [
      "Expected offset: 15897 pre-window: 15897 | -37.48622966209447 post-window: 15897 | -37.48622966209447\n"
     ]
    },
    {
     "name": "stderr",
     "output_type": "stream",
     "text": [
      "325it [02:34,  2.19it/s]"
     ]
    },
    {
     "name": "stdout",
     "output_type": "stream",
     "text": [
      "Expected offset: 34822 pre-window: 34823 | -36.017309144164024 post-window: 34823 | -36.01685893061356\n"
     ]
    },
    {
     "name": "stderr",
     "output_type": "stream",
     "text": [
      "326it [02:34,  2.18it/s]"
     ]
    },
    {
     "name": "stdout",
     "output_type": "stream",
     "text": [
      "Expected offset: 20688 pre-window: 20688 | -26.542373243509804 post-window: 20688 | -26.542373243509804\n"
     ]
    },
    {
     "name": "stderr",
     "output_type": "stream",
     "text": [
      "327it [02:35,  1.77it/s]"
     ]
    },
    {
     "name": "stdout",
     "output_type": "stream",
     "text": [
      "Expected offset: 24688 pre-window: 24688 | -20.220950759866778 post-window: 24688 | -20.220887569494387\n",
      "Expected offset: 12604 pre-window: 12604 | -7.350612152669645 post-window: 12604 | -7.350612152669645\n"
     ]
    },
    {
     "name": "stderr",
     "output_type": "stream",
     "text": [
      "329it [02:36,  2.13it/s]"
     ]
    },
    {
     "name": "stdout",
     "output_type": "stream",
     "text": [
      "Expected offset: 4995 pre-window: 4995 | -24.752664172421508 post-window: 4995 | -24.75258682046683\n"
     ]
    },
    {
     "name": "stderr",
     "output_type": "stream",
     "text": [
      "330it [02:36,  2.07it/s]"
     ]
    },
    {
     "name": "stdout",
     "output_type": "stream",
     "text": [
      "Expected offset: 45128 pre-window: 45129 | -26.16042659639163 post-window: 45129 | -26.159690844740165\n"
     ]
    },
    {
     "name": "stderr",
     "output_type": "stream",
     "text": [
      "331it [02:37,  2.43it/s]"
     ]
    },
    {
     "name": "stdout",
     "output_type": "stream",
     "text": [
      "Expected offset: 26488 pre-window: 26489 | -23.10761804453428 post-window: 26489 | -23.106968151915936\n"
     ]
    },
    {
     "name": "stderr",
     "output_type": "stream",
     "text": [
      "332it [02:37,  2.65it/s]"
     ]
    },
    {
     "name": "stdout",
     "output_type": "stream",
     "text": [
      "Expected offset: 10985 pre-window: 10986 | -6.074074775164585 post-window: 10986 | -6.073903944213855\n"
     ]
    },
    {
     "name": "stderr",
     "output_type": "stream",
     "text": [
      "333it [02:37,  2.39it/s]"
     ]
    },
    {
     "name": "stdout",
     "output_type": "stream",
     "text": [
      "Expected offset: 10985 pre-window: 10986 | -11.442662825269979 post-window: 10986 | -11.442519792878617\n"
     ]
    },
    {
     "name": "stderr",
     "output_type": "stream",
     "text": [
      "334it [02:38,  2.19it/s]"
     ]
    },
    {
     "name": "stdout",
     "output_type": "stream",
     "text": [
      "Expected offset: 9251 pre-window: 9251 | -5.141162917018463 post-window: 9251 | -5.141162917018463\n"
     ]
    },
    {
     "name": "stderr",
     "output_type": "stream",
     "text": [
      "335it [02:38,  2.60it/s]"
     ]
    },
    {
     "name": "stdout",
     "output_type": "stream",
     "text": [
      "Expected offset: 11018 pre-window: 11018 | -11.441794455574106 post-window: 11018 | -11.4417587000223\n"
     ]
    },
    {
     "name": "stderr",
     "output_type": "stream",
     "text": [
      "336it [02:39,  2.36it/s]"
     ]
    },
    {
     "name": "stdout",
     "output_type": "stream",
     "text": [
      "Expected offset: 20301 pre-window: 20302 | -22.50473558845954 post-window: 20302 | -22.50410265167183\n"
     ]
    },
    {
     "name": "stderr",
     "output_type": "stream",
     "text": [
      "337it [02:39,  2.24it/s]"
     ]
    },
    {
     "name": "stdout",
     "output_type": "stream",
     "text": [
      "Expected offset: 28088 pre-window: 28088 | -31.053868335966804 post-window: 28088 | -31.053868335966804\n"
     ]
    },
    {
     "name": "stderr",
     "output_type": "stream",
     "text": [
      "338it [02:40,  2.16it/s]"
     ]
    },
    {
     "name": "stdout",
     "output_type": "stream",
     "text": [
      "Expected offset: 68505 pre-window: 68505 | -31.962874240652503 post-window: 68505 | -31.962874240652503\n"
     ]
    },
    {
     "name": "stderr",
     "output_type": "stream",
     "text": [
      "339it [02:40,  2.10it/s]"
     ]
    },
    {
     "name": "stdout",
     "output_type": "stream",
     "text": [
      "Expected offset: 74460 pre-window: 74461 | -28.007189516840153 post-window: 74461 | -28.006839429159246\n"
     ]
    },
    {
     "name": "stderr",
     "output_type": "stream",
     "text": [
      "340it [02:41,  2.11it/s]"
     ]
    },
    {
     "name": "stdout",
     "output_type": "stream",
     "text": [
      "Expected offset: 67522 pre-window: 67522 | -25.344026397753257 post-window: 67522 | -25.344026397753257\n"
     ]
    },
    {
     "name": "stderr",
     "output_type": "stream",
     "text": [
      "341it [02:41,  2.20it/s]"
     ]
    },
    {
     "name": "stdout",
     "output_type": "stream",
     "text": [
      "Expected offset: 17907 pre-window: 17907 | -20.12171906507501 post-window: 17907 | -20.121656184801182\n"
     ]
    },
    {
     "name": "stderr",
     "output_type": "stream",
     "text": [
      "342it [02:42,  2.11it/s]"
     ]
    },
    {
     "name": "stdout",
     "output_type": "stream",
     "text": [
      "Expected offset: 20768 pre-window: 20769 | -41.83023422708974 post-window: 20769 | -41.829711352429875\n"
     ]
    },
    {
     "name": "stderr",
     "output_type": "stream",
     "text": [
      "343it [02:42,  2.12it/s]"
     ]
    },
    {
     "name": "stdout",
     "output_type": "stream",
     "text": [
      "Expected offset: 49533 pre-window: 49533 | -18.902847678210318 post-window: 49533 | -18.902847678210318\n"
     ]
    },
    {
     "name": "stderr",
     "output_type": "stream",
     "text": [
      "344it [02:43,  2.12it/s]"
     ]
    },
    {
     "name": "stdout",
     "output_type": "stream",
     "text": [
      "Expected offset: 30645 pre-window: 30645 | -15.506968546434155 post-window: 30645 | -15.506968546434155\n"
     ]
    },
    {
     "name": "stderr",
     "output_type": "stream",
     "text": [
      "345it [02:43,  1.96it/s]"
     ]
    },
    {
     "name": "stdout",
     "output_type": "stream",
     "text": [
      "Expected offset: 12592 pre-window: 12592 | -20.123423991887964 post-window: 12592 | -20.123423991887964\n"
     ]
    },
    {
     "name": "stderr",
     "output_type": "stream",
     "text": [
      "346it [02:44,  1.98it/s]"
     ]
    },
    {
     "name": "stdout",
     "output_type": "stream",
     "text": [
      "Expected offset: 119882 pre-window: 119883 | -45.29937931493194 post-window: 119883 | -45.2988130762295\n"
     ]
    },
    {
     "name": "stderr",
     "output_type": "stream",
     "text": [
      "347it [02:44,  1.88it/s]"
     ]
    },
    {
     "name": "stdout",
     "output_type": "stream",
     "text": [
      "Expected offset: 28974 pre-window: 28974 | -42.36609301487304 post-window: 28974 | -42.36609301487304\n"
     ]
    },
    {
     "name": "stderr",
     "output_type": "stream",
     "text": [
      "348it [02:45,  1.94it/s]"
     ]
    },
    {
     "name": "stdout",
     "output_type": "stream",
     "text": [
      "Expected offset: 29295 pre-window: 29296 | -40.6177889525792 post-window: 29296 | -40.61728123339054\n"
     ]
    },
    {
     "name": "stderr",
     "output_type": "stream",
     "text": [
      "349it [02:45,  2.00it/s]"
     ]
    },
    {
     "name": "stdout",
     "output_type": "stream",
     "text": [
      "Expected offset: 37133 pre-window: 37134 | -45.56704467430951 post-window: 37134 | -45.566475089810986\n"
     ]
    },
    {
     "name": "stderr",
     "output_type": "stream",
     "text": [
      "350it [02:46,  2.08it/s]"
     ]
    },
    {
     "name": "stdout",
     "output_type": "stream",
     "text": [
      "Expected offset: 59058 pre-window: 59059 | -36.39980790709483 post-window: 59059 | -36.399352912339715\n"
     ]
    },
    {
     "name": "stderr",
     "output_type": "stream",
     "text": [
      "351it [02:46,  2.10it/s]"
     ]
    },
    {
     "name": "stdout",
     "output_type": "stream",
     "text": [
      "Expected offset: 32105 pre-window: 32106 | -45.46721685734059 post-window: 32106 | -45.46664852068198\n"
     ]
    },
    {
     "name": "stderr",
     "output_type": "stream",
     "text": [
      "352it [02:47,  2.14it/s]"
     ]
    },
    {
     "name": "stdout",
     "output_type": "stream",
     "text": [
      "Expected offset: 27622 pre-window: 27622 | -44.477031707436474 post-window: 27622 | -44.477031707436474\n"
     ]
    },
    {
     "name": "stderr",
     "output_type": "stream",
     "text": [
      "353it [02:47,  2.10it/s]"
     ]
    },
    {
     "name": "stdout",
     "output_type": "stream",
     "text": [
      "Expected offset: 52384 pre-window: 52384 | -33.76105863981585 post-window: 52384 | -33.76105863981585\n"
     ]
    },
    {
     "name": "stderr",
     "output_type": "stream",
     "text": [
      "354it [02:47,  2.14it/s]"
     ]
    },
    {
     "name": "stdout",
     "output_type": "stream",
     "text": [
      "Expected offset: 28119 pre-window: 28119 | -28.630621050072975 post-window: 28119 | -28.630621050072975\n"
     ]
    },
    {
     "name": "stderr",
     "output_type": "stream",
     "text": [
      "355it [02:48,  2.19it/s]"
     ]
    },
    {
     "name": "stdout",
     "output_type": "stream",
     "text": [
      "Expected offset: 185284 pre-window: 185284 | -40.92191431194968 post-window: 185284 | -40.92178643116726\n"
     ]
    },
    {
     "name": "stderr",
     "output_type": "stream",
     "text": [
      "356it [02:48,  2.18it/s]"
     ]
    },
    {
     "name": "stdout",
     "output_type": "stream",
     "text": [
      "Expected offset: 54532 pre-window: 54533 | -20.010799555882972 post-window: 54533 | -20.01054942245186\n"
     ]
    },
    {
     "name": "stderr",
     "output_type": "stream",
     "text": [
      "357it [02:49,  2.15it/s]"
     ]
    },
    {
     "name": "stdout",
     "output_type": "stream",
     "text": [
      "Expected offset: 37274 pre-window: 37274 | -45.27911516077 post-window: 37274 | -45.27911516077\n"
     ]
    },
    {
     "name": "stderr",
     "output_type": "stream",
     "text": [
      "358it [02:49,  2.04it/s]"
     ]
    },
    {
     "name": "stdout",
     "output_type": "stream",
     "text": [
      "Expected offset: 39469 pre-window: 39470 | -22.78658392525875 post-window: 39470 | -22.78594306159804\n"
     ]
    },
    {
     "name": "stderr",
     "output_type": "stream",
     "text": [
      "359it [02:50,  1.97it/s]"
     ]
    },
    {
     "name": "stdout",
     "output_type": "stream",
     "text": [
      "Expected offset: 16231 pre-window: 16231 | -38.64093138294523 post-window: 16231 | -38.64093138294523\n"
     ]
    },
    {
     "name": "stderr",
     "output_type": "stream",
     "text": [
      "360it [02:50,  2.02it/s]"
     ]
    },
    {
     "name": "stdout",
     "output_type": "stream",
     "text": [
      "Expected offset: 26469 pre-window: 26469 | -42.877326178861395 post-window: 26469 | -42.877326178861395\n"
     ]
    },
    {
     "name": "stderr",
     "output_type": "stream",
     "text": [
      "361it [02:51,  2.05it/s]"
     ]
    },
    {
     "name": "stdout",
     "output_type": "stream",
     "text": [
      "Expected offset: 51267 pre-window: 51268 | -17.983495293122175 post-window: 51268 | -17.983270500835964\n"
     ]
    },
    {
     "name": "stderr",
     "output_type": "stream",
     "text": [
      "362it [02:51,  2.12it/s]"
     ]
    },
    {
     "name": "stdout",
     "output_type": "stream",
     "text": [
      "Expected offset: 12592 pre-window: 12593 | -50.179953925871644 post-window: 12593 | -50.179326680367865\n"
     ]
    },
    {
     "name": "stderr",
     "output_type": "stream",
     "text": [
      "363it [02:52,  2.12it/s]"
     ]
    },
    {
     "name": "stdout",
     "output_type": "stream",
     "text": [
      "Expected offset: 24284 pre-window: 24284 | -41.87635240195604 post-window: 24284 | -41.87635240195604\n"
     ]
    },
    {
     "name": "stderr",
     "output_type": "stream",
     "text": [
      "364it [02:52,  2.14it/s]"
     ]
    },
    {
     "name": "stdout",
     "output_type": "stream",
     "text": [
      "Expected offset: 35013 pre-window: 35014 | -13.479624986213771 post-window: 35014 | -13.479245877092282\n"
     ]
    },
    {
     "name": "stderr",
     "output_type": "stream",
     "text": [
      "365it [02:53,  2.13it/s]"
     ]
    },
    {
     "name": "stdout",
     "output_type": "stream",
     "text": [
      "Expected offset: 10600 pre-window: 10601 | -7.499061810839324 post-window: 10601 | -7.49896807315255\n"
     ]
    },
    {
     "name": "stderr",
     "output_type": "stream",
     "text": [
      "366it [02:53,  2.10it/s]"
     ]
    },
    {
     "name": "stdout",
     "output_type": "stream",
     "text": [
      "Expected offset: 14134 pre-window: 14134 | -46.93647995983612 post-window: 14134 | -46.93647995983612\n"
     ]
    },
    {
     "name": "stderr",
     "output_type": "stream",
     "text": [
      "367it [02:54,  2.11it/s]"
     ]
    },
    {
     "name": "stdout",
     "output_type": "stream",
     "text": [
      "Expected offset: 23642 pre-window: 23642 | -45.16072451023757 post-window: 23642 | -45.16072451023757\n"
     ]
    },
    {
     "name": "stderr",
     "output_type": "stream",
     "text": [
      "368it [02:54,  2.07it/s]"
     ]
    },
    {
     "name": "stdout",
     "output_type": "stream",
     "text": [
      "Expected offset: 30837 pre-window: 30838 | -15.391518621088265 post-window: 30838 | -15.391326228307959\n"
     ]
    },
    {
     "name": "stderr",
     "output_type": "stream",
     "text": [
      "369it [02:55,  2.10it/s]"
     ]
    },
    {
     "name": "stdout",
     "output_type": "stream",
     "text": [
      "Expected offset: 13041 pre-window: 13042 | -13.054786996856471 post-window: 13042 | -13.05462381303891\n"
     ]
    },
    {
     "name": "stderr",
     "output_type": "stream",
     "text": [
      "370it [02:55,  2.12it/s]"
     ]
    },
    {
     "name": "stdout",
     "output_type": "stream",
     "text": [
      "Expected offset: 17988 pre-window: 17989 | -30.8881827231668 post-window: 17989 | -30.887796623295888\n"
     ]
    },
    {
     "name": "stderr",
     "output_type": "stream",
     "text": [
      "371it [02:56,  2.14it/s]"
     ]
    },
    {
     "name": "stdout",
     "output_type": "stream",
     "text": [
      "Expected offset: 110309 pre-window: 110309 | -37.63803382435086 post-window: 110309 | -37.63803382435086\n"
     ]
    },
    {
     "name": "stderr",
     "output_type": "stream",
     "text": [
      "372it [02:56,  2.50it/s]"
     ]
    },
    {
     "name": "stdout",
     "output_type": "stream",
     "text": [
      "Expected offset: 43494 pre-window: 43495 | -15.605536529075506 post-window: 43495 | -15.605097629532679\n"
     ]
    },
    {
     "name": "stderr",
     "output_type": "stream",
     "text": [
      "373it [02:56,  2.36it/s]"
     ]
    },
    {
     "name": "stdout",
     "output_type": "stream",
     "text": [
      "Expected offset: 9958 pre-window: 9958 | -31.360950566446093 post-window: 9958 | -31.360950566446093\n"
     ]
    },
    {
     "name": "stderr",
     "output_type": "stream",
     "text": [
      "374it [02:57,  2.23it/s]"
     ]
    },
    {
     "name": "stdout",
     "output_type": "stream",
     "text": [
      "Expected offset: 29681 pre-window: 29681 | -49.814600870320206 post-window: 29681 | -49.814600870320206\n"
     ]
    },
    {
     "name": "stderr",
     "output_type": "stream",
     "text": [
      "375it [02:57,  2.18it/s]"
     ]
    },
    {
     "name": "stdout",
     "output_type": "stream",
     "text": [
      "Expected offset: 35592 pre-window: 35592 | -52.690846256974886 post-window: 35592 | -52.690846256974886\n"
     ]
    },
    {
     "name": "stderr",
     "output_type": "stream",
     "text": [
      "376it [02:58,  2.12it/s]"
     ]
    },
    {
     "name": "stdout",
     "output_type": "stream",
     "text": [
      "Expected offset: 30580 pre-window: 30581 | -42.300573808063355 post-window: 30581 | -42.30004505419547\n"
     ]
    },
    {
     "name": "stderr",
     "output_type": "stream",
     "text": [
      "377it [02:58,  1.97it/s]"
     ]
    },
    {
     "name": "stdout",
     "output_type": "stream",
     "text": [
      "Expected offset: 62960 pre-window: 62961 | -14.114256883323193 post-window: 62961 | -14.113859925430598\n"
     ]
    },
    {
     "name": "stderr",
     "output_type": "stream",
     "text": [
      "378it [02:59,  2.04it/s]"
     ]
    },
    {
     "name": "stdout",
     "output_type": "stream",
     "text": [
      "Expected offset: 11598 pre-window: 11598 | -45.59162916961775 post-window: 11598 | -45.59162916961775\n"
     ]
    },
    {
     "name": "stderr",
     "output_type": "stream",
     "text": [
      "379it [02:59,  2.03it/s]"
     ]
    },
    {
     "name": "stdout",
     "output_type": "stream",
     "text": [
      "Expected offset: 49178 pre-window: 49178 | -40.99903316848881 post-window: 49178 | -40.99903316848881\n"
     ]
    },
    {
     "name": "stderr",
     "output_type": "stream",
     "text": [
      "380it [03:00,  2.03it/s]"
     ]
    },
    {
     "name": "stdout",
     "output_type": "stream",
     "text": [
      "Expected offset: 65402 pre-window: 65402 | -35.54187178246924 post-window: 65402 | -35.54187178246924\n"
     ]
    },
    {
     "name": "stderr",
     "output_type": "stream",
     "text": [
      "381it [03:00,  1.97it/s]"
     ]
    },
    {
     "name": "stdout",
     "output_type": "stream",
     "text": [
      "Expected offset: 23219 pre-window: 23220 | -47.127714361592155 post-window: 23220 | -47.12712526884447\n"
     ]
    },
    {
     "name": "stderr",
     "output_type": "stream",
     "text": [
      "382it [03:01,  2.40it/s]"
     ]
    },
    {
     "name": "stdout",
     "output_type": "stream",
     "text": [
      "Expected offset: 71863 pre-window: 71863 | -10.102481021866854 post-window: 71863 | -10.10244945166299\n"
     ]
    },
    {
     "name": "stderr",
     "output_type": "stream",
     "text": [
      "383it [03:01,  2.34it/s]"
     ]
    },
    {
     "name": "stdout",
     "output_type": "stream",
     "text": [
      "Expected offset: 190736 pre-window: 190737 | -15.247805392579597 post-window: 190737 | -15.247614796203418\n"
     ]
    },
    {
     "name": "stderr",
     "output_type": "stream",
     "text": [
      "384it [03:01,  2.38it/s]"
     ]
    },
    {
     "name": "stdout",
     "output_type": "stream",
     "text": [
      "Expected offset: 14078 pre-window: 14078 | -16.83551587495634 post-window: 14078 | -16.83551587495634\n"
     ]
    },
    {
     "name": "stderr",
     "output_type": "stream",
     "text": [
      "385it [03:02,  2.21it/s]"
     ]
    },
    {
     "name": "stdout",
     "output_type": "stream",
     "text": [
      "Expected offset: 17057 pre-window: 17058 | -46.91766423475508 post-window: 17058 | -46.91707776761757\n"
     ]
    },
    {
     "name": "stderr",
     "output_type": "stream",
     "text": [
      "387it [03:03,  2.51it/s]"
     ]
    },
    {
     "name": "stdout",
     "output_type": "stream",
     "text": [
      "Expected offset: 30677 pre-window: 30677 | -47.042130045542145 post-window: 30677 | -47.042130045542145\n",
      "Expected offset: 27432 pre-window: 27433 | -14.63556081005565 post-window: 27433 | -14.635149190696291\n"
     ]
    },
    {
     "name": "stderr",
     "output_type": "stream",
     "text": [
      "388it [03:03,  2.31it/s]"
     ]
    },
    {
     "name": "stdout",
     "output_type": "stream",
     "text": [
      "Expected offset: 11514 pre-window: 11514 | -49.28055324880585 post-window: 11514 | -49.28055324880585\n"
     ]
    },
    {
     "name": "stderr",
     "output_type": "stream",
     "text": [
      "389it [03:04,  2.29it/s]"
     ]
    },
    {
     "name": "stdout",
     "output_type": "stream",
     "text": [
      "Expected offset: 29024 pre-window: 29025 | -30.039274079754723 post-window: 29025 | -30.038898591175535\n"
     ]
    },
    {
     "name": "stderr",
     "output_type": "stream",
     "text": [
      "390it [03:04,  2.16it/s]"
     ]
    },
    {
     "name": "stdout",
     "output_type": "stream",
     "text": [
      "Expected offset: 18342 pre-window: 18342 | -30.841653774357777 post-window: 18342 | -30.841653774357777\n"
     ]
    },
    {
     "name": "stderr",
     "output_type": "stream",
     "text": [
      "391it [03:05,  1.98it/s]"
     ]
    },
    {
     "name": "stdout",
     "output_type": "stream",
     "text": [
      "Expected offset: 18759 pre-window: 18760 | -16.85598791619003 post-window: 18760 | -16.8555138481965\n"
     ]
    },
    {
     "name": "stderr",
     "output_type": "stream",
     "text": [
      "392it [03:05,  2.02it/s]"
     ]
    },
    {
     "name": "stdout",
     "output_type": "stream",
     "text": [
      "Expected offset: 12624 pre-window: 12624 | -47.237324701909415 post-window: 12624 | -47.237324701909415\n"
     ]
    },
    {
     "name": "stderr",
     "output_type": "stream",
     "text": [
      "393it [03:06,  2.08it/s]"
     ]
    },
    {
     "name": "stdout",
     "output_type": "stream",
     "text": [
      "Expected offset: 25353 pre-window: 25353 | -39.335893081876286 post-window: 25353 | -39.33577015740247\n"
     ]
    },
    {
     "name": "stderr",
     "output_type": "stream",
     "text": [
      "394it [03:06,  2.12it/s]"
     ]
    },
    {
     "name": "stdout",
     "output_type": "stream",
     "text": [
      "Expected offset: 35134 pre-window: 35134 | -39.36965906324201 post-window: 35134 | -39.36965906324201\n"
     ]
    },
    {
     "name": "stderr",
     "output_type": "stream",
     "text": [
      "395it [03:06,  2.47it/s]"
     ]
    },
    {
     "name": "stdout",
     "output_type": "stream",
     "text": [
      "Expected offset: 77137 pre-window: 114312 | -2.9064281904088998 post-window: 77029 | -2.3155091975112978e-08\n",
      "Warning - windowed corr for line 00_33_53_Petunia Petals_Neutral__Let's see.\n",
      " low; using pre-window\n"
     ]
    },
    {
     "name": "stderr",
     "output_type": "stream",
     "text": [
      "396it [03:07,  2.40it/s]"
     ]
    },
    {
     "name": "stdout",
     "output_type": "stream",
     "text": [
      "Expected offset: 11874 pre-window: 11874 | -18.10052185328274 post-window: 11874 | -18.10052185328274\n"
     ]
    },
    {
     "name": "stderr",
     "output_type": "stream",
     "text": [
      "397it [03:07,  2.31it/s]"
     ]
    },
    {
     "name": "stdout",
     "output_type": "stream",
     "text": [
      "Expected offset: 14037 pre-window: 14038 | -23.387461834255337 post-window: 14038 | -23.386804071141086\n"
     ]
    },
    {
     "name": "stderr",
     "output_type": "stream",
     "text": [
      "398it [03:08,  2.24it/s]"
     ]
    },
    {
     "name": "stdout",
     "output_type": "stream",
     "text": [
      "Expected offset: 17828 pre-window: 17828 | -4.599629695401478 post-window: 17828 | -4.599629695401478\n"
     ]
    },
    {
     "name": "stderr",
     "output_type": "stream",
     "text": [
      "399it [03:08,  2.16it/s]"
     ]
    },
    {
     "name": "stdout",
     "output_type": "stream",
     "text": [
      "Expected offset: 23171 pre-window: 23172 | -29.72439957338588 post-window: 23172 | -29.724028020713423\n"
     ]
    },
    {
     "name": "stderr",
     "output_type": "stream",
     "text": [
      "400it [03:09,  2.08it/s]"
     ]
    },
    {
     "name": "stdout",
     "output_type": "stream",
     "text": [
      "Expected offset: 91474 pre-window: 91474 | -12.80185676704625 post-window: 91474 | -12.80185676704625\n"
     ]
    },
    {
     "name": "stderr",
     "output_type": "stream",
     "text": [
      "401it [03:09,  2.01it/s]"
     ]
    },
    {
     "name": "stdout",
     "output_type": "stream",
     "text": [
      "Expected offset: 43719 pre-window: 43719 | -26.542607032872105 post-window: 43719 | -26.542524087354728\n"
     ]
    },
    {
     "name": "stderr",
     "output_type": "stream",
     "text": [
      "402it [03:10,  2.09it/s]"
     ]
    },
    {
     "name": "stdout",
     "output_type": "stream",
     "text": [
      "Expected offset: 12950 pre-window: 12951 | -5.425292210293531 post-window: 12951 | -5.425224394564752\n"
     ]
    },
    {
     "name": "stderr",
     "output_type": "stream",
     "text": [
      "403it [03:10,  2.10it/s]"
     ]
    },
    {
     "name": "stdout",
     "output_type": "stream",
     "text": [
      "Expected offset: 20457 pre-window: 20457 | -16.01897717193054 post-window: 20457 | -16.01897717193054\n"
     ]
    },
    {
     "name": "stderr",
     "output_type": "stream",
     "text": [
      "404it [03:11,  2.13it/s]"
     ]
    },
    {
     "name": "stdout",
     "output_type": "stream",
     "text": [
      "Expected offset: 14487 pre-window: 14487 | -35.19333145171297 post-window: 14487 | -35.19333145171297\n"
     ]
    },
    {
     "name": "stderr",
     "output_type": "stream",
     "text": [
      "405it [03:11,  2.16it/s]"
     ]
    },
    {
     "name": "stdout",
     "output_type": "stream",
     "text": [
      "Expected offset: 21393 pre-window: 21394 | -21.452203727576432 post-window: 21394 | -21.45160039283103\n"
     ]
    },
    {
     "name": "stderr",
     "output_type": "stream",
     "text": [
      "406it [03:12,  2.13it/s]"
     ]
    },
    {
     "name": "stdout",
     "output_type": "stream",
     "text": [
      "Expected offset: 20077 pre-window: 20078 | -48.440769034308246 post-window: 20078 | -48.44016352847974\n"
     ]
    },
    {
     "name": "stderr",
     "output_type": "stream",
     "text": [
      "407it [03:12,  2.07it/s]"
     ]
    },
    {
     "name": "stdout",
     "output_type": "stream",
     "text": [
      "Expected offset: 49660 pre-window: 49661 | -15.229362750238883 post-window: 49661 | -15.229172384394293\n"
     ]
    },
    {
     "name": "stderr",
     "output_type": "stream",
     "text": [
      "408it [03:13,  2.10it/s]"
     ]
    },
    {
     "name": "stdout",
     "output_type": "stream",
     "text": [
      "Expected offset: 32315 pre-window: 32315 | -10.416234794250816 post-window: 32315 | -10.416234794250816\n"
     ]
    },
    {
     "name": "stderr",
     "output_type": "stream",
     "text": [
      "409it [03:13,  2.11it/s]"
     ]
    },
    {
     "name": "stdout",
     "output_type": "stream",
     "text": [
      "Expected offset: 28332 pre-window: 28333 | -25.398622653098734 post-window: 28333 | -25.39830517229983\n"
     ]
    },
    {
     "name": "stderr",
     "output_type": "stream",
     "text": [
      "410it [03:14,  2.15it/s]"
     ]
    },
    {
     "name": "stdout",
     "output_type": "stream",
     "text": [
      "Expected offset: 46507 pre-window: 46507 | -28.409213073610204 post-window: 46507 | -28.409213073610204\n"
     ]
    },
    {
     "name": "stderr",
     "output_type": "stream",
     "text": [
      "411it [03:14,  2.14it/s]"
     ]
    },
    {
     "name": "stdout",
     "output_type": "stream",
     "text": [
      "Expected offset: 18894 pre-window: 18895 | -33.54185198278459 post-window: 18895 | -33.54143271225525\n"
     ]
    },
    {
     "name": "stderr",
     "output_type": "stream",
     "text": [
      "412it [03:14,  2.18it/s]"
     ]
    },
    {
     "name": "stdout",
     "output_type": "stream",
     "text": [
      "Expected offset: 38497 pre-window: 38497 | -17.271614694696233 post-window: 38497 | -17.271614694696233\n"
     ]
    },
    {
     "name": "stderr",
     "output_type": "stream",
     "text": [
      "413it [03:15,  2.60it/s]"
     ]
    },
    {
     "name": "stdout",
     "output_type": "stream",
     "text": [
      "Expected offset: 75079 pre-window: 75080 | -28.31729745020179 post-window: 75080 | -28.31650103741061\n"
     ]
    },
    {
     "name": "stderr",
     "output_type": "stream",
     "text": [
      "414it [03:15,  2.42it/s]"
     ]
    },
    {
     "name": "stdout",
     "output_type": "stream",
     "text": [
      "Expected offset: 25024 pre-window: 25024 | -19.25340310028473 post-window: 25024 | -19.25340310028473\n"
     ]
    },
    {
     "name": "stderr",
     "output_type": "stream",
     "text": [
      "415it [03:16,  2.36it/s]"
     ]
    },
    {
     "name": "stdout",
     "output_type": "stream",
     "text": [
      "Expected offset: 17015 pre-window: 17016 | -34.77627488825373 post-window: 17016 | -34.77584018753451\n"
     ]
    },
    {
     "name": "stderr",
     "output_type": "stream",
     "text": [
      "416it [03:16,  2.30it/s]"
     ]
    },
    {
     "name": "stdout",
     "output_type": "stream",
     "text": [
      "Expected offset: 30695 pre-window: 30696 | -35.09673989437757 post-window: 30696 | -35.096301187870814\n"
     ]
    },
    {
     "name": "stderr",
     "output_type": "stream",
     "text": [
      "417it [03:16,  2.24it/s]"
     ]
    },
    {
     "name": "stdout",
     "output_type": "stream",
     "text": [
      "Expected offset: 24990 pre-window: 24990 | -49.51517182717273 post-window: 24990 | -49.51517182717273\n"
     ]
    },
    {
     "name": "stderr",
     "output_type": "stream",
     "text": [
      "418it [03:17,  2.59it/s]"
     ]
    },
    {
     "name": "stdout",
     "output_type": "stream",
     "text": [
      "Expected offset: 31737 pre-window: 31738 | -29.501223524157197 post-window: 31738 | -29.50085476116792\n"
     ]
    },
    {
     "name": "stderr",
     "output_type": "stream",
     "text": [
      "419it [03:17,  2.45it/s]"
     ]
    },
    {
     "name": "stdout",
     "output_type": "stream",
     "text": [
      "Expected offset: 15008 pre-window: 15008 | -38.46950976800491 post-window: 15008 | -38.46950976800491\n"
     ]
    },
    {
     "name": "stderr",
     "output_type": "stream",
     "text": [
      "420it [03:18,  2.30it/s]"
     ]
    },
    {
     "name": "stdout",
     "output_type": "stream",
     "text": [
      "Expected offset: 22360 pre-window: 22360 | -12.919878096221794 post-window: 22360 | -12.919878096221794\n"
     ]
    },
    {
     "name": "stderr",
     "output_type": "stream",
     "text": [
      "421it [03:18,  2.26it/s]"
     ]
    },
    {
     "name": "stdout",
     "output_type": "stream",
     "text": [
      "Expected offset: 59835 pre-window: 59835 | -18.664306153987283 post-window: 59835 | -18.664247828121685\n"
     ]
    },
    {
     "name": "stderr",
     "output_type": "stream",
     "text": [
      "422it [03:19,  2.26it/s]"
     ]
    },
    {
     "name": "stdout",
     "output_type": "stream",
     "text": [
      "Expected offset: 18244 pre-window: 18245 | -16.787751538169143 post-window: 18245 | -16.787541692586455\n"
     ]
    },
    {
     "name": "stderr",
     "output_type": "stream",
     "text": [
      "423it [03:19,  2.14it/s]"
     ]
    },
    {
     "name": "stdout",
     "output_type": "stream",
     "text": [
      "Expected offset: 23001 pre-window: 23001 | -14.88525383236971 post-window: 23001 | -14.88525383236971\n"
     ]
    },
    {
     "name": "stderr",
     "output_type": "stream",
     "text": [
      "424it [03:20,  2.16it/s]"
     ]
    },
    {
     "name": "stdout",
     "output_type": "stream",
     "text": [
      "Expected offset: 25184 pre-window: 25184 | -30.941025921286492 post-window: 25184 | -30.941025921286492\n"
     ]
    },
    {
     "name": "stderr",
     "output_type": "stream",
     "text": [
      "425it [03:20,  2.19it/s]"
     ]
    },
    {
     "name": "stdout",
     "output_type": "stream",
     "text": [
      "Expected offset: 21907 pre-window: 21908 | -41.038410943059915 post-window: 21908 | -41.037897966129236\n"
     ]
    },
    {
     "name": "stderr",
     "output_type": "stream",
     "text": [
      "426it [03:20,  2.19it/s]"
     ]
    },
    {
     "name": "stdout",
     "output_type": "stream",
     "text": [
      "Expected offset: 29666 pre-window: 29667 | -25.790252940905802 post-window: 29667 | -25.789930564758894\n"
     ]
    },
    {
     "name": "stderr",
     "output_type": "stream",
     "text": [
      "427it [03:21,  2.20it/s]"
     ]
    },
    {
     "name": "stdout",
     "output_type": "stream",
     "text": [
      "Expected offset: 224895 pre-window: 224896 | -41.05656792586622 post-window: 224896 | -41.056054721974675\n"
     ]
    },
    {
     "name": "stderr",
     "output_type": "stream",
     "text": [
      "428it [03:22,  2.04it/s]"
     ]
    },
    {
     "name": "stdout",
     "output_type": "stream",
     "text": [
      "Expected offset: 55807 pre-window: 55807 | -21.640141257848917 post-window: 55807 | -21.640141257848917\n"
     ]
    },
    {
     "name": "stderr",
     "output_type": "stream",
     "text": [
      "429it [03:22,  2.07it/s]"
     ]
    },
    {
     "name": "stdout",
     "output_type": "stream",
     "text": [
      "Expected offset: 29272 pre-window: 29273 | -47.198421274412446 post-window: 29273 | -47.19783129783388\n"
     ]
    },
    {
     "name": "stderr",
     "output_type": "stream",
     "text": [
      "430it [03:22,  2.12it/s]"
     ]
    },
    {
     "name": "stdout",
     "output_type": "stream",
     "text": [
      "Expected offset: 126009 pre-window: 126009 | -28.801252083481003 post-window: 126009 | -28.801252083481003\n"
     ]
    },
    {
     "name": "stderr",
     "output_type": "stream",
     "text": [
      "431it [03:23,  2.11it/s]"
     ]
    },
    {
     "name": "stdout",
     "output_type": "stream",
     "text": [
      "Expected offset: 120331 pre-window: 120332 | -47.98879015804495 post-window: 120332 | -47.98819030191708\n"
     ]
    },
    {
     "name": "stderr",
     "output_type": "stream",
     "text": [
      "432it [03:23,  2.13it/s]"
     ]
    },
    {
     "name": "stdout",
     "output_type": "stream",
     "text": [
      "Expected offset: 37282 pre-window: 37283 | -57.90142100564627 post-window: 37283 | -57.900697242407226\n"
     ]
    },
    {
     "name": "stderr",
     "output_type": "stream",
     "text": [
      "433it [03:24,  2.15it/s]"
     ]
    },
    {
     "name": "stdout",
     "output_type": "stream",
     "text": [
      "Expected offset: 37306 pre-window: 37306 | -57.88756182174007 post-window: 37306 | -57.88756182174007\n"
     ]
    },
    {
     "name": "stderr",
     "output_type": "stream",
     "text": [
      "434it [03:24,  2.17it/s]"
     ]
    },
    {
     "name": "stdout",
     "output_type": "stream",
     "text": [
      "Expected offset: 48109 pre-window: 48110 | -45.02574689451504 post-window: 48110 | -45.025184076196474\n"
     ]
    },
    {
     "name": "stderr",
     "output_type": "stream",
     "text": [
      "435it [03:25,  2.20it/s]"
     ]
    },
    {
     "name": "stdout",
     "output_type": "stream",
     "text": [
      "Expected offset: 31031 pre-window: 31032 | -39.50904227642823 post-window: 31032 | -39.508548416486406\n"
     ]
    },
    {
     "name": "stderr",
     "output_type": "stream",
     "text": [
      "436it [03:25,  2.20it/s]"
     ]
    },
    {
     "name": "stdout",
     "output_type": "stream",
     "text": [
      "Expected offset: 27570 pre-window: 27570 | -17.254482076448053 post-window: 27570 | -17.254482076448053\n"
     ]
    },
    {
     "name": "stderr",
     "output_type": "stream",
     "text": [
      "437it [03:25,  2.54it/s]"
     ]
    },
    {
     "name": "stdout",
     "output_type": "stream",
     "text": [
      "Expected offset: 12399 pre-window: 12399 | -14.63404129093419 post-window: 12399 | -14.63404129093419\n"
     ]
    },
    {
     "name": "stderr",
     "output_type": "stream",
     "text": [
      "438it [03:26,  2.45it/s]"
     ]
    },
    {
     "name": "stdout",
     "output_type": "stream",
     "text": [
      "Expected offset: 10857 pre-window: 10858 | -39.64543575837521 post-window: 10858 | -39.644940193525514\n"
     ]
    },
    {
     "name": "stderr",
     "output_type": "stream",
     "text": [
      "439it [03:26,  2.36it/s]"
     ]
    },
    {
     "name": "stdout",
     "output_type": "stream",
     "text": [
      "Expected offset: 31159 pre-window: 31159 | -19.096329792471742 post-window: 31159 | -19.096270116534384\n"
     ]
    },
    {
     "name": "stderr",
     "output_type": "stream",
     "text": [
      "440it [03:27,  2.33it/s]"
     ]
    },
    {
     "name": "stdout",
     "output_type": "stream",
     "text": [
      "Expected offset: 14262 pre-window: 14262 | -35.11311083261339 post-window: 14262 | -35.11311083261339\n"
     ]
    },
    {
     "name": "stderr",
     "output_type": "stream",
     "text": [
      "441it [03:27,  2.29it/s]"
     ]
    },
    {
     "name": "stdout",
     "output_type": "stream",
     "text": [
      "Expected offset: 37551 pre-window: 37552 | -28.51189969487254 post-window: 37552 | -28.511543298353835\n"
     ]
    },
    {
     "name": "stderr",
     "output_type": "stream",
     "text": [
      "442it [03:28,  2.27it/s]"
     ]
    },
    {
     "name": "stdout",
     "output_type": "stream",
     "text": [
      "Expected offset: 41213 pre-window: 41213 | -31.77348480417402 post-window: 41213 | -31.77348480417402\n"
     ]
    },
    {
     "name": "stderr",
     "output_type": "stream",
     "text": [
      "443it [03:28,  2.24it/s]"
     ]
    },
    {
     "name": "stdout",
     "output_type": "stream",
     "text": [
      "Expected offset: 25826 pre-window: 25827 | -38.75485342345256 post-window: 25827 | -38.75436899081247\n"
     ]
    },
    {
     "name": "stderr",
     "output_type": "stream",
     "text": [
      "444it [03:29,  2.25it/s]"
     ]
    },
    {
     "name": "stdout",
     "output_type": "stream",
     "text": [
      "Expected offset: 57692 pre-window: 57693 | -32.0133349807962 post-window: 57693 | -32.01293481660997\n"
     ]
    },
    {
     "name": "stderr",
     "output_type": "stream",
     "text": [
      "445it [03:29,  2.24it/s]"
     ]
    },
    {
     "name": "stdout",
     "output_type": "stream",
     "text": [
      "Expected offset: 33279 pre-window: 33279 | -25.833849118201655 post-window: 33279 | -25.833849118201655\n"
     ]
    },
    {
     "name": "stderr",
     "output_type": "stream",
     "text": [
      "446it [03:29,  2.26it/s]"
     ]
    },
    {
     "name": "stdout",
     "output_type": "stream",
     "text": [
      "Expected offset: 32829 pre-window: 32829 | -4.1428461938064896 post-window: 32829 | -4.142833247432362\n"
     ]
    },
    {
     "name": "stderr",
     "output_type": "stream",
     "text": [
      "447it [03:30,  2.26it/s]"
     ]
    },
    {
     "name": "stdout",
     "output_type": "stream",
     "text": [
      "Expected offset: 14648 pre-window: 14648 | -47.63612381610538 post-window: 14648 | -47.635974953451054\n"
     ]
    },
    {
     "name": "stderr",
     "output_type": "stream",
     "text": [
      "448it [03:30,  2.22it/s]"
     ]
    },
    {
     "name": "stdout",
     "output_type": "stream",
     "text": [
      "Expected offset: 31287 pre-window: 31288 | -15.316867678807766 post-window: 31288 | -15.316676219158406\n"
     ]
    },
    {
     "name": "stderr",
     "output_type": "stream",
     "text": [
      "449it [03:31,  2.22it/s]"
     ]
    },
    {
     "name": "stdout",
     "output_type": "stream",
     "text": [
      "Expected offset: 12806 pre-window: 12807 | -28.20198491840035 post-window: 12807 | -28.20163239579214\n"
     ]
    },
    {
     "name": "stderr",
     "output_type": "stream",
     "text": [
      "451it [03:31,  2.72it/s]"
     ]
    },
    {
     "name": "stdout",
     "output_type": "stream",
     "text": [
      "Expected offset: 16680 pre-window: 16680 | -50.20184309965603 post-window: 16680 | -50.20184309965603\n",
      "Expected offset: 47384 pre-window: 47384 | -37.63139195887905 post-window: 47384 | -37.63139195887905\n"
     ]
    },
    {
     "name": "stderr",
     "output_type": "stream",
     "text": [
      "452it [03:32,  2.47it/s]"
     ]
    },
    {
     "name": "stdout",
     "output_type": "stream",
     "text": [
      "Expected offset: 21489 pre-window: 21489 | -35.30112262050508 post-window: 21489 | -35.30112262050508\n"
     ]
    },
    {
     "name": "stderr",
     "output_type": "stream",
     "text": [
      "453it [03:32,  2.23it/s]"
     ]
    },
    {
     "name": "stdout",
     "output_type": "stream",
     "text": [
      "Expected offset: 30259 pre-window: 30260 | -63.17658242649625 post-window: 30260 | -63.17579272415157\n"
     ]
    },
    {
     "name": "stderr",
     "output_type": "stream",
     "text": [
      "454it [03:33,  2.15it/s]"
     ]
    },
    {
     "name": "stdout",
     "output_type": "stream",
     "text": [
      "Expected offset: 25055 pre-window: 25055 | -22.61684245544304 post-window: 25055 | -22.6167717779208\n"
     ]
    },
    {
     "name": "stderr",
     "output_type": "stream",
     "text": [
      "455it [03:33,  2.10it/s]"
     ]
    },
    {
     "name": "stdout",
     "output_type": "stream",
     "text": [
      "Expected offset: 19916 pre-window: 19916 | -34.88732162299432 post-window: 19916 | -34.88732162299432\n"
     ]
    },
    {
     "name": "stderr",
     "output_type": "stream",
     "text": [
      "456it [03:34,  2.07it/s]"
     ]
    },
    {
     "name": "stdout",
     "output_type": "stream",
     "text": [
      "Expected offset: 65594 pre-window: 65595 | -39.172326633787925 post-window: 65595 | -39.17183698276533\n"
     ]
    },
    {
     "name": "stderr",
     "output_type": "stream",
     "text": [
      "457it [03:34,  2.03it/s]"
     ]
    },
    {
     "name": "stdout",
     "output_type": "stream",
     "text": [
      "Expected offset: 56536 pre-window: 56536 | -38.50011777371548 post-window: 56536 | -38.50011777371548\n"
     ]
    },
    {
     "name": "stderr",
     "output_type": "stream",
     "text": [
      "458it [03:35,  1.91it/s]"
     ]
    },
    {
     "name": "stdout",
     "output_type": "stream",
     "text": [
      "Expected offset: 37068 pre-window: 37069 | -35.037176900226385 post-window: 37069 | -35.0367389382524\n"
     ]
    },
    {
     "name": "stderr",
     "output_type": "stream",
     "text": [
      "459it [03:36,  1.88it/s]"
     ]
    },
    {
     "name": "stdout",
     "output_type": "stream",
     "text": [
      "Expected offset: 23772 pre-window: 23772 | -42.6805773354755 post-window: 23772 | -42.6805773354755\n"
     ]
    },
    {
     "name": "stderr",
     "output_type": "stream",
     "text": [
      "460it [03:36,  2.29it/s]"
     ]
    },
    {
     "name": "stdout",
     "output_type": "stream",
     "text": [
      "Expected offset: 37955 pre-window: 37956 | -31.26218117091297 post-window: 37956 | -31.26179039609068\n"
     ]
    },
    {
     "name": "stderr",
     "output_type": "stream",
     "text": [
      "461it [03:36,  2.73it/s]"
     ]
    },
    {
     "name": "stdout",
     "output_type": "stream",
     "text": [
      "Expected offset: 20351 pre-window: 20352 | -28.158052130208247 post-window: 20352 | -28.15726019612871\n"
     ]
    },
    {
     "name": "stderr",
     "output_type": "stream",
     "text": [
      "462it [03:37,  2.54it/s]"
     ]
    },
    {
     "name": "stdout",
     "output_type": "stream",
     "text": [
      "Expected offset: 22898 pre-window: 22898 | -20.9726150999421 post-window: 22898 | -20.9726150999421\n"
     ]
    },
    {
     "name": "stderr",
     "output_type": "stream",
     "text": [
      "463it [03:37,  2.45it/s]"
     ]
    },
    {
     "name": "stdout",
     "output_type": "stream",
     "text": [
      "Expected offset: 18477 pre-window: 18478 | -40.803336721640065 post-window: 18478 | -40.80282668311879\n"
     ]
    },
    {
     "name": "stderr",
     "output_type": "stream",
     "text": [
      "464it [03:37,  2.26it/s]"
     ]
    },
    {
     "name": "stdout",
     "output_type": "stream",
     "text": [
      "Expected offset: 43455 pre-window: 43455 | -51.30042833157921 post-window: 43455 | -51.30042833157921\n"
     ]
    },
    {
     "name": "stderr",
     "output_type": "stream",
     "text": [
      "465it [03:38,  1.92it/s]"
     ]
    },
    {
     "name": "stdout",
     "output_type": "stream",
     "text": [
      "Expected offset: 88658 pre-window: 88659 | -36.75892484131952 post-window: 88659 | -36.75846535763078\n"
     ]
    },
    {
     "name": "stderr",
     "output_type": "stream",
     "text": [
      "466it [03:39,  2.00it/s]"
     ]
    },
    {
     "name": "stdout",
     "output_type": "stream",
     "text": [
      "Expected offset: 22164 pre-window: 22165 | -42.03503796804378 post-window: 22165 | -42.03451253335315\n"
     ]
    },
    {
     "name": "stderr",
     "output_type": "stream",
     "text": [
      "467it [03:39,  2.07it/s]"
     ]
    },
    {
     "name": "stdout",
     "output_type": "stream",
     "text": [
      "Expected offset: 68944 pre-window: 68945 | -47.89339391775089 post-window: 68945 | -47.892795254068574\n"
     ]
    },
    {
     "name": "stderr",
     "output_type": "stream",
     "text": [
      "468it [03:39,  2.15it/s]"
     ]
    },
    {
     "name": "stdout",
     "output_type": "stream",
     "text": [
      "Expected offset: 29024 pre-window: 29024 | -36.56298462887649 post-window: 29024 | -36.56298462887649\n"
     ]
    },
    {
     "name": "stderr",
     "output_type": "stream",
     "text": [
      "469it [03:40,  2.16it/s]"
     ]
    },
    {
     "name": "stdout",
     "output_type": "stream",
     "text": [
      "Expected offset: 22024 pre-window: 22024 | -47.946608563627564 post-window: 22024 | -47.946608563627564\n"
     ]
    },
    {
     "name": "stderr",
     "output_type": "stream",
     "text": [
      "470it [03:40,  2.19it/s]"
     ]
    },
    {
     "name": "stdout",
     "output_type": "stream",
     "text": [
      "Expected offset: 38565 pre-window: 38565 | -32.12149770685862 post-window: 38565 | -32.121397327335124\n"
     ]
    },
    {
     "name": "stderr",
     "output_type": "stream",
     "text": [
      "471it [03:41,  2.22it/s]"
     ]
    },
    {
     "name": "stdout",
     "output_type": "stream",
     "text": [
      "Expected offset: 21826 pre-window: 21827 | -30.72241885000375 post-window: 21827 | -30.7220348221683\n"
     ]
    },
    {
     "name": "stderr",
     "output_type": "stream",
     "text": [
      "472it [03:41,  2.27it/s]"
     ]
    },
    {
     "name": "stdout",
     "output_type": "stream",
     "text": [
      "Expected offset: 20767 pre-window: 20768 | -37.92018368421177 post-window: 20768 | -37.919117194043245\n"
     ]
    },
    {
     "name": "stderr",
     "output_type": "stream",
     "text": [
      "473it [03:42,  2.38it/s]"
     ]
    },
    {
     "name": "stdout",
     "output_type": "stream",
     "text": [
      "Expected offset: 38611 pre-window: 38611 | -14.385457646596507 post-window: 38611 | -14.385457646596507\n"
     ]
    },
    {
     "name": "stderr",
     "output_type": "stream",
     "text": [
      "474it [03:42,  2.54it/s]"
     ]
    },
    {
     "name": "stdout",
     "output_type": "stream",
     "text": [
      "Expected offset: 16896 pre-window: 16897 | -30.14505006592617 post-window: 16897 | -30.144673255155418\n"
     ]
    },
    {
     "name": "stderr",
     "output_type": "stream",
     "text": [
      "475it [03:42,  2.43it/s]"
     ]
    },
    {
     "name": "stdout",
     "output_type": "stream",
     "text": [
      "Expected offset: 51910 pre-window: 51910 | -47.74165520596607 post-window: 51910 | -47.74165520596607\n"
     ]
    },
    {
     "name": "stderr",
     "output_type": "stream",
     "text": [
      "476it [03:43,  2.38it/s]"
     ]
    },
    {
     "name": "stdout",
     "output_type": "stream",
     "text": [
      "Expected offset: 29973 pre-window: 29974 | -31.333184421893012 post-window: 29974 | -31.33230318847355\n"
     ]
    },
    {
     "name": "stderr",
     "output_type": "stream",
     "text": [
      "477it [03:43,  2.36it/s]"
     ]
    },
    {
     "name": "stdout",
     "output_type": "stream",
     "text": [
      "Expected offset: 129127 pre-window: 129128 | -40.63979728200337 post-window: 129128 | -40.638654303778026\n"
     ]
    },
    {
     "name": "stderr",
     "output_type": "stream",
     "text": [
      "478it [03:44,  2.30it/s]"
     ]
    },
    {
     "name": "stdout",
     "output_type": "stream",
     "text": [
      "Expected offset: 22906 pre-window: 22906 | -56.4213180367521 post-window: 22906 | -56.4213180367521\n"
     ]
    },
    {
     "name": "stderr",
     "output_type": "stream",
     "text": [
      "479it [03:44,  2.25it/s]"
     ]
    },
    {
     "name": "stdout",
     "output_type": "stream",
     "text": [
      "Expected offset: 42080 pre-window: 42081 | -17.01060809639373 post-window: 42081 | -17.010395465121473\n"
     ]
    },
    {
     "name": "stderr",
     "output_type": "stream",
     "text": [
      "480it [03:45,  2.15it/s]"
     ]
    },
    {
     "name": "stdout",
     "output_type": "stream",
     "text": [
      "Expected offset: 113521 pre-window: 113522 | -17.08703782916903 post-window: 113522 | -17.086824242531083\n"
     ]
    },
    {
     "name": "stderr",
     "output_type": "stream",
     "text": [
      "481it [03:45,  2.18it/s]"
     ]
    },
    {
     "name": "stdout",
     "output_type": "stream",
     "text": [
      "Expected offset: 14391 pre-window: 14391 | -18.270324433194713 post-window: 14391 | -18.270324433194713\n"
     ]
    },
    {
     "name": "stderr",
     "output_type": "stream",
     "text": [
      "482it [03:46,  2.18it/s]"
     ]
    },
    {
     "name": "stdout",
     "output_type": "stream",
     "text": [
      "Expected offset: 10150 pre-window: 10151 | -40.20793587282316 post-window: 10151 | -40.207433276765975\n"
     ]
    },
    {
     "name": "stderr",
     "output_type": "stream",
     "text": [
      "483it [03:46,  2.09it/s]"
     ]
    },
    {
     "name": "stdout",
     "output_type": "stream",
     "text": [
      "Expected offset: 68557 pre-window: 68557 | -31.349422214436945 post-window: 68557 | -31.349324247645598\n"
     ]
    },
    {
     "name": "stderr",
     "output_type": "stream",
     "text": [
      "484it [03:46,  2.48it/s]"
     ]
    },
    {
     "name": "stdout",
     "output_type": "stream",
     "text": [
      "Expected offset: 18367 pre-window: 18367 | -12.682315591609749 post-window: 18367 | -12.682275959435449\n"
     ]
    },
    {
     "name": "stderr",
     "output_type": "stream",
     "text": [
      "485it [03:47,  2.36it/s]"
     ]
    },
    {
     "name": "stdout",
     "output_type": "stream",
     "text": [
      "Expected offset: 20336 pre-window: 20337 | -17.064274994212106 post-window: 20337 | -17.064061692107817\n"
     ]
    },
    {
     "name": "stderr",
     "output_type": "stream",
     "text": [
      "486it [03:47,  2.32it/s]"
     ]
    },
    {
     "name": "stdout",
     "output_type": "stream",
     "text": [
      "Expected offset: 18596 pre-window: 18596 | -20.28500100781045 post-window: 18596 | -20.28500100781045\n"
     ]
    },
    {
     "name": "stderr",
     "output_type": "stream",
     "text": [
      "487it [03:48,  2.26it/s]"
     ]
    },
    {
     "name": "stdout",
     "output_type": "stream",
     "text": [
      "Expected offset: 33471 pre-window: 33472 | -35.33084898518267 post-window: 33472 | -35.33040735233057\n"
     ]
    },
    {
     "name": "stderr",
     "output_type": "stream",
     "text": [
      "488it [03:48,  2.51it/s]"
     ]
    },
    {
     "name": "stdout",
     "output_type": "stream",
     "text": [
      "Expected offset: 36170 pre-window: 36170 | -30.61695376316559 post-window: 36170 | -30.61695376316559\n"
     ]
    },
    {
     "name": "stderr",
     "output_type": "stream",
     "text": [
      "489it [03:48,  2.43it/s]"
     ]
    },
    {
     "name": "stdout",
     "output_type": "stream",
     "text": [
      "Expected offset: 40795 pre-window: 40796 | -44.23383240335923 post-window: 40796 | -44.23327948390994\n"
     ]
    },
    {
     "name": "stderr",
     "output_type": "stream",
     "text": [
      "490it [03:49,  2.19it/s]"
     ]
    },
    {
     "name": "stdout",
     "output_type": "stream",
     "text": [
      "Expected offset: 39061 pre-window: 39061 | -24.27207585857787 post-window: 39061 | -24.27200000845933\n"
     ]
    },
    {
     "name": "stderr",
     "output_type": "stream",
     "text": [
      "491it [03:49,  2.21it/s]"
     ]
    },
    {
     "name": "stdout",
     "output_type": "stream",
     "text": [
      "Expected offset: 13620 pre-window: 13620 | -38.40895668158657 post-window: 13620 | -38.40895668158657\n"
     ]
    },
    {
     "name": "stderr",
     "output_type": "stream",
     "text": [
      "492it [03:50,  2.21it/s]"
     ]
    },
    {
     "name": "stdout",
     "output_type": "stream",
     "text": [
      "Expected offset: 30966 pre-window: 30967 | -38.54198824911668 post-window: 30967 | -38.541506477274645\n"
     ]
    },
    {
     "name": "stderr",
     "output_type": "stream",
     "text": [
      "493it [03:50,  2.23it/s]"
     ]
    },
    {
     "name": "stdout",
     "output_type": "stream",
     "text": [
      "Expected offset: 62189 pre-window: 62189 | -28.08315527010327 post-window: 62189 | -28.083067510380175\n"
     ]
    },
    {
     "name": "stderr",
     "output_type": "stream",
     "text": [
      "494it [03:51,  2.16it/s]"
     ]
    },
    {
     "name": "stdout",
     "output_type": "stream",
     "text": [
      "Expected offset: 21329 pre-window: 21330 | -23.64400932359097 post-window: 21330 | -23.64334434518005\n"
     ]
    },
    {
     "name": "stderr",
     "output_type": "stream",
     "text": [
      "495it [03:51,  2.49it/s]"
     ]
    },
    {
     "name": "stdout",
     "output_type": "stream",
     "text": [
      "Expected offset: 16896 pre-window: 16897 | -40.806809664222364 post-window: 16897 | -40.80566198883982\n"
     ]
    },
    {
     "name": "stderr",
     "output_type": "stream",
     "text": [
      "496it [03:52,  2.47it/s]"
     ]
    },
    {
     "name": "stdout",
     "output_type": "stream",
     "text": [
      "Expected offset: 26597 pre-window: 26597 | -19.90461483131773 post-window: 26597 | -19.90461483131773\n"
     ]
    },
    {
     "name": "stderr",
     "output_type": "stream",
     "text": [
      "497it [03:52,  2.84it/s]"
     ]
    },
    {
     "name": "stdout",
     "output_type": "stream",
     "text": [
      "Expected offset: 17346 pre-window: 17347 | -23.004799239960484 post-window: 17347 | -23.00415223908035\n"
     ]
    },
    {
     "name": "stderr",
     "output_type": "stream",
     "text": [
      "498it [03:52,  2.47it/s]"
     ]
    },
    {
     "name": "stdout",
     "output_type": "stream",
     "text": [
      "Expected offset: 18053 pre-window: 18053 | -13.641165830247708 post-window: 18053 | -13.641165830247708\n"
     ]
    },
    {
     "name": "stderr",
     "output_type": "stream",
     "text": [
      "499it [03:53,  2.79it/s]"
     ]
    },
    {
     "name": "stdout",
     "output_type": "stream",
     "text": [
      "Expected offset: 12961 pre-window: 12961 | -25.24045904601081 post-window: 12961 | -25.24045904601081\n"
     ]
    },
    {
     "name": "stderr",
     "output_type": "stream",
     "text": [
      "500it [03:53,  2.58it/s]"
     ]
    },
    {
     "name": "stdout",
     "output_type": "stream",
     "text": [
      "Expected offset: 13829 pre-window: 13829 | -45.0853664458109 post-window: 13829 | -45.0853664458109\n"
     ]
    },
    {
     "name": "stderr",
     "output_type": "stream",
     "text": [
      "501it [03:53,  2.42it/s]"
     ]
    },
    {
     "name": "stdout",
     "output_type": "stream",
     "text": [
      "Expected offset: 34371 pre-window: 34371 | -36.85760134035982 post-window: 34371 | -36.85760134035982\n"
     ]
    },
    {
     "name": "stderr",
     "output_type": "stream",
     "text": [
      "502it [03:54,  2.19it/s]"
     ]
    },
    {
     "name": "stdout",
     "output_type": "stream",
     "text": [
      "Expected offset: 67583 pre-window: 67584 | -23.72255447855031 post-window: 67584 | -23.722257948472645\n"
     ]
    },
    {
     "name": "stderr",
     "output_type": "stream",
     "text": [
      "503it [03:55,  2.19it/s]"
     ]
    },
    {
     "name": "stdout",
     "output_type": "stream",
     "text": [
      "Expected offset: 54383 pre-window: 54384 | -37.261995925526946 post-window: 54384 | -37.261530153488955\n"
     ]
    },
    {
     "name": "stderr",
     "output_type": "stream",
     "text": [
      "504it [03:55,  2.15it/s]"
     ]
    },
    {
     "name": "stdout",
     "output_type": "stream",
     "text": [
      "Expected offset: 22360 pre-window: 22360 | -23.76710115096651 post-window: 22360 | -23.767026878891464\n"
     ]
    },
    {
     "name": "stderr",
     "output_type": "stream",
     "text": [
      "505it [03:55,  2.14it/s]"
     ]
    },
    {
     "name": "stdout",
     "output_type": "stream",
     "text": [
      "Expected offset: 50237 pre-window: 50237 | -40.106746987196786 post-window: 50237 | -40.106746987196786\n"
     ]
    },
    {
     "name": "stderr",
     "output_type": "stream",
     "text": [
      "506it [03:56,  2.00it/s]"
     ]
    },
    {
     "name": "stdout",
     "output_type": "stream",
     "text": [
      "Expected offset: 39578 pre-window: 39578 | -22.009645258945014 post-window: 39578 | -22.009645258945014\n"
     ]
    },
    {
     "name": "stderr",
     "output_type": "stream",
     "text": [
      "507it [03:57,  2.02it/s]"
     ]
    },
    {
     "name": "stdout",
     "output_type": "stream",
     "text": [
      "Expected offset: 74428 pre-window: 107411 | -42.43102112652874 post-window: 74393 | -0.13862090896433718\n",
      "Warning - windowed corr for line 00_42_31_Mayor Sunny Skies_Happy__Great job! It's even better than it was before, don'cha know!\n",
      " low; using pre-window\n"
     ]
    },
    {
     "name": "stderr",
     "output_type": "stream",
     "text": [
      "508it [03:57,  2.09it/s]"
     ]
    },
    {
     "name": "stdout",
     "output_type": "stream",
     "text": [
      "Expected offset: 86339 pre-window: 86340 | -12.392936405261015 post-window: 86340 | -12.392781494524142\n"
     ]
    },
    {
     "name": "stderr",
     "output_type": "stream",
     "text": [
      "509it [03:57,  2.23it/s]"
     ]
    },
    {
     "name": "stdout",
     "output_type": "stream",
     "text": [
      "Expected offset: 9643 pre-window: 9643 | -28.0895794883691 post-window: 9643 | -28.0895794883691\n"
     ]
    },
    {
     "name": "stderr",
     "output_type": "stream",
     "text": [
      "510it [03:58,  2.20it/s]"
     ]
    },
    {
     "name": "stdout",
     "output_type": "stream",
     "text": [
      "Expected offset: 14647 pre-window: 14648 | -4.223752930927738 post-window: 14648 | -4.223634139547067\n"
     ]
    },
    {
     "name": "stderr",
     "output_type": "stream",
     "text": [
      "511it [03:58,  2.23it/s]"
     ]
    },
    {
     "name": "stdout",
     "output_type": "stream",
     "text": [
      "Expected offset: 10664 pre-window: 10665 | -23.85471428970547 post-window: 10665 | -23.85441610764049\n"
     ]
    },
    {
     "name": "stderr",
     "output_type": "stream",
     "text": [
      "512it [03:59,  2.44it/s]"
     ]
    },
    {
     "name": "stdout",
     "output_type": "stream",
     "text": [
      "Expected offset: 120524 pre-window: 120525 | -7.4742635391136245 post-window: 120525 | -7.47417011140331\n"
     ]
    },
    {
     "name": "stderr",
     "output_type": "stream",
     "text": [
      "513it [03:59,  2.38it/s]"
     ]
    },
    {
     "name": "stdout",
     "output_type": "stream",
     "text": [
      "Expected offset: 13687 pre-window: 13687 | -25.55205583242009 post-window: 13687 | -25.55197598237038\n"
     ]
    },
    {
     "name": "stderr",
     "output_type": "stream",
     "text": [
      "514it [03:59,  2.36it/s]"
     ]
    },
    {
     "name": "stdout",
     "output_type": "stream",
     "text": [
      "Expected offset: 11858 pre-window: 11858 | -15.008663388607278 post-window: 11858 | -15.008616486607472\n"
     ]
    },
    {
     "name": "stderr",
     "output_type": "stream",
     "text": [
      "515it [04:00,  2.36it/s]"
     ]
    },
    {
     "name": "stdout",
     "output_type": "stream",
     "text": [
      "Expected offset: 10720 pre-window: 10721 | -33.28888976534907 post-window: 10721 | -33.288473656827684\n"
     ]
    },
    {
     "name": "stderr",
     "output_type": "stream",
     "text": [
      "516it [04:00,  2.29it/s]"
     ]
    },
    {
     "name": "stdout",
     "output_type": "stream",
     "text": [
      "Expected offset: 21618 pre-window: 21619 | -47.98908104008315 post-window: 21619 | -47.988481180319276\n"
     ]
    },
    {
     "name": "stderr",
     "output_type": "stream",
     "text": [
      "517it [04:01,  2.25it/s]"
     ]
    },
    {
     "name": "stdout",
     "output_type": "stream",
     "text": [
      "Expected offset: 28011 pre-window: 28011 | -52.78311155477131 post-window: 28011 | -52.78311155477131\n"
     ]
    },
    {
     "name": "stderr",
     "output_type": "stream",
     "text": [
      "518it [04:01,  2.22it/s]"
     ]
    },
    {
     "name": "stdout",
     "output_type": "stream",
     "text": [
      "Expected offset: 68293 pre-window: 68293 | -37.386212571594214 post-window: 68293 | -37.386212571594214\n"
     ]
    },
    {
     "name": "stderr",
     "output_type": "stream",
     "text": [
      "519it [04:02,  2.22it/s]"
     ]
    },
    {
     "name": "stdout",
     "output_type": "stream",
     "text": [
      "Expected offset: 68034 pre-window: 68034 | -38.752806377523534 post-window: 68034 | -38.752806377523534\n"
     ]
    },
    {
     "name": "stderr",
     "output_type": "stream",
     "text": [
      "520it [04:02,  2.16it/s]"
     ]
    },
    {
     "name": "stdout",
     "output_type": "stream",
     "text": [
      "Expected offset: 34368 pre-window: 34368 | -43.38860811919231 post-window: 34368 | -43.38860811919231\n"
     ]
    },
    {
     "name": "stderr",
     "output_type": "stream",
     "text": [
      "521it [04:03,  2.18it/s]"
     ]
    },
    {
     "name": "stdout",
     "output_type": "stream",
     "text": [
      "Expected offset: 38167 pre-window: 38167 | -28.946595108237968 post-window: 38167 | -28.946595108237968\n"
     ]
    },
    {
     "name": "stderr",
     "output_type": "stream",
     "text": [
      "522it [04:03,  2.20it/s]"
     ]
    },
    {
     "name": "stdout",
     "output_type": "stream",
     "text": [
      "Expected offset: 42145 pre-window: 42145 | -23.920860235425742 post-window: 42145 | -23.920785482854306\n"
     ]
    },
    {
     "name": "stderr",
     "output_type": "stream",
     "text": [
      "523it [04:04,  2.21it/s]"
     ]
    },
    {
     "name": "stdout",
     "output_type": "stream",
     "text": [
      "Expected offset: 15290 pre-window: 15291 | -26.537147051810773 post-window: 15291 | -26.536815339545832\n"
     ]
    },
    {
     "name": "stderr",
     "output_type": "stream",
     "text": [
      "524it [04:04,  2.21it/s]"
     ]
    },
    {
     "name": "stdout",
     "output_type": "stream",
     "text": [
      "Expected offset: 13509 pre-window: 13509 | -13.676280511389178 post-window: 13509 | -13.676280511389178\n"
     ]
    },
    {
     "name": "stderr",
     "output_type": "stream",
     "text": [
      "525it [04:04,  2.20it/s]"
     ]
    },
    {
     "name": "stdout",
     "output_type": "stream",
     "text": [
      "Expected offset: 30031 pre-window: 30032 | -33.63030090676195 post-window: 30032 | -33.62988053062797\n"
     ]
    },
    {
     "name": "stderr",
     "output_type": "stream",
     "text": [
      "526it [04:05,  2.14it/s]"
     ]
    },
    {
     "name": "stdout",
     "output_type": "stream",
     "text": [
      "Expected offset: 43768 pre-window: 43769 | -33.479703609891295 post-window: 43769 | -33.47928511621176\n",
      "Expected offset: 97010 pre-window: 97011 | -29.750668646465588 post-window: 97011 | -29.750296765431766\n"
     ]
    },
    {
     "name": "stderr",
     "output_type": "stream",
     "text": [
      "528it [04:06,  2.43it/s]"
     ]
    },
    {
     "name": "stdout",
     "output_type": "stream",
     "text": [
      "Expected offset: 21008 pre-window: 21008 | -52.172663554463966 post-window: 21008 | -52.172663554463966\n"
     ]
    },
    {
     "name": "stderr",
     "output_type": "stream",
     "text": [
      "529it [04:06,  2.33it/s]"
     ]
    },
    {
     "name": "stdout",
     "output_type": "stream",
     "text": [
      "Expected offset: 129164 pre-window: 129164 | -51.93264041333388 post-window: 129164 | -51.93264041333388\n"
     ]
    },
    {
     "name": "stderr",
     "output_type": "stream",
     "text": [
      "530it [04:07,  2.29it/s]"
     ]
    },
    {
     "name": "stdout",
     "output_type": "stream",
     "text": [
      "Expected offset: 41407 pre-window: 41408 | -41.42818433040232 post-window: 41408 | -41.42766648133475\n"
     ]
    },
    {
     "name": "stderr",
     "output_type": "stream",
     "text": [
      "531it [04:07,  2.31it/s]"
     ]
    },
    {
     "name": "stdout",
     "output_type": "stream",
     "text": [
      "Expected offset: 28396 pre-window: 28397 | -37.60876876916312 post-window: 28397 | -37.60771103741591\n"
     ]
    },
    {
     "name": "stderr",
     "output_type": "stream",
     "text": [
      "532it [04:07,  2.22it/s]"
     ]
    },
    {
     "name": "stdout",
     "output_type": "stream",
     "text": [
      "Expected offset: 37776 pre-window: 37776 | -54.9660002129879 post-window: 37776 | -54.9660002129879\n"
     ]
    },
    {
     "name": "stderr",
     "output_type": "stream",
     "text": [
      "533it [04:08,  2.22it/s]"
     ]
    },
    {
     "name": "stdout",
     "output_type": "stream",
     "text": [
      "Expected offset: 26219 pre-window: 26219 | -27.967584514356098 post-window: 26219 | -27.96749711579105\n"
     ]
    },
    {
     "name": "stderr",
     "output_type": "stream",
     "text": [
      "534it [04:08,  2.16it/s]"
     ]
    },
    {
     "name": "stdout",
     "output_type": "stream",
     "text": [
      "Expected offset: 39118 pre-window: 39119 | -25.61079799641731 post-window: 39119 | -25.61047786344319\n"
     ]
    },
    {
     "name": "stderr",
     "output_type": "stream",
     "text": [
      "535it [04:09,  2.18it/s]"
     ]
    },
    {
     "name": "stdout",
     "output_type": "stream",
     "text": [
      "Expected offset: 25312 pre-window: 25312 | -26.549114209906325 post-window: 25312 | -26.549114209906325\n"
     ]
    },
    {
     "name": "stderr",
     "output_type": "stream",
     "text": [
      "536it [04:09,  2.21it/s]"
     ]
    },
    {
     "name": "stdout",
     "output_type": "stream",
     "text": [
      "Expected offset: 116348 pre-window: 116349 | -31.82752214882819 post-window: 116349 | -31.827124307287843\n"
     ]
    },
    {
     "name": "stderr",
     "output_type": "stream",
     "text": [
      "537it [04:10,  2.21it/s]"
     ]
    },
    {
     "name": "stdout",
     "output_type": "stream",
     "text": [
      "Expected offset: 57692 pre-window: 57693 | -44.03786950084324 post-window: 57693 | -44.03731903091492\n"
     ]
    },
    {
     "name": "stderr",
     "output_type": "stream",
     "text": [
      "538it [04:10,  2.25it/s]"
     ]
    },
    {
     "name": "stdout",
     "output_type": "stream",
     "text": [
      "Expected offset: 40731 pre-window: 40731 | -17.801466630937277 post-window: 40731 | -17.801466630937277\n"
     ]
    },
    {
     "name": "stderr",
     "output_type": "stream",
     "text": [
      "539it [04:11,  2.22it/s]"
     ]
    },
    {
     "name": "stdout",
     "output_type": "stream",
     "text": [
      "Expected offset: 13106 pre-window: 13107 | -37.697865531789915 post-window: 13107 | -37.6973943114159\n"
     ]
    },
    {
     "name": "stderr",
     "output_type": "stream",
     "text": [
      "540it [04:11,  2.23it/s]"
     ]
    },
    {
     "name": "stdout",
     "output_type": "stream",
     "text": [
      "Expected offset: 93927 pre-window: 93927 | -26.627317112471584 post-window: 93927 | -26.627233902235623\n"
     ]
    },
    {
     "name": "stderr",
     "output_type": "stream",
     "text": [
      "541it [04:12,  2.25it/s]"
     ]
    },
    {
     "name": "stdout",
     "output_type": "stream",
     "text": [
      "Expected offset: 50866 pre-window: 50866 | -35.65738720600582 post-window: 50866 | -35.65738720600582\n"
     ]
    },
    {
     "name": "stderr",
     "output_type": "stream",
     "text": [
      "542it [04:12,  2.25it/s]"
     ]
    },
    {
     "name": "stdout",
     "output_type": "stream",
     "text": [
      "Expected offset: 20556 pre-window: 20557 | -25.452965402040217 post-window: 20557 | -25.452647241961195\n"
     ]
    },
    {
     "name": "stderr",
     "output_type": "stream",
     "text": [
      "543it [04:12,  2.30it/s]"
     ]
    },
    {
     "name": "stdout",
     "output_type": "stream",
     "text": [
      "Expected offset: 46179 pre-window: 46179 | -36.23913067170016 post-window: 46179 | -36.23901742459376\n"
     ]
    },
    {
     "name": "stderr",
     "output_type": "stream",
     "text": [
      "544it [04:13,  2.19it/s]"
     ]
    },
    {
     "name": "stdout",
     "output_type": "stream",
     "text": [
      "Expected offset: 17955 pre-window: 17956 | -27.35578444276106 post-window: 17956 | -27.355442497592687\n"
     ]
    },
    {
     "name": "stderr",
     "output_type": "stream",
     "text": [
      "545it [04:13,  2.14it/s]"
     ]
    },
    {
     "name": "stdout",
     "output_type": "stream",
     "text": [
      "Expected offset: 17185 pre-window: 17185 | -5.560141411766651 post-window: 17185 | -5.560124036351888\n"
     ]
    },
    {
     "name": "stderr",
     "output_type": "stream",
     "text": [
      "546it [04:14,  2.05it/s]"
     ]
    },
    {
     "name": "stdout",
     "output_type": "stream",
     "text": [
      "Expected offset: 3212 pre-window: 3213 | -18.351287920570286 post-window: 3213 | -18.35077179785553\n"
     ]
    },
    {
     "name": "stderr",
     "output_type": "stream",
     "text": [
      "547it [04:14,  2.06it/s]"
     ]
    },
    {
     "name": "stdout",
     "output_type": "stream",
     "text": [
      "Expected offset: 13877 pre-window: 13877 | -4.374885431382777 post-window: 13877 | -4.374871759887166\n"
     ]
    },
    {
     "name": "stderr",
     "output_type": "stream",
     "text": [
      "548it [04:15,  2.09it/s]"
     ]
    },
    {
     "name": "stdout",
     "output_type": "stream",
     "text": [
      "Expected offset: 124154 pre-window: 124154 | -13.3618614001276 post-window: 124154 | -13.3618614001276\n"
     ]
    },
    {
     "name": "stderr",
     "output_type": "stream",
     "text": [
      "549it [04:15,  2.02it/s]"
     ]
    },
    {
     "name": "stdout",
     "output_type": "stream",
     "text": [
      "Expected offset: 15470 pre-window: 15471 | -12.826950823976672 post-window: 15471 | -12.826790488093474\n"
     ]
    },
    {
     "name": "stderr",
     "output_type": "stream",
     "text": [
      "550it [04:16,  1.94it/s]"
     ]
    },
    {
     "name": "stdout",
     "output_type": "stream",
     "text": [
      "Expected offset: 19221 pre-window: 19222 | -30.507947762392078 post-window: 19222 | -30.50756641542847\n"
     ]
    },
    {
     "name": "stderr",
     "output_type": "stream",
     "text": [
      "551it [04:16,  2.34it/s]"
     ]
    },
    {
     "name": "stdout",
     "output_type": "stream",
     "text": [
      "Expected offset: 35498 pre-window: 35498 | -21.227588133979623 post-window: 35498 | -21.227521797870352\n"
     ]
    },
    {
     "name": "stderr",
     "output_type": "stream",
     "text": [
      "552it [04:17,  2.14it/s]"
     ]
    },
    {
     "name": "stdout",
     "output_type": "stream",
     "text": [
      "Expected offset: 195536 pre-window: 195536 | -29.663857289351192 post-window: 195536 | -29.663857289351192\n"
     ]
    },
    {
     "name": "stderr",
     "output_type": "stream",
     "text": [
      "553it [04:17,  2.02it/s]"
     ]
    },
    {
     "name": "stdout",
     "output_type": "stream",
     "text": [
      "Expected offset: 59998 pre-window: 59998 | -43.67798954262764 post-window: 59998 | -43.67798954262764\n"
     ]
    },
    {
     "name": "stderr",
     "output_type": "stream",
     "text": [
      "554it [04:18,  2.02it/s]"
     ]
    },
    {
     "name": "stdout",
     "output_type": "stream",
     "text": [
      "Expected offset: 28753 pre-window: 28754 | -33.442617882926896 post-window: 28754 | -33.44219985281605\n"
     ]
    },
    {
     "name": "stderr",
     "output_type": "stream",
     "text": [
      "555it [04:18,  2.08it/s]"
     ]
    },
    {
     "name": "stdout",
     "output_type": "stream",
     "text": [
      "Expected offset: 57720 pre-window: 57720 | -40.599203295805545 post-window: 57720 | -40.599203295805545\n"
     ]
    },
    {
     "name": "stderr",
     "output_type": "stream",
     "text": [
      "556it [04:19,  2.10it/s]"
     ]
    },
    {
     "name": "stdout",
     "output_type": "stream",
     "text": [
      "Expected offset: 101775 pre-window: 101776 | -18.47714086429794 post-window: 101776 | -18.476909901480656\n"
     ]
    },
    {
     "name": "stderr",
     "output_type": "stream",
     "text": [
      "557it [04:19,  2.11it/s]"
     ]
    },
    {
     "name": "stdout",
     "output_type": "stream",
     "text": [
      "Expected offset: 51514 pre-window: 51515 | -13.159835883783073 post-window: 51515 | -13.159671386862632\n"
     ]
    },
    {
     "name": "stderr",
     "output_type": "stream",
     "text": [
      "558it [04:19,  2.48it/s]"
     ]
    },
    {
     "name": "stdout",
     "output_type": "stream",
     "text": [
      "Expected offset: 16960 pre-window: 16961 | -32.16785347359183 post-window: 16961 | -32.167451377936516\n"
     ]
    },
    {
     "name": "stderr",
     "output_type": "stream",
     "text": [
      "559it [04:20,  2.22it/s]"
     ]
    },
    {
     "name": "stdout",
     "output_type": "stream",
     "text": [
      "Expected offset: 24477 pre-window: 24477 | -27.183876766385044 post-window: 24477 | -27.183791816902882\n"
     ]
    },
    {
     "name": "stderr",
     "output_type": "stream",
     "text": [
      "560it [04:20,  2.20it/s]"
     ]
    },
    {
     "name": "stdout",
     "output_type": "stream",
     "text": [
      "Expected offset: 19402 pre-window: 19403 | -40.81815280836196 post-window: 19403 | -40.81764258464076\n"
     ]
    },
    {
     "name": "stderr",
     "output_type": "stream",
     "text": [
      "561it [04:21,  2.09it/s]"
     ]
    },
    {
     "name": "stdout",
     "output_type": "stream",
     "text": [
      "Expected offset: 39896 pre-window: 39896 | -52.95096836807494 post-window: 39896 | -52.95096836807494\n"
     ]
    },
    {
     "name": "stderr",
     "output_type": "stream",
     "text": [
      "562it [04:21,  2.39it/s]"
     ]
    },
    {
     "name": "stdout",
     "output_type": "stream",
     "text": [
      "Expected offset: 110887 pre-window: 110888 | -18.383228349012168 post-window: 110888 | -18.382998560093988\n"
     ]
    },
    {
     "name": "stderr",
     "output_type": "stream",
     "text": [
      "563it [04:22,  2.36it/s]"
     ]
    },
    {
     "name": "stdout",
     "output_type": "stream",
     "text": [
      "Expected offset: 16125 pre-window: 16126 | -28.667018030676847 post-window: 16126 | -28.666659695191065\n"
     ]
    },
    {
     "name": "stderr",
     "output_type": "stream",
     "text": [
      "564it [04:22,  2.24it/s]"
     ]
    },
    {
     "name": "stdout",
     "output_type": "stream",
     "text": [
      "Expected offset: 31223 pre-window: 31223 | -11.1555589977355 post-window: 31223 | -11.155524136668102\n"
     ]
    },
    {
     "name": "stderr",
     "output_type": "stream",
     "text": [
      "565it [04:23,  2.18it/s]"
     ]
    },
    {
     "name": "stdout",
     "output_type": "stream",
     "text": [
      "Expected offset: 11564 pre-window: 11564 | -14.952410308028737 post-window: 11564 | -14.952410308028737\n"
     ]
    },
    {
     "name": "stderr",
     "output_type": "stream",
     "text": [
      "566it [04:23,  2.22it/s]"
     ]
    },
    {
     "name": "stdout",
     "output_type": "stream",
     "text": [
      "Expected offset: 16575 pre-window: 16575 | -22.14855389392673 post-window: 16575 | -22.14848467980396\n"
     ]
    },
    {
     "name": "stderr",
     "output_type": "stream",
     "text": [
      "567it [04:24,  2.17it/s]"
     ]
    },
    {
     "name": "stdout",
     "output_type": "stream",
     "text": [
      "Expected offset: 93904 pre-window: 93905 | -17.127363894733186 post-window: 93905 | -17.12688219439759\n"
     ]
    },
    {
     "name": "stderr",
     "output_type": "stream",
     "text": [
      "568it [04:24,  2.21it/s]"
     ]
    },
    {
     "name": "stdout",
     "output_type": "stream",
     "text": [
      "Expected offset: 28259 pre-window: 28259 | -30.812725068292266 post-window: 28259 | -30.812628778676878\n"
     ]
    },
    {
     "name": "stderr",
     "output_type": "stream",
     "text": [
      "569it [04:24,  2.19it/s]"
     ]
    },
    {
     "name": "stdout",
     "output_type": "stream",
     "text": [
      "Expected offset: 29905 pre-window: 29906 | -28.74026100094255 post-window: 29906 | -28.73990174992536\n"
     ]
    },
    {
     "name": "stderr",
     "output_type": "stream",
     "text": [
      "570it [04:25,  2.41it/s]"
     ]
    },
    {
     "name": "stdout",
     "output_type": "stream",
     "text": [
      "Expected offset: 30163 pre-window: 30163 | -16.568102125996724 post-window: 30163 | -16.568102125996724\n"
     ]
    },
    {
     "name": "stderr",
     "output_type": "stream",
     "text": [
      "571it [04:25,  2.34it/s]"
     ]
    },
    {
     "name": "stdout",
     "output_type": "stream",
     "text": [
      "Expected offset: 16318 pre-window: 16318 | -31.808625432809347 post-window: 16318 | -31.808625432809347\n"
     ]
    },
    {
     "name": "stderr",
     "output_type": "stream",
     "text": [
      "572it [04:26,  2.34it/s]"
     ]
    },
    {
     "name": "stdout",
     "output_type": "stream",
     "text": [
      "Expected offset: 28716 pre-window: 28717 | -36.335890298611346 post-window: 28717 | -36.33543610282134\n"
     ]
    },
    {
     "name": "stderr",
     "output_type": "stream",
     "text": [
      "573it [04:26,  2.29it/s]"
     ]
    },
    {
     "name": "stdout",
     "output_type": "stream",
     "text": [
      "Expected offset: 32862 pre-window: 32863 | -30.12344168154081 post-window: 32863 | -30.123065140873177\n"
     ]
    },
    {
     "name": "stderr",
     "output_type": "stream",
     "text": [
      "574it [04:27,  2.27it/s]"
     ]
    },
    {
     "name": "stdout",
     "output_type": "stream",
     "text": [
      "Expected offset: 54544 pre-window: 54544 | -38.27694638944279 post-window: 54544 | -38.27682677417222\n"
     ]
    },
    {
     "name": "stderr",
     "output_type": "stream",
     "text": [
      "575it [04:27,  2.15it/s]"
     ]
    },
    {
     "name": "stdout",
     "output_type": "stream",
     "text": [
      "Expected offset: 22678 pre-window: 22679 | -11.840324586478953 post-window: 22679 | -11.839991582032855\n"
     ]
    },
    {
     "name": "stderr",
     "output_type": "stream",
     "text": [
      "576it [04:28,  2.14it/s]"
     ]
    },
    {
     "name": "stdout",
     "output_type": "stream",
     "text": [
      "Expected offset: 14034 pre-window: 14034 | -52.6282108346238 post-window: 14034 | -52.6282108346238\n"
     ]
    },
    {
     "name": "stderr",
     "output_type": "stream",
     "text": [
      "577it [04:28,  2.09it/s]"
     ]
    },
    {
     "name": "stdout",
     "output_type": "stream",
     "text": [
      "Expected offset: 41987 pre-window: 41988 | -46.130132356550064 post-window: 41988 | -46.12955573349951\n"
     ]
    },
    {
     "name": "stderr",
     "output_type": "stream",
     "text": [
      "579it [04:29,  2.69it/s]"
     ]
    },
    {
     "name": "stdout",
     "output_type": "stream",
     "text": [
      "Expected offset: 60583 pre-window: 60584 | -42.79334461412219 post-window: 60584 | -42.79280970065773\n",
      "Expected offset: 34114 pre-window: 34114 | -14.85164995229855 post-window: 34114 | -14.851603540964966\n"
     ]
    },
    {
     "name": "stderr",
     "output_type": "stream",
     "text": [
      "581it [04:29,  3.10it/s]"
     ]
    },
    {
     "name": "stdout",
     "output_type": "stream",
     "text": [
      "Expected offset: 47349 pre-window: 47349 | -30.509448641890792 post-window: 47349 | -30.509448641890792\n",
      "Expected offset: 29038 pre-window: 29039 | -37.153754260156894 post-window: 29039 | -37.15270932551279\n"
     ]
    },
    {
     "name": "stderr",
     "output_type": "stream",
     "text": [
      "582it [04:30,  2.76it/s]"
     ]
    },
    {
     "name": "stdout",
     "output_type": "stream",
     "text": [
      "Expected offset: 42080 pre-window: 42081 | -49.5766872398577 post-window: 42081 | -49.57606753514036\n"
     ]
    },
    {
     "name": "stderr",
     "output_type": "stream",
     "text": [
      "583it [04:30,  2.51it/s]"
     ]
    },
    {
     "name": "stdout",
     "output_type": "stream",
     "text": [
      "Expected offset: 52485 pre-window: 52485 | -51.25795141601557 post-window: 52485 | -51.25795141601557\n"
     ]
    },
    {
     "name": "stderr",
     "output_type": "stream",
     "text": [
      "584it [04:31,  2.26it/s]"
     ]
    },
    {
     "name": "stdout",
     "output_type": "stream",
     "text": [
      "Expected offset: 94444 pre-window: 94445 | -25.683107269238416 post-window: 94445 | -25.682786232404034\n"
     ]
    },
    {
     "name": "stderr",
     "output_type": "stream",
     "text": [
      "586it [04:31,  2.72it/s]"
     ]
    },
    {
     "name": "stdout",
     "output_type": "stream",
     "text": [
      "Expected offset: 66494 pre-window: 66494 | -26.778536213976356 post-window: 66494 | -26.778536213976356\n",
      "Expected offset: 40474 pre-window: 40475 | -22.984411885043702 post-window: 40475 | -22.983765457549865\n"
     ]
    },
    {
     "name": "stderr",
     "output_type": "stream",
     "text": [
      "587it [04:32,  2.50it/s]"
     ]
    },
    {
     "name": "stdout",
     "output_type": "stream",
     "text": [
      "Expected offset: 33664 pre-window: 33664 | -55.874931990793634 post-window: 33664 | -55.874931990793634\n"
     ]
    },
    {
     "name": "stderr",
     "output_type": "stream",
     "text": [
      "588it [04:32,  2.79it/s]"
     ]
    },
    {
     "name": "stdout",
     "output_type": "stream",
     "text": [
      "Expected offset: 103929 pre-window: 103930 | -12.511324799533604 post-window: 103930 | -12.511168408951052\n"
     ]
    },
    {
     "name": "stderr",
     "output_type": "stream",
     "text": [
      "589it [04:33,  2.41it/s]"
     ]
    },
    {
     "name": "stdout",
     "output_type": "stream",
     "text": [
      "Expected offset: 17015 pre-window: 17016 | -25.90100356817729 post-window: 17016 | -25.900679807656196\n"
     ]
    },
    {
     "name": "stderr",
     "output_type": "stream",
     "text": [
      "590it [04:33,  2.28it/s]"
     ]
    },
    {
     "name": "stdout",
     "output_type": "stream",
     "text": [
      "Expected offset: 17760 pre-window: 17761 | -17.324678984164073 post-window: 17761 | -17.324462427030255\n"
     ]
    },
    {
     "name": "stderr",
     "output_type": "stream",
     "text": [
      "591it [04:34,  2.24it/s]"
     ]
    },
    {
     "name": "stdout",
     "output_type": "stream",
     "text": [
      "Expected offset: 44393 pre-window: 44393 | -30.471278383196974 post-window: 44393 | -30.471278383196974\n"
     ]
    },
    {
     "name": "stderr",
     "output_type": "stream",
     "text": [
      "592it [04:34,  2.21it/s]"
     ]
    },
    {
     "name": "stdout",
     "output_type": "stream",
     "text": [
      "Expected offset: 79398 pre-window: 116622 | -29.59160507142763 post-window: 79438 | -6.095123040665636e-08\n",
      "Warning - windowed corr for line 00_50_20_Twilight_Happy_Noisy_I thought so! Look, in the second photo, when the generator goes off, this pony is walking away.\n",
      " low; using pre-window\n"
     ]
    },
    {
     "name": "stderr",
     "output_type": "stream",
     "text": [
      "593it [04:35,  2.21it/s]"
     ]
    },
    {
     "name": "stdout",
     "output_type": "stream",
     "text": [
      "Expected offset: 54648 pre-window: 54648 | -46.42436574607577 post-window: 54648 | -46.42436574607577\n"
     ]
    },
    {
     "name": "stderr",
     "output_type": "stream",
     "text": [
      "594it [04:35,  2.12it/s]"
     ]
    },
    {
     "name": "stdout",
     "output_type": "stream",
     "text": [
      "Expected offset: 61260 pre-window: 61260 | -34.26072763268512 post-window: 61260 | -34.26072763268512\n"
     ]
    },
    {
     "name": "stderr",
     "output_type": "stream",
     "text": [
      "595it [04:36,  2.09it/s]"
     ]
    },
    {
     "name": "stdout",
     "output_type": "stream",
     "text": [
      "Expected offset: 31287 pre-window: 31288 | -50.15328411619065 post-window: 31288 | -50.152657204057405\n"
     ]
    },
    {
     "name": "stderr",
     "output_type": "stream",
     "text": [
      "596it [04:36,  1.99it/s]"
     ]
    },
    {
     "name": "stdout",
     "output_type": "stream",
     "text": [
      "Expected offset: 27111 pre-window: 27111 | -34.19384898281925 post-window: 27111 | -34.19384898281925\n"
     ]
    },
    {
     "name": "stderr",
     "output_type": "stream",
     "text": [
      "597it [04:37,  2.03it/s]"
     ]
    },
    {
     "name": "stdout",
     "output_type": "stream",
     "text": [
      "Expected offset: 26726 pre-window: 26727 | -17.57338144862743 post-window: 26727 | -17.572887204224532\n"
     ]
    },
    {
     "name": "stderr",
     "output_type": "stream",
     "text": [
      "598it [04:37,  2.09it/s]"
     ]
    },
    {
     "name": "stdout",
     "output_type": "stream",
     "text": [
      "Expected offset: 25454 pre-window: 25454 | -34.017116389508594 post-window: 25454 | -34.017116389508594\n"
     ]
    },
    {
     "name": "stderr",
     "output_type": "stream",
     "text": [
      "599it [04:37,  2.15it/s]"
     ]
    },
    {
     "name": "stdout",
     "output_type": "stream",
     "text": [
      "Expected offset: 38598 pre-window: 38598 | -40.303665473390986 post-window: 38598 | -40.303665473390986\n"
     ]
    },
    {
     "name": "stderr",
     "output_type": "stream",
     "text": [
      "600it [04:38,  2.15it/s]"
     ]
    },
    {
     "name": "stdout",
     "output_type": "stream",
     "text": [
      "Expected offset: 67457 pre-window: 67458 | -30.935213311066775 post-window: 67458 | -30.934343270427405\n"
     ]
    },
    {
     "name": "stderr",
     "output_type": "stream",
     "text": [
      "601it [04:38,  2.14it/s]"
     ]
    },
    {
     "name": "stdout",
     "output_type": "stream",
     "text": [
      "Expected offset: 37904 pre-window: 37905 | -29.287123444406056 post-window: 37905 | -29.286757357651048\n"
     ]
    },
    {
     "name": "stderr",
     "output_type": "stream",
     "text": [
      "602it [04:39,  2.14it/s]"
     ]
    },
    {
     "name": "stdout",
     "output_type": "stream",
     "text": [
      "Expected offset: 79150 pre-window: 79151 | -41.80032692650287 post-window: 79151 | -41.79980442568193\n"
     ]
    },
    {
     "name": "stderr",
     "output_type": "stream",
     "text": [
      "603it [04:39,  2.10it/s]"
     ]
    },
    {
     "name": "stdout",
     "output_type": "stream",
     "text": [
      "Expected offset: 147636 pre-window: 147636 | -32.090544218463634 post-window: 147636 | -32.090544218463634\n"
     ]
    },
    {
     "name": "stderr",
     "output_type": "stream",
     "text": [
      "604it [04:40,  2.14it/s]"
     ]
    },
    {
     "name": "stdout",
     "output_type": "stream",
     "text": [
      "Expected offset: 34949 pre-window: 34950 | -28.968974210189366 post-window: 34950 | -28.968612100274928\n"
     ]
    },
    {
     "name": "stderr",
     "output_type": "stream",
     "text": [
      "605it [04:40,  2.20it/s]"
     ]
    },
    {
     "name": "stdout",
     "output_type": "stream",
     "text": [
      "Expected offset: 32765 pre-window: 32765 | -20.3007873345845 post-window: 32765 | -20.300723894723202\n"
     ]
    },
    {
     "name": "stderr",
     "output_type": "stream",
     "text": [
      "606it [04:41,  2.21it/s]"
     ]
    },
    {
     "name": "stdout",
     "output_type": "stream",
     "text": [
      "Expected offset: 19992 pre-window: 19993 | -35.656091884338565 post-window: 19993 | -35.65564618597563\n"
     ]
    },
    {
     "name": "stderr",
     "output_type": "stream",
     "text": [
      "607it [04:41,  2.15it/s]"
     ]
    },
    {
     "name": "stdout",
     "output_type": "stream",
     "text": [
      "Expected offset: 59864 pre-window: 59864 | -29.99705605437405 post-window: 59864 | -29.99705605437405\n"
     ]
    },
    {
     "name": "stderr",
     "output_type": "stream",
     "text": [
      "608it [04:42,  2.18it/s]"
     ]
    },
    {
     "name": "stdout",
     "output_type": "stream",
     "text": [
      "Expected offset: 75874 pre-window: 75874 | -35.12969942669305 post-window: 75874 | -35.12969942669305\n"
     ]
    },
    {
     "name": "stderr",
     "output_type": "stream",
     "text": [
      "609it [04:42,  2.20it/s]"
     ]
    },
    {
     "name": "stdout",
     "output_type": "stream",
     "text": [
      "Expected offset: 21749 pre-window: 21749 | -18.324949419659152 post-window: 21749 | -18.324949419659152\n"
     ]
    },
    {
     "name": "stderr",
     "output_type": "stream",
     "text": [
      "610it [04:43,  2.19it/s]"
     ]
    },
    {
     "name": "stdout",
     "output_type": "stream",
     "text": [
      "Expected offset: 20351 pre-window: 20353 | -28.265932689902417 post-window: 20353 | -28.264519428599748\n"
     ]
    },
    {
     "name": "stderr",
     "output_type": "stream",
     "text": [
      "611it [04:43,  2.21it/s]"
     ]
    },
    {
     "name": "stdout",
     "output_type": "stream",
     "text": [
      "Expected offset: 48870 pre-window: 48870 | -45.569761697934744 post-window: 48870 | -45.569761697934744\n"
     ]
    },
    {
     "name": "stderr",
     "output_type": "stream",
     "text": [
      "612it [04:43,  2.23it/s]"
     ]
    },
    {
     "name": "stdout",
     "output_type": "stream",
     "text": [
      "Expected offset: 61483 pre-window: 61483 | -32.01366045549618 post-window: 61483 | -32.01366045549618\n"
     ]
    },
    {
     "name": "stderr",
     "output_type": "stream",
     "text": [
      "613it [04:44,  2.21it/s]"
     ]
    },
    {
     "name": "stdout",
     "output_type": "stream",
     "text": [
      "Expected offset: 47477 pre-window: 47477 | -20.845840201370546 post-window: 47477 | -20.845840201370546\n"
     ]
    },
    {
     "name": "stderr",
     "output_type": "stream",
     "text": [
      "614it [04:44,  2.21it/s]"
     ]
    },
    {
     "name": "stdout",
     "output_type": "stream",
     "text": [
      "Expected offset: 16254 pre-window: 16255 | -32.95061095312919 post-window: 16255 | -32.950199073066536\n"
     ]
    },
    {
     "name": "stderr",
     "output_type": "stream",
     "text": [
      "615it [04:45,  2.22it/s]"
     ]
    },
    {
     "name": "stdout",
     "output_type": "stream",
     "text": [
      "Expected offset: 30773 pre-window: 30773 | -41.03489625017889 post-window: 30773 | -41.03489625017889\n"
     ]
    },
    {
     "name": "stderr",
     "output_type": "stream",
     "text": [
      "616it [04:45,  2.23it/s]"
     ]
    },
    {
     "name": "stdout",
     "output_type": "stream",
     "text": [
      "Expected offset: 32315 pre-window: 32316 | -43.26672836355435 post-window: 32316 | -43.26618753283\n"
     ]
    },
    {
     "name": "stderr",
     "output_type": "stream",
     "text": [
      "617it [04:46,  2.07it/s]"
     ]
    },
    {
     "name": "stdout",
     "output_type": "stream",
     "text": [
      "Expected offset: 49113 pre-window: 49113 | -36.03806519848748 post-window: 49113 | -36.03806519848748\n"
     ]
    },
    {
     "name": "stderr",
     "output_type": "stream",
     "text": [
      "618it [04:46,  2.04it/s]"
     ]
    },
    {
     "name": "stdout",
     "output_type": "stream",
     "text": [
      "Expected offset: 28045 pre-window: 28046 | -16.47954033750293 post-window: 28046 | -16.47933434453617\n"
     ]
    },
    {
     "name": "stderr",
     "output_type": "stream",
     "text": [
      "619it [04:47,  2.02it/s]"
     ]
    },
    {
     "name": "stdout",
     "output_type": "stream",
     "text": [
      "Expected offset: 19002 pre-window: 19003 | -44.34486675157687 post-window: 19003 | -44.344312444206906\n"
     ]
    },
    {
     "name": "stderr",
     "output_type": "stream",
     "text": [
      "620it [04:47,  2.40it/s]"
     ]
    },
    {
     "name": "stdout",
     "output_type": "stream",
     "text": [
      "Expected offset: 32695 pre-window: 32696 | -29.750063981983935 post-window: 32696 | -29.749227273200717\n"
     ]
    },
    {
     "name": "stderr",
     "output_type": "stream",
     "text": [
      "621it [04:48,  2.28it/s]"
     ]
    },
    {
     "name": "stdout",
     "output_type": "stream",
     "text": [
      "Expected offset: 21605 pre-window: 21605 | -20.105204711782697 post-window: 21605 | -20.105141883116143\n"
     ]
    },
    {
     "name": "stderr",
     "output_type": "stream",
     "text": [
      "622it [04:48,  2.10it/s]"
     ]
    },
    {
     "name": "stdout",
     "output_type": "stream",
     "text": [
      "Expected offset: 38794 pre-window: 38794 | -27.968055720536995 post-window: 38794 | -27.968055720536995\n"
     ]
    },
    {
     "name": "stderr",
     "output_type": "stream",
     "text": [
      "623it [04:49,  2.10it/s]"
     ]
    },
    {
     "name": "stdout",
     "output_type": "stream",
     "text": [
      "Expected offset: 37914 pre-window: 37915 | -48.44474957023104 post-window: 37915 | -48.44414401464614\n"
     ]
    },
    {
     "name": "stderr",
     "output_type": "stream",
     "text": [
      "624it [04:49,  2.11it/s]"
     ]
    },
    {
     "name": "stdout",
     "output_type": "stream",
     "text": [
      "Expected offset: 64517 pre-window: 64517 | -39.712803691758424 post-window: 64517 | -39.712803691758424\n"
     ]
    },
    {
     "name": "stderr",
     "output_type": "stream",
     "text": [
      "625it [04:50,  2.09it/s]"
     ]
    },
    {
     "name": "stdout",
     "output_type": "stream",
     "text": [
      "Expected offset: 34806 pre-window: 34807 | -34.926323311515574 post-window: 34807 | -34.92588673520279\n"
     ]
    },
    {
     "name": "stderr",
     "output_type": "stream",
     "text": [
      "626it [04:50,  2.09it/s]"
     ]
    },
    {
     "name": "stdout",
     "output_type": "stream",
     "text": [
      "Expected offset: 70297 pre-window: 70297 | -47.332590042493905 post-window: 70297 | -47.332590042493905\n"
     ]
    },
    {
     "name": "stderr",
     "output_type": "stream",
     "text": [
      "627it [04:51,  2.04it/s]"
     ]
    },
    {
     "name": "stdout",
     "output_type": "stream",
     "text": [
      "Expected offset: 49327 pre-window: 49328 | -38.39251174449203 post-window: 49328 | -38.39203184109463\n"
     ]
    },
    {
     "name": "stderr",
     "output_type": "stream",
     "text": [
      "628it [04:51,  2.08it/s]"
     ]
    },
    {
     "name": "stdout",
     "output_type": "stream",
     "text": [
      "Expected offset: 65080 pre-window: 65081 | -36.72829545952214 post-window: 65081 | -36.727836358698276\n"
     ]
    },
    {
     "name": "stderr",
     "output_type": "stream",
     "text": [
      "629it [04:51,  2.14it/s]"
     ]
    },
    {
     "name": "stdout",
     "output_type": "stream",
     "text": [
      "Expected offset: 36079 pre-window: 36079 | -30.605041304942468 post-window: 36079 | -30.605041304942468\n"
     ]
    },
    {
     "name": "stderr",
     "output_type": "stream",
     "text": [
      "630it [04:52,  2.15it/s]"
     ]
    },
    {
     "name": "stdout",
     "output_type": "stream",
     "text": [
      "Expected offset: 68063 pre-window: 68064 | -41.344126401470355 post-window: 68064 | -41.343609603120335\n"
     ]
    },
    {
     "name": "stderr",
     "output_type": "stream",
     "text": [
      "631it [04:52,  2.16it/s]"
     ]
    },
    {
     "name": "stdout",
     "output_type": "stream",
     "text": [
      "Expected offset: 297296 pre-window: 297297 | -31.72516745011385 post-window: 297297 | -31.72477088799924\n"
     ]
    },
    {
     "name": "stderr",
     "output_type": "stream",
     "text": [
      "632it [04:53,  2.11it/s]"
     ]
    },
    {
     "name": "stdout",
     "output_type": "stream",
     "text": [
      "Expected offset: 79415 pre-window: 79416 | -14.581532983805793 post-window: 79416 | -14.581350715782673\n"
     ]
    },
    {
     "name": "stderr",
     "output_type": "stream",
     "text": [
      "633it [04:53,  2.04it/s]"
     ]
    },
    {
     "name": "stdout",
     "output_type": "stream",
     "text": [
      "Expected offset: 23024 pre-window: 23023 | -40.34722863522241 post-window: 23023 | -40.34672429801658\n"
     ]
    },
    {
     "name": "stderr",
     "output_type": "stream",
     "text": [
      "634it [04:54,  1.99it/s]"
     ]
    },
    {
     "name": "stdout",
     "output_type": "stream",
     "text": [
      "Expected offset: 27024 pre-window: 27025 | -38.499295644882125 post-window: 27025 | -38.49881440669431\n"
     ]
    },
    {
     "name": "stderr",
     "output_type": "stream",
     "text": [
      "635it [04:54,  2.00it/s]"
     ]
    },
    {
     "name": "stdout",
     "output_type": "stream",
     "text": [
      "Expected offset: 26041 pre-window: 26041 | -40.701542816453966 post-window: 26041 | -40.701542816453966\n"
     ]
    },
    {
     "name": "stderr",
     "output_type": "stream",
     "text": [
      "636it [04:55,  2.08it/s]"
     ]
    },
    {
     "name": "stdout",
     "output_type": "stream",
     "text": [
      "Expected offset: 47366 pre-window: 47366 | -27.535881059591773 post-window: 47366 | -27.535881059591773\n"
     ]
    },
    {
     "name": "stderr",
     "output_type": "stream",
     "text": [
      "637it [04:55,  2.14it/s]"
     ]
    },
    {
     "name": "stdout",
     "output_type": "stream",
     "text": [
      "Expected offset: 31205 pre-window: 31206 | -30.99231163489429 post-window: 31206 | -30.991924233420118\n"
     ]
    },
    {
     "name": "stderr",
     "output_type": "stream",
     "text": [
      "638it [04:56,  2.18it/s]"
     ]
    },
    {
     "name": "stdout",
     "output_type": "stream",
     "text": [
      "Expected offset: 34307 pre-window: 34307 | -35.78135352255701 post-window: 34307 | -35.78135352255701\n"
     ]
    },
    {
     "name": "stderr",
     "output_type": "stream",
     "text": [
      "639it [04:56,  2.19it/s]"
     ]
    },
    {
     "name": "stdout",
     "output_type": "stream",
     "text": [
      "Expected offset: 50625 pre-window: 50626 | -35.57160291034427 post-window: 50626 | -35.571158268086904\n"
     ]
    },
    {
     "name": "stderr",
     "output_type": "stream",
     "text": [
      "640it [04:57,  2.22it/s]"
     ]
    },
    {
     "name": "stdout",
     "output_type": "stream",
     "text": [
      "Expected offset: 25333 pre-window: 25333 | -34.44942119931004 post-window: 25333 | -34.44942119931004\n"
     ]
    },
    {
     "name": "stderr",
     "output_type": "stream",
     "text": [
      "641it [04:57,  2.22it/s]"
     ]
    },
    {
     "name": "stdout",
     "output_type": "stream",
     "text": [
      "Expected offset: 34368 pre-window: 34369 | -27.878547759349242 post-window: 34369 | -27.87776368621959\n"
     ]
    },
    {
     "name": "stderr",
     "output_type": "stream",
     "text": [
      "642it [04:58,  2.23it/s]"
     ]
    },
    {
     "name": "stdout",
     "output_type": "stream",
     "text": [
      "Expected offset: 96768 pre-window: 96768 | -26.289825617691054 post-window: 96768 | -26.289825617691054\n"
     ]
    },
    {
     "name": "stderr",
     "output_type": "stream",
     "text": [
      "643it [04:58,  2.21it/s]"
     ]
    },
    {
     "name": "stdout",
     "output_type": "stream",
     "text": [
      "Expected offset: 23687 pre-window: 23688 | -42.42330674170521 post-window: 23688 | -42.422776453685245\n"
     ]
    },
    {
     "name": "stderr",
     "output_type": "stream",
     "text": [
      "644it [04:58,  2.25it/s]"
     ]
    },
    {
     "name": "stdout",
     "output_type": "stream",
     "text": [
      "Expected offset: 69736 pre-window: 69736 | -18.840806979863157 post-window: 69736 | -18.84074810243334\n"
     ]
    },
    {
     "name": "stderr",
     "output_type": "stream",
     "text": [
      "645it [04:59,  2.24it/s]"
     ]
    },
    {
     "name": "stdout",
     "output_type": "stream",
     "text": [
      "Expected offset: 19687 pre-window: 19688 | -18.40449906463737 post-window: 19688 | -18.40426900983691\n"
     ]
    },
    {
     "name": "stderr",
     "output_type": "stream",
     "text": [
      "646it [04:59,  2.24it/s]"
     ]
    },
    {
     "name": "stdout",
     "output_type": "stream",
     "text": [
      "Expected offset: 124243 pre-window: 124243 | -11.282456724707338 post-window: 124243 | -11.282456724707338\n"
     ]
    },
    {
     "name": "stderr",
     "output_type": "stream",
     "text": [
      "647it [05:00,  2.19it/s]"
     ]
    },
    {
     "name": "stdout",
     "output_type": "stream",
     "text": [
      "Expected offset: 283323 pre-window: 283323 | -40.543555314154446 post-window: 283323 | -40.543555314154446\n"
     ]
    },
    {
     "name": "stderr",
     "output_type": "stream",
     "text": [
      "648it [05:00,  2.16it/s]"
     ]
    },
    {
     "name": "stdout",
     "output_type": "stream",
     "text": [
      "Expected offset: 48553 pre-window: 48553 | -55.04477589802222 post-window: 48553 | -55.04477589802222\n"
     ]
    },
    {
     "name": "stderr",
     "output_type": "stream",
     "text": [
      "649it [05:01,  2.16it/s]"
     ]
    },
    {
     "name": "stdout",
     "output_type": "stream",
     "text": [
      "Expected offset: 36367 pre-window: 36369 | -29.034752377907516 post-window: 36369 | -29.033300676581455\n"
     ]
    },
    {
     "name": "stderr",
     "output_type": "stream",
     "text": [
      "650it [05:01,  2.19it/s]"
     ]
    },
    {
     "name": "stdout",
     "output_type": "stream",
     "text": [
      "Expected offset: 32704 pre-window: 32704 | -29.522719374401337 post-window: 32704 | -29.522719374401337\n"
     ]
    },
    {
     "name": "stderr",
     "output_type": "stream",
     "text": [
      "651it [05:02,  2.18it/s]"
     ]
    },
    {
     "name": "stdout",
     "output_type": "stream",
     "text": [
      "Expected offset: 29249 pre-window: 29249 | -28.47594224955284 post-window: 29249 | -28.47594224955284\n"
     ]
    },
    {
     "name": "stderr",
     "output_type": "stream",
     "text": [
      "652it [05:02,  2.19it/s]"
     ]
    },
    {
     "name": "stdout",
     "output_type": "stream",
     "text": [
      "Expected offset: 142487 pre-window: 142488 | -29.819191898880554 post-window: 142488 | -29.81881916131143\n"
     ]
    },
    {
     "name": "stderr",
     "output_type": "stream",
     "text": [
      "653it [05:03,  2.19it/s]"
     ]
    },
    {
     "name": "stdout",
     "output_type": "stream",
     "text": [
      "Expected offset: 55251 pre-window: 55251 | -24.762571753275 post-window: 55251 | -24.762571753275\n"
     ]
    },
    {
     "name": "stderr",
     "output_type": "stream",
     "text": [
      "654it [05:03,  2.21it/s]"
     ]
    },
    {
     "name": "stdout",
     "output_type": "stream",
     "text": [
      "Expected offset: 55829 pre-window: 55830 | -34.17856121852378 post-window: 55830 | -34.17813398917874\n"
     ]
    },
    {
     "name": "stderr",
     "output_type": "stream",
     "text": [
      "655it [05:04,  2.08it/s]"
     ]
    },
    {
     "name": "stdout",
     "output_type": "stream",
     "text": [
      "Expected offset: 54351 pre-window: 54351 | -48.066175648083956 post-window: 54351 | -48.066175648083956\n"
     ]
    },
    {
     "name": "stderr",
     "output_type": "stream",
     "text": [
      "656it [05:04,  2.04it/s]"
     ]
    },
    {
     "name": "stdout",
     "output_type": "stream",
     "text": [
      "Expected offset: 164982 pre-window: 164983 | -45.27644700375135 post-window: 164983 | -45.27588105170101\n"
     ]
    },
    {
     "name": "stderr",
     "output_type": "stream",
     "text": [
      "657it [05:05,  2.05it/s]"
     ]
    },
    {
     "name": "stdout",
     "output_type": "stream",
     "text": [
      "Expected offset: 54351 pre-window: 54352 | -42.92013599174759 post-window: 54352 | -42.91959949340082\n"
     ]
    },
    {
     "name": "stderr",
     "output_type": "stream",
     "text": [
      "658it [05:05,  2.12it/s]"
     ]
    },
    {
     "name": "stdout",
     "output_type": "stream",
     "text": [
      "Expected offset: 56536 pre-window: 56536 | -34.34487383924093 post-window: 56536 | -34.34487383924093\n"
     ]
    },
    {
     "name": "stderr",
     "output_type": "stream",
     "text": [
      "659it [05:05,  2.02it/s]"
     ]
    },
    {
     "name": "stdout",
     "output_type": "stream",
     "text": [
      "Expected offset: 53580 pre-window: 53581 | -57.402138406075 post-window: 53581 | -57.401420883829445\n"
     ]
    },
    {
     "name": "stderr",
     "output_type": "stream",
     "text": [
      "660it [05:06,  2.07it/s]"
     ]
    },
    {
     "name": "stdout",
     "output_type": "stream",
     "text": [
      "Expected offset: 153418 pre-window: 153418 | -45.27777100171351 post-window: 153418 | -45.27777100171351\n"
     ]
    },
    {
     "name": "stderr",
     "output_type": "stream",
     "text": [
      "661it [05:06,  2.07it/s]"
     ]
    },
    {
     "name": "stdout",
     "output_type": "stream",
     "text": [
      "Expected offset: 28589 pre-window: 28590 | -41.32690327886452 post-window: 28590 | -41.326386695802185\n"
     ]
    },
    {
     "name": "stderr",
     "output_type": "stream",
     "text": [
      "662it [05:07,  2.13it/s]"
     ]
    },
    {
     "name": "stdout",
     "output_type": "stream",
     "text": [
      "Expected offset: 26597 pre-window: 26597 | -44.82547996937369 post-window: 26597 | -44.82547996937369\n"
     ]
    },
    {
     "name": "stderr",
     "output_type": "stream",
     "text": [
      "663it [05:07,  2.11it/s]"
     ]
    },
    {
     "name": "stdout",
     "output_type": "stream",
     "text": [
      "Expected offset: 28460 pre-window: 28461 | -72.31039847559961 post-window: 28461 | -72.30836477424155\n"
     ]
    },
    {
     "name": "stderr",
     "output_type": "stream",
     "text": [
      "664it [05:08,  2.18it/s]"
     ]
    },
    {
     "name": "stdout",
     "output_type": "stream",
     "text": [
      "Expected offset: 26918 pre-window: 26919 | -50.470513820933704 post-window: 26919 | -50.46988294345393\n"
     ]
    },
    {
     "name": "stderr",
     "output_type": "stream",
     "text": [
      "665it [05:08,  2.25it/s]"
     ]
    },
    {
     "name": "stdout",
     "output_type": "stream",
     "text": [
      "Expected offset: 27625 pre-window: 27625 | -37.91642706640874 post-window: 27625 | -37.91630857775929\n"
     ]
    },
    {
     "name": "stderr",
     "output_type": "stream",
     "text": [
      "666it [05:09,  2.37it/s]"
     ]
    },
    {
     "name": "stdout",
     "output_type": "stream",
     "text": [
      "Expected offset: 27111 pre-window: 27112 | -30.7336559244762 post-window: 27112 | -30.733271756178198\n"
     ]
    },
    {
     "name": "stderr",
     "output_type": "stream",
     "text": [
      "667it [05:09,  2.16it/s]"
     ]
    },
    {
     "name": "stdout",
     "output_type": "stream",
     "text": [
      "Expected offset: 26597 pre-window: 26598 | -26.34313541035035 post-window: 26598 | -26.34239452008575\n",
      "00_00_40_Pinkie_Neutral_Noisy_Okay, not technically a road trip because we're taking that.\n",
      " 38.944875 -20.038804819536445\n",
      "00_00_49_Rainbow_Happy_Very Noisy_beat you to the balloon!\n",
      " 47.81875 -7.626435009211699\n",
      "00_00_50_Pinkie_Neutral_Noisy_nope, i'm gonna beat you!\n",
      " 49.095625 -7.166184550816595\n",
      "00_01_02_Pinkie_Happy_Very Noisy_I'm gonna beat you!\n",
      " 60.250375 -8.303382814888556\n",
      "00_01_06_Applejack_Neutral_Noisy_Howdy.\n",
      " 64.16925 -3.049148360517004\n",
      "00_01_16_Rainbow_Annoyed_Noisy_okay, i was fourth.\n",
      " 74.649375 -15.576067672021086\n",
      "00_01_18_Pinkie_Neutral_Noisy_Yeah? well i was fifth!\n",
      " 76.481875 -17.847514076241744\n",
      "00_01_21_Rainbow_Annoyed_Noisy_that's not even!\n",
      " 80.074125 -12.936795648897562\n",
      "00_01_24_Rainbow_Annoyed_Noisy_But, i beat you!\n",
      " 82.529875 -17.03834166775212\n",
      "00_01_26_Applejack_Annoyed__Y'all are both still late!\n",
      " 84.614875 -18.89806994687995\n",
      "00_01_28_Applejack_Neutral_Noisy_We gotta shove off soon or we'll miss the tailwind.\n",
      " 86.742875 -29.434562649075854\n",
      "00_01_31_Fluttershy_Neutral_Very Noisy_Don't worry, we wouldn't have left without you.\n",
      " 89.381625 -24.789259413375323\n",
      "00_01_33_Rarity_Neutral__Well that goes without saying darling, After all, rainbow dash is the guest of honor At the, rainbow festival!\n",
      " 92.120125 -40.50253760247305\n",
      "00_01_44_Fluttershy_Neutral__Has anypony seen twilight? It's not like her to be late for an adventure.\n",
      " 102.22675 -35.95080707086786\n",
      "00_01_48_Twilight_Anxious__i'm coming, i'm coming!\n",
      " 106.571375 -5.463839546573757\n",
      "00_01_55_Twilight_Neutral_Very Noisy_Sorry! i just had to pack up a few books and papers to grade.\n",
      " 113.4135 -33.901120122534316\n",
      "00_01_58_Spike_Anxious_Very Noisy_And by few, she means slightly less Than i'm able to lift.\n",
      " 117.147875 -39.060754890658515\n",
      "00_02_03_Rainbow_Annoyed_Very Noisy_Wait. you're bringing work To a festival?!\n",
      " 121.735875 -25.04499673041071\n",
      "00_02_07_Pinkie_Happy_Very Noisy_Yeah! it's supposed to be a non-stop fun-o-rama party!\n",
      " 125.89325 -28.565402215378757\n",
      "00_02_12_Twilight_Happy_Very Noisy_Grading papers is fun! it's relaxing, and rewarding and.\n",
      " 130.816 -34.26690413995579\n",
      "00_02_16_Applejack_Neutral__Too much to talk about right now!\n",
      " 134.6415 -20.453419027559463\n",
      "00_02_25_Applejack_Happy_Very Noisy_let her loose spike!\n",
      " 144.0105 -18.801597245598504\n",
      "00_02_27_Twilight_Neutral_Very Noisy_Keep an eye on things for me! and feel free To file those class assignments while i'm gone!\n",
      " 145.675875 -38.23437829392714\n",
      "00_02_31_Spike_Neutral_Very Noisy_It's my top priority!\n",
      " 150.055875 -25.864920695316016\n",
      "00_02_36_Spike_Neutral_Very Noisy_Have fun everypony!\n",
      " 154.872 -19.81749685841783\n",
      "00_02_41_Fluttershy_Neutral_Very Noisy_Um. why aren't we going anywhere?\n",
      " 159.773875 -33.49196788429368\n",
      "00_02_45_Applejack_Neutral_Very Noisy_Hmm. the basket's too heavy.\n",
      " 163.2035 -21.106478862288807\n",
      "00_02_48_Rainbow_Neutral_Very Noisy_Rarity?\n",
      " 166.44025 -10.360965514400018\n",
      "00_02_49_Rarity_Annoyed_Very Noisy_How dare you! i brought the itsiest valise.\n",
      " 168.114875 -27.069549137823692\n",
      "00_02_53_Applejack_Neutral_Very Noisy_Sorry to do this twilight, but.\n",
      " 171.910875 -30.481956714971872\n",
      "00_02_57_Twilight_Anxious Shouting_Very Noisy_my papers!\n",
      " 175.34625 -11.776586205062694\n",
      "00_03_02_Applejack_Neutral_Noisy_they'll keep till we get back.\n",
      " 180.335875 -23.036696453623847\n",
      "00_03_08_Spike_Happy_Very Noisy_See ya!\n",
      " 186.58125 -9.677555097292625\n",
      "00_03_09_Spike_Neutral_Noisy_and remember, Whatever happens at the rainbow festival, I wanna hear all about it when you get back!\n",
      " 187.520875 -38.916286382819905\n",
      "00_03_39_Rarity_Neutral_Very Noisy_Did somepony mention something about a spa in.\n",
      " 218.039875 -49.15830282037817\n",
      "00_03_43_Rarity_Neutral__where is it we're going again?\n",
      " 221.9565 -14.845608654164732\n",
      "00_03_44_Rainbow_Happy_Noisy_hope hollow! Or as i like to call it.\n",
      " 223.064125 -39.682528536411084\n",
      "00_03_49_Rainbow_Happy_Very Noisy_rainbow dash fan central!\n",
      " 227.716875 -23.212441469971296\n",
      "00_03_53_Applejack_Annoyed_Noisy_you're gonna be like this the whole trip.\n",
      " 231.33625 -25.149385013975493\n",
      "00_03_55_Rainbow_Happy_Noisy_You know it! i mean, look at this letter.\n",
      " 233.930875 -35.78008414268227\n",
      "00_03_59_Rainbow_Happy_Very Noisy_They love me there!\n",
      " 237.487875 -21.748793594609566\n",
      "00_04_03_Twilight_Neutral_Very Noisy_dear rainbow dash, thank you for agreeing to be our guest At this year's famous hope hollow rainbow festival.\n",
      " 241.214125 -41.290646367056084\n",
      "00_04_08_Twilight_Neutral_Very Noisy_The many members of your fan club.\n",
      " 247.110875 -37.18859887669108\n",
      "00_04_14_Twilight_Neutral_Very Noisy_are looking forward to your visit. You and your friends will be staying at our famous Luxury rainbow resort and spa, Where your every whim will be catered to!\n",
      " 252.698 -44.532200252991956\n",
      "00_04_24_Rarity_Happy_Very Noisy_Ooh i accept that challenge, I have so many whims.\n",
      " 262.543625 -42.151823773793566\n",
      "00_04_27_Fluttershy_Happy_Very Noisy_oh look, There's a famous butterfly garden too!\n",
      " 265.9325 -49.2060830422268\n",
      "00_04_32_Twilight_Neutral_Very Noisy_Hmm. you know, It's strange that we never heard of this festival before, Especially since everything in the town is so well-known.\n",
      " 270.759875 -34.559903605520994\n",
      "00_04_40_Rainbow_Happy_Very Noisy_at this year's festival, you can eat treats At the traditional rainbow bakery booth, Sing your favorite rainbow-themed songs At the karaoke competition.\n",
      " 278.934875 -25.734556972639382\n",
      "00_04_50_Pinkie_Happy_Very Noisy_Bakery and karaoke?! It's like they see into my soul!\n",
      " 288.555 -32.10645862357771\n",
      "00_04_55_Applejack_Neutral_Very Noisy_and try our famous rainbow trout Catch and release activity.\n",
      " 293.323875 -49.84865069513027\n",
      "00_05_00_Applejack_Happy_Very Noisy_Huh. now that sounds right up my river.\n",
      " 298.30425 -30.09988399569562\n",
      "00_05_02_Pinkie_Happy_Very Noisy_Plus we get to watch the mayor give rainbow dash an award!\n",
      " 300.246875 -34.340151110700404\n",
      "00_05_05_Pinkie_Happy_Very Noisy_I call dibs on the cheering section!\n",
      " 304.084875 -19.40931270215266\n",
      "00_05_12_Rarity_Confused_Noisy_An award for what, exactly?\n",
      " 310.18975 -30.61799896875154\n",
      "00_05_15_Rainbow_Neutral__showing up? General coolness?\n",
      " 313.699125 -29.73905483022025\n",
      "00_05_18_Rainbow_Neutral__all of the above?\n",
      " 316.373375 -24.79078130764439\n",
      "00_05_19_Twilight_Happy__Well, we're so glad you invited us along.\n",
      " 318.056875 -35.851207302325555\n",
      "00_05_23_Pinkie_Happy__it's gonna be one long party! Which starts, now!\n",
      " 321.9065 -29.36745802836371\n",
      "00_05_29_Pinkie_Happy__a hundred bottles of pop on the wall a hundred bottles of pop!\n",
      " 327.47975 -45.15461920298618\n",
      "00_05_40_Pinkie_Happy_Noisy_two bottles of pop on the wall, two bottles of pop!\n",
      " 339.044 -40.31868164438551\n",
      "00_05_44_Pinkie_Happy_Very Noisy_take it down, pass it around, one bottle of pop on the wall!\n",
      " 342.52125 -41.92221634078443\n",
      "00_05_48_Pinkie_Happy_Very Noisy_and a-one more time!\n",
      " 346.33475 -14.481652172871991\n",
      "00_05_49_Pinkie_Happy_Very Noisy_a hundred bottles of pop on the wall.\n",
      " 348.118625 -29.997141813171204\n",
      "00_05_53_Pinkie_Neutral_Noisy_six times too many?\n",
      " 351.92375 -9.788453095713704\n",
      "00_05_55_Rainbow_Annoyed_Noisy_Shouldn't we be there by now?\n",
      " 353.800875 -27.77773702479123\n",
      "00_05_58_Applejack_Neutral_Noisy_i thought so too.\n",
      " 356.63125 -19.871607949347013\n",
      "00_06_00_Applejack_Neutral__Maybe we should've turned left at that last cloud instead of right.\n",
      " 358.388875 -46.00795088862132\n",
      "00_06_04_Fluttershy_Anxious__It's getting darker by the minute.\n",
      " 362.308875 -32.25269389416893\n",
      "00_06_09_Rarity_Anxious Shouting__I can't see anything!\n",
      " 368.023875 -26.941590927001\n",
      "00_06_14_Pinkie_Happy_Very Noisy_I spy with my little eye.\n",
      " 372.475875 -30.035860343321474\n",
      "00_06_17_Pinkie_Happy__A rainbow!\n",
      " 375.431125 -15.930973255074747\n",
      "00_06_18_Rainbow_Annoyed_Noisy_Great. we're playing that game now?\n",
      " 377.069375 -34.48264338088168\n",
      "00_06_21_Pinkie_Happy__No. i really do spy a rainbow!\n",
      " 379.701875 -22.297299388212068\n",
      "00_06_27_Twilight_Happy__Wow! that's the biggest rainbow i've ever seen.\n",
      " 385.874875 -26.62649723678623\n",
      "00_06_30_Rarity_Anxious__And we're heading right for it!\n",
      " 388.877875 -28.92861571980606\n",
      "00_06_33_Rainbow_Neutral_Very Noisy_Don't worry, we'll pass right through it! Rainbows aren't solid.\n",
      " 391.463875 -24.697657032471803\n",
      "00_06_41_Applejack_Anxious_Very Noisy_Tell that to the rainbow.\n",
      " 399.434875 -20.333736856165864\n",
      "00_06_43_Twilight_Anxious_Very Noisy_i don't think that's a rainbow! It's a rainbow billboard!\n",
      " 401.36225 -39.5185943330274\n",
      "00_06_49_Twilight_Anxious_Very Noisy_Hang on, everypony!\n",
      " 408.104875 -17.23514738050146\n",
      "00_06_56_Rarity_Fear Crazy Shouting_Very Noisy_I don't think that's working!\n",
      " 414.604875 -15.954448109633255\n",
      "00_07_09_Twilight_Anxious Shouting_Very Noisy_Rainbow dash, fluttershy! Let's get everypony out!\n",
      " 432.16825 -16.191762102299528\n",
      "00_07_30_Applejack_Neutral_Very Noisy_Phew. thanks, y'all. That basket could've been us.\n",
      " 452.85475 -24.14392841778746\n",
      "00_07_34_Fluttershy_Confused_Very Noisy_Where are we?\n",
      " 456.81675 -18.09630263895351\n",
      "00_07_39_Pinkie_Neutral_Very Noisy_welcome to hope hollow. Home of the famous.\n",
      " 462.0425 -29.248136911021124\n",
      "00_07_45_Pinkie_Happy_Very Noisy_rainbow festival!\n",
      " 467.82775 -12.10866544345667\n",
      "00_07_46_Rarity_Neutral_Very Noisy_we've arrived?\n",
      " 469.358375 -2.8905997626455586\n",
      "00_07_47_Rarity_Confused_Very Noisy_And there's nopony here to greet us?\n",
      " 470.715625 -18.97071388638904\n",
      "00_07_50_Twilight_Anxious_Very Noisy_Good thing too. the guest of honor and her friends Just destroyed the town sign.\n",
      " 473.16675 -32.142534670051134\n",
      "00_07_55_Fluttershy_Neutral_Very Noisy_Rainbow dash? did your letter say where our hotel is?\n",
      " 478.46375 -29.878734638677802\n",
      "00_08_01_Rainbow_Neutral_Very Noisy_The, middle of town.\n",
      " 484.600625 -30.597335445102424\n",
      "00_08_06_Twilight_Neutral_Very Noisy_Hmm. doesn't really help much When you don't know where the middle is.\n",
      " 489.122 -20.83409493425423\n",
      "00_08_09_Twilight_Neutral_Very Noisy_Let's start looking.\n",
      " 492.422625 -12.721876340201561\n",
      "00_08_34_Applejack_Neutral__Huh, funny. You'd think a big luxury resort would be sorta well, easier to spot.\n",
      " 517.00175 -29.201468664030667\n",
      "00_08_40_Pinkie_Neutral_Very Noisy_yeah!\n",
      " 523.429125 -8.927149977394503\n",
      "00_08_42_Pinkie_Neutral_Very Noisy_It seems like the whole town's shut down.\n",
      " 524.818375 -16.660939815707465\n",
      "00_08_45_Fluttershy_Neutral_Very Noisy_Oh look! there's somepony.\n",
      " 528.30375 -23.963764439172287\n",
      "00_08_54_Twilight_Neutral_Very Noisy_Maybe you can help us, We're here for the rainbow festival.\n",
      " 537.169625 -46.56196141145589\n",
      "00_08_57_Petunia Petals_Neutral_Noisy_Oh, uh, rainbow festival?\n",
      " 540.60875 -25.196688936786515\n",
      "00_09_00_Rainbow_Happy Smug_Very Noisy_Yeah y'know, the one where i'm the guest of honor?\n",
      " 543.27775 -41.00881117394155\n",
      "00_09_09_Petunia Petals_Anxious__Oh for cryin' in the mud. What's sunny done now?\n",
      " 552.20375 -38.427749460813374\n",
      "00_09_13_Applejack_Confused__excuse me?\n",
      " 556.065875 -13.036811975829735\n",
      "00_09_16_Petunia Petals_Neutral__you'd best talk to mayor skies about that.\n",
      " 558.8605 -25.77366086392017\n",
      "00_09_18_Twilight_Happy__Great! and where will we find him?\n",
      " 561.285875 -32.238728159256674\n",
      "00_09_21_Petunia Petals_Neutral__City hall! uh. But it's closed till tomorrow, don'cha know. Is there something i can help you with?\n",
      " 564.184875 -41.49706644452038\n",
      "00_09_27_Rarity_Neutral__Uh yes please, Could you direct us to the hope hollow luxury resort?\n",
      " 570.336375 -33.71466491632857\n",
      "00_09_35_Petunia Petals_Neutral__Oh! oh, you mean the hotel?\n",
      " 578.68875 -41.54808013009557\n",
      "00_09_39_Petunia Petals_Neutral__That's easy, There's only one in town.\n",
      " 582.27 -35.743030391219655\n",
      "00_09_42_Applejack_Neutral__Could you uh, give us directions?\n",
      " 585.032625 -24.731762057380674\n",
      "00_09_44_Petunia Petals_Happy_Noisy_No need, you're there!\n",
      " 587.28075 -32.720539812343524\n",
      "00_09_47_Petunia Petals_Neutral_Very Noisy_I mean here.\n",
      " 590.53375 -13.8612736492756\n",
      "00_09_54_Petunia Petals_Happy_Very Noisy_Hotel hope. Also known as the town information center and library!\n",
      " 597.335625 -33.62609337976277\n",
      "00_09_59_Petunia Petals_Happy__My name's petunia petals, by the way.\n",
      " 602.439125 -34.431368369329796\n",
      "00_10_04_Petunia Petals_Neutral_Noisy_I'm the librarian here.\n",
      " 607.550625 -17.503808234334187\n",
      "00_10_07_Petunia Petals_Neutral_Noisy_And the information guide.\n",
      " 609.80725 -20.595206886559815\n",
      "00_10_09_Petunia Petals_Happy_Very Noisy_and the hotel manager!\n",
      " 612.602 -22.502864957155186\n",
      "00_10_11_Petunia Petals_Happy_Very Noisy_Historian, chef, portrait painter.\n",
      " 613.999375 -34.171378513539565\n",
      "00_10_14_Rainbow_Neutral__Um, I-i'm rainbow dash, And this is, everypony.\n",
      " 616.89375 -25.825305521108596\n",
      "00_10_20_Petunia Petals_Happy__Well hello everypony! You just wait one hoof shake and i'll take you to the room.\n",
      " 623.355125 -39.25289176271511\n",
      "00_10_26_Rarity_Anxious Confused__the, room?\n",
      " 629.064875 -17.943528508343544\n",
      "00_10_28_Petunia Petals_Neutral__There's only one.\n",
      " 630.92 -14.159100165286365\n",
      "00_10_29_Petunia Petals_Happy_Very Noisy_Makes it easier to find!\n",
      " 632.65875 -30.52819133852918\n",
      "00_10_39_Petunia Petals_Happy_Very Noisy_Here it is! The royal suite!\n",
      " 642.267375 -46.30660637485839\n",
      "00_10_53_Rarity_Anxious_Noisy_How rustic and charming.\n",
      " 656.076125 -19.425814462195593\n",
      "00_10_55_Petunia Petals_Happy__Isn't it just?\n",
      " 658.397 -15.004745956008918\n",
      "00_10_57_Rainbow_Confused_Noisy_I couldn't help noticing, There are only three beds.\n",
      " 660.111625 -35.09225776288637\n",
      "00_11_03_Rainbow_Neutral_Very Noisy_okay, four.\n",
      " 666.15075 -12.068007845092595\n",
      "00_11_04_Petunia Petals_Neutral_Very Noisy_oh there's a pop-out too.\n",
      " 667.692625 -20.922101569102704\n",
      "00_11_09_Petunia Petals_Neutral__it can be a little tricky.\n",
      " 671.981 -12.721139000843234\n",
      "00_11_13_Petunia Petals_Happy_Very Noisy_There she is! sleeps two.\n",
      " 675.883875 -21.071009121833086\n",
      "00_11_15_Petunia Petals_Happy_Noisy_You'll be all fresh and ready to see the mayor in the mornin'.\n",
      " 678.16275 -38.24241546478021\n",
      "00_11_19_Petunia Petals_Happy__Sleep tight!\n",
      " 682.12475 -10.808013053715856\n",
      "00_11_23_Twilight_Neutral__Did anypony notice anything strange about petunia?\n",
      " 686.43625 -17.765846905860894\n",
      "00_11_26_Rarity_Sarcastic__Other than she just called this place the royal suite?\n",
      " 689.71575 -40.7378737798692\n",
      "00_11_30_Applejack_Neutral__Hard to tell in this light, but, She looked a little, gray didn't she?\n",
      " 693.294375 -34.958334065982335\n",
      "00_11_35_Rarity_Annoyed_Noisy_Probably from all the dust up here.\n",
      " 698.55775 -26.415442702578268\n",
      "00_11_41_Pinkie_Neutral__N'aw this room's not so bad.\n",
      " 704.23075 -17.74389323994902\n",
      "00_11_43_Pinkie_Neutral_Very Noisy_All it needs are some balloons.\n",
      " 706.10775 -21.884079229627933\n",
      "00_11_48_Pinkie_Happy_Very Noisy_And, the piñata!\n",
      " 711.1145 -20.874535637511865\n",
      "00_11_50_Pinkie_Happy__Good thing i brought some!\n",
      " 713.61475 -13.12278345946254\n",
      "00_11_54_Fluttershy_Neutral_Noisy_and look.\n",
      " 717.141625 -16.923652497138107\n",
      "00_11_56_Fluttershy_Happy_Noisy_It comes with a cute little spider!\n",
      " 719.334 -33.96773196258731\n",
      "00_11_59_Fluttershy_Happy__Hello spider.\n",
      " 721.99875 -13.933318781644935\n",
      "00_12_07_Rainbow_Neutral__Sorry everypony. I didn't know what i was getting you into.\n",
      " 730.412375 -27.325308477241013\n",
      "00_12_13_Twilight_Happy__the most important thing is we're all together.\n",
      " 735.9535 -27.13967746678481\n",
      "00_12_15_Applejack_Happy_Very Noisy_Yeah, as long as we have beds to sleep in, We're set.\n",
      " 738.30575 -25.21635193965516\n",
      "00_12_31_Twilight_Neutral_Noisy_It wasn't the worst night of sleep ever.\n",
      " 754.01075 -25.854582904390373\n",
      "00_12_33_Rarity_Anxious Tired_Noisy_But definitely in the top three.\n",
      " 756.644625 -13.11187087008871\n",
      "00_12_36_Rarity_Anxious Tired_Noisy_Or would that be the bottom three?\n",
      " 759.069875 -20.520103717070135\n",
      "00_12_43_Fluttershy_Anxious Confused_Very Noisy_Why is everypony looking at us?\n",
      " 766.369625 -22.688903180846427\n",
      "00_12_46_Applejack_Neutral_Very Noisy_Maybe they recognize rainbow dash.\n",
      " 769.280875 -29.445380108901645\n",
      "00_12_48_Rainbow_Neutral_Very Noisy_Or princess twilight. but probably me.\n",
      " 771.71475 -32.101517544045855\n",
      "00_12_52_Rarity_Anxious__No. I think they're staring because we're the only part of this town That isn't.\n",
      " 775.328 -41.90526589577057\n",
      "00_12_57_Rarity_Neutral_Very Noisy_gray.\n",
      " 780.724625 -13.634051002900234\n",
      "00_12_59_Pinkie_Neutral__what do you mean?\n",
      " 782.170125 -7.856229906953011\n",
      "00_13_00_Rarity_Anxious__look around!\n",
      " 783.149875 -14.080209047106596\n",
      "00_13_02_Rarity_Anxious__All the colors here are gone!\n",
      " 785.59925 -14.162273675034632\n",
      "00_13_04_Twilight_Neutral__That's so strange.\n",
      " 787.711375 -15.8525868761139\n",
      "00_13_06_Twilight_Neutral__It's just like i noticed about petunia last night. everything's mostly gray.\n",
      " 789.76725 -37.69227402184272\n",
      "00_13_11_Petunia Petals_Happy__Oh, hello!\n",
      " 794.449125 -20.816238192692563\n",
      "00_13_13_Applejack_Confused_Noisy_Except the stuff that's, grayer.\n",
      " 796.44775 -16.076859085085534\n",
      "00_13_16_Fluttershy_Anxious_Very Noisy_Oh my. i knew something was different, but.\n",
      " 799.07575 -37.209055868529866\n",
      "00_13_19_Rainbow_Anxious__This is so, weird!\n",
      " 801.837375 -33.32549269077041\n",
      "00_13_25_Rarity_Neutral_Noisy_From the way they're gawking at us, It appears they think we're the odd ones.\n",
      " 807.83375 -33.084146013888926\n",
      "00_13_29_Fluttershy_Neutral_Noisy_Maybe they don't even notice.\n",
      " 812.41375 -32.020658446274396\n",
      "00_13_31_Fluttershy_Whispering_Noisy_It might be rude to mention it.\n",
      " 814.38175 -4.240508922162384\n",
      "00_13_33_Twilight_Neutral__I wonder what caused this.\n",
      " 816.557625 -18.5154279060429\n",
      "00_13_35_Applejack_Neutral__we can ask the mayor.\n",
      " 818.55275 -13.258952362046143\n",
      "00_13_37_Rainbow_Annoyed_Very Noisy_yeah, If we ever find him.\n",
      " 819.8825 -18.35319464603806\n",
      "00_14_12_Mrs. Hoofington_Annoyed_Noisy_Don't pout dear, it'll wrinkle your withers.\n",
      " 855.17275 -12.231937770632888\n",
      "00_14_15_Mr. Hoofington_Annoyed_Noisy_I'm not pouting sweetums, But i am hurt by your comment.\n",
      " 858.63475 -47.466708218209185\n",
      "00_14_20_Mr. Hoofington_Annoyed_Noisy_I thought the pie i baked was quite tasty.\n",
      " 862.90275 -38.58886605863534\n",
      "00_14_22_Mrs. Hoofington_Annoyed_Noisy_i didn't say it wasn't.\n",
      " 865.39225 -20.302642286808005\n",
      "00_14_24_Mr. Hoofington_Annoyed_Noisy_you didn't say it was.\n",
      " 866.845875 -22.850025949465945\n",
      "00_14_26_Mr. Hoofington_Annoyed__watch where you're going! You don't own the sidewalk y'know!\n",
      " 869.142625 -53.69139113822841\n",
      "00_14_30_Mr. Hoofington_Happy__well i never!\n",
      " 873.27475 -20.263195106105815\n",
      "00_14_42_Applejack_Happy_Very Noisy_Well look at that! somepony's fixin' up our balloon!\n",
      " 884.82775 -42.78745137937173\n",
      "00_14_50_Mayor Sunny Skies_Anxious_Very Noisy_Oh, goodness! this is unfortunate. Bad with a side of terribly awful!\n",
      " 893.21075 -27.015706359508272\n",
      "00_14_55_Mayor Sunny Skies_Anxious_Very Noisy_excuse me, sorry, sorry.\n",
      " 898.46575 -25.919189102862163\n",
      "00_15_03_Mayor Sunny Skies_Happy_Very Noisy_Well stuff me in an olive and call me a pimento! It's the rainbow dash! you made it!\n",
      " 906.30775 -46.89209622139682\n",
      "00_15_10_Mayor Sunny Skies_Anxious__Eh, it is you, isn't it?\n",
      " 913.472 -17.00183355707215\n",
      "00_15_13_Rainbow_Smug__pretty sure, yeah.\n",
      " 916.242625 -15.898510896354413\n",
      "00_15_15_Mayor Sunny Skies_Happy__Ha! thank celestia! I saw the balloon thought the worst and, Well, you're here! all of ya!\n",
      " 918.19475 -32.879358283616355\n",
      "00_15_22_Mayor Sunny Skies_Happy__Welcome to the hope hollow annual rainbow festival!\n",
      " 925.188875 -37.54552438983659\n",
      "00_15_26_Twilight_Neutral__I'm twilight sparkle, And you must be?\n",
      " 929.53875 -27.141212929237167\n",
      "00_15_30_Mayor Sunny Skies_Happy__Sunny skies. the mayor of this lovely town And pleased as a poplar tree to meetcha!\n",
      " 933.332 -29.977336538054338\n",
      "00_15_36_Fluttershy_Neutral__We're very sorry about your rainbow billboard Mister mayor.\n",
      " 939.266625 -45.90693473021394\n",
      "00_15_40_Mayor Sunny Skies_Neutral__D'ohh, don't give it a second thought! That old thing needed repair anyway, Haven't used it since, eh, well, never mind.\n",
      " 943.635375 -41.55447258869812\n",
      "00_15_48_Mayor Sunny Skies_Neutral_Very Noisy_Eh, anyway! once your balloon's fixed up, Torque can take care of the billboard.\n",
      " 951.17625 -32.89251827946081\n",
      "00_15_52_Mayor Sunny Skies_Neutral_Very Noisy_Everypony, meet torque wrench, our town handy-pony.\n",
      " 955.68975 -44.21559409453978\n",
      "00_15_56_Mayor Sunny Skies_Happy__She offered to repair your balloon for ya.\n",
      " 959.18275 -28.647350797663165\n",
      "00_15_58_Torque Wrench_Annoyed_Very Noisy_He volunteered me.\n",
      " 961.36275 -19.284789186390615\n",
      "00_16_00_Mayor Sunny Skies_Happy_Very Noisy_She'll have it fixed in a jiffy!\n",
      " 963.53075 -21.518152114650963\n",
      "00_16_03_Torque Wrench_Annoyed_Noisy_If by jiffy you mean this'll take all day.\n",
      " 966.033 -36.834185970888925\n",
      "00_16_07_Mayor Sunny Skies_Happy_Very Noisy_So, you got in last night, heh!\n",
      " 970.20475 -33.14816050457898\n",
      "00_16_09_Mayor Sunny Skies_Happy__I wish i'd known i would've been here to greet ya! Eh, where did y'all stay?\n",
      " 972.63425 -38.55362916514579\n",
      "00_16_13_Rarity_Happy__at the, luxury hotel.\n",
      " 976.29625 -16.778686014757415\n",
      "00_16_15_Applejack_Neutral__Petunia petals let us in.\n",
      " 978.4565 -16.455087057948006\n",
      "00_16_17_Mayor Sunny Skies_Happy__Oh well of course she did! She's something i'll tell you what, I'd be lost without her!\n",
      " 980.520375 -42.025418097605794\n",
      "00_16_24_Mayor Sunny Skies_Anxious__I-i mean the town would be!\n",
      " 986.97175 -36.99675650160333\n",
      "00_16_28_Twilight_Anxious_Noisy_Mayor i hope you don't mind my asking but, Is there a reason your town is, faded?\n",
      " 991.18375 -32.023204119197786\n",
      "00_16_33_Mayor Sunny Skies_Anxious__Oh heh, you spotted that did ya? Well it's a, long story eh, Why don't i show you the town highlights first?\n",
      " 996.694125 -38.33052496876149\n",
      "00_16_51_Mayor Sunny Skies_Happy_Very Noisy_Here is our famous outdoor spa With the all-natural mud bath. pretty huh?\n",
      " 1018.596875 -36.598573826592464\n",
      "00_16_59_Twilight_Happy_Very Noisy_Maybe we could see some of the rainbow festival activities! from the brochure!\n",
      " 1027.165625 -41.35239538225893\n",
      "00_17_03_Mayor Sunny Skies_Happy_Noisy_of course! The bakery booth is there.\n",
      " 1031.341625 -30.21608748920025\n",
      "00_17_09_Mayor Sunny Skies_Happy__Or, will be we're, still settin' up But we got a lotta great things planned!\n",
      " 1036.996375 -42.95281342637861\n",
      "00_17_14_Fluttershy_Happy__And, the butterfly garden?\n",
      " 1041.959375 -23.14768031591779\n",
      "00_17_17_Mayor Sunny Skies_Happy__Oh that's right over here.\n",
      " 1044.616375 -33.7481438789975\n",
      "00_17_23_Mayor Sunny Skies_Anxious_Very Noisy_Oop. eh, lemme fix that.\n",
      " 1051.135375 -16.26376110006951\n",
      "00_17_27_Fluttershy_Confused__So, none of the butterflies are actually?\n",
      " 1054.513375 -53.705083662768054\n",
      "00_17_30_Mayor Sunny Skies_Neutral__Real? oh no. uh, What with the flowers not having color and all The butterflies don't really come around much anymore.\n",
      " 1058.276625 -30.138958401197105\n",
      "00_17_37_Applejack_Neutral__I'm almost afraid to ask but, The brochure mentioned fishing?\n",
      " 1065.094625 -47.8732960375524\n",
      "00_17_41_Mayor Sunny Skies_Confused__Fishing? Oh not sure what you mean.\n",
      " 1069.278625 -26.037276895900057\n",
      "00_17_44_Twilight_Confused__our famous rainbow trout?\n",
      " 1071.623625 -25.578529895739937\n",
      "00_17_46_Mayor Sunny Skies_Happy__Oh yeah sure! Ah well uh, you don't fish for them exactly You just kinda, uh, talk to him.\n",
      " 1073.866375 -49.43839898236564\n",
      "00_17_53_Mayor Sunny Skies_Anxious__Uh he's right over uh.\n",
      " 1080.70625 -17.678031045552654\n",
      "00_17_57_Mayor Sunny Skies_Confused__That's funny where'd our trout go?\n",
      " 1085.2115 -16.498944286189513\n",
      "00_18_09_Pinkie_Happy_Noisy_Um so, no big deal, Well actually okay yes kind of a big deal, But the brochure also mentioned the karaoke contest?\n",
      " 1096.64725 -36.654325409375744\n",
      "00_18_17_Mayor Sunny Skies_Happy__Right here!\n",
      " 1105.304375 -8.273780036417845\n",
      "00_18_23_Mayor Sunny Skies_Neutral__The trout doubles on harmonica.\n",
      " 1110.861375 -15.997909174414698\n",
      "00_18_28_Fluttershy_Confused__How, Multi-talented of him.\n",
      " 1115.574375 -40.559909394988125\n",
      "00_18_31_Pinkie_Happy__Good thing i bring my own karaoke party!\n",
      " 1118.924375 -30.42150611911103\n",
      "00_18_39_Mayor Sunny Skies_Anxious__well uh, That's the big tour.\n",
      " 1126.836375 -27.354447276283736\n",
      "00_18_47_Twilight_Confused_Noisy_I don't understand. your rainbow festival isn't, Quite as you described.\n",
      " 1134.52 -43.11263601327869\n",
      "00_18_51_Rainbow_Neutral_Noisy_And the resort hotel wasn't what it cracked up to be either.\n",
      " 1139.234 -43.65111925454375\n",
      "00_18_56_Applejack_Sarcastic_Noisy_except for all the cracks.\n",
      " 1143.477375 -10.680901936911829\n",
      "00_18_57_Rarity_Neutral_Noisy_None of these things are as pictured in your brochure.\n",
      " 1145.187375 -26.571687801799566\n",
      "00_19_01_Mayor Sunny Skies_Anxious__Well, maybe i exaggerated a little but, I-i intended on having everything ready! It's just kinda hard getting anypony excited about anything In this town anymore!\n",
      " 1149.192125 -36.53662014969736\n",
      "00_19_12_Mayor Sunny Skies_Sad_Noisy_I didn't think you'd come if you knew the truth.\n",
      " 1159.993375 -18.725794865355756\n",
      "00_19_15_Twilight_Confused__The truth?\n",
      " 1162.44275 -3.173614406758853\n",
      "00_19_16_Mayor Sunny Skies_Sad__Oh, there is no rainbow festival!\n",
      " 1163.761375 -38.353206824213956\n",
      "00_19_21_Applejack_Anxious_Noisy_no rainbow festival?\n",
      " 1169.253375 -27.468257175280527\n",
      "00_19_23_Rainbow_Anxious_Noisy_no fan club?\n",
      " 1171.124 -18.7464181467936\n",
      "00_19_25_Mayor Sunny Skies_Anxious__Believe me i didn't mean to.\n",
      " 1172.742125 -24.64986225618733\n",
      "00_19_27_Rainbow_Annoyed__bring us here for nothing?!\n",
      " 1174.6535 -15.44604763161016\n",
      "00_19_29_Twilight_Anxious__think of all the papers I could be grading!\n",
      " 1176.633 -28.6917760620039\n",
      "00_19_31_Mayor Sunny Skies_Anxious_Very Noisy_I-if you just let me!\n",
      " 1178.4785 -9.33239919703735\n",
      "00_19_32_Rarity_Annoyed_Noisy_We should leave this very moment!\n",
      " 1179.545125 -19.845072232111978\n",
      "00_19_34_Applejack_Neutral_Noisy_balloon's not fixed yet.\n",
      " 1181.499625 -18.315432741121782\n",
      "00_19_35_Fluttershy_Neutral__Maybe, We should let the mayor explain?\n",
      " 1182.732375 -25.303747911067664\n",
      "00_19_39_Mayor Sunny Skies_Neutral__Uh, guess i should start at the beginning. A long time ago when my grandpa skies was mayor, hope hollow was different.\n",
      " 1186.645375 -40.62906994045387\n",
      "00_19_46_Mayor Sunny Skies_Neutral__They used to call this town, the end of the rainbow.\n",
      " 1194.268375 -35.67452958284392\n",
      "00_19_51_Mayor Sunny Skies_Neutral_Noisy_'cause everything you'd ever want you could find right here!\n",
      " 1199.038625 -47.13127512674106\n",
      "00_20_00_Mayor Sunny Skies_Happy Singingnging_Noisy_next-door neighbors chatting, over white wood fences, stopping on the street to say #hello#.\n",
      " 1207.81625 -49.699399983857624\n",
      "00_20_08_Mayor Sunny Skies_Happy Singing_Noisy_when friends did well, we sang their praises, brought soup to comfort them when they felt #low#.\n",
      " 1215.959375 -37.470286076994476\n",
      "00_20_16_Mayor Sunny Skies_Happy Singing_Noisy_that was our town at the end of the rainbow.\n",
      " 1223.90175 -26.88977032096278\n",
      "00_20_25_Mayor Sunny Skies_Happy Singing_Very Noisy_no pots of gold, or buried treasure, just everypony looking after each #other#.\n",
      " 1232.4705 -40.33551419918965\n",
      "00_20_33_Mayor Sunny Skies_Happy Singing_Very Noisy_the truest riches, cannot be measured, it was a lesson that had kept us #together#.\n",
      " 1240.6585 -32.96511785368631\n",
      "00_20_41_Mayor Sunny Skies_Happy Singing_Noisy_in our town at the end of the #rainbow#.\n",
      " 1249.0835 -43.44885865784182\n",
      "00_20_50_Mayor Sunny Skies_Happy Singing_Very Noisy_to honor our fine town my grandpa skies decided, to throw a party each and every #year#.\n",
      " 1257.49425 -58.22201269302398\n",
      "00_20_58_Mayor Sunny Skies_Happy Singing_Very Noisy_they planned for weeks, cooked for days, celebrated fifty #ways#, so everypony would gather here, in our town at the end of the #rainbow#.\n",
      " 1265.5585 -38.96158867157077\n",
      "00_21_10_Mayor Sunny Skies_Happy Singing_Very Noisy_grandpa made a gizmo called the rainbow generator, to paint the sky with lots of colors shining bold and bright.\n",
      " 1278.374 -52.445126303250156\n",
      "00_21_19_Mayor Sunny Skies_Happy Singing_Very Noisy_to remind us all, together we are greater, and darkness never wins against the coming of the light.\n",
      " 1286.53325 -47.28405773634134\n",
      "00_21_27_Mayor Sunny Skies_Happy Singing_Noisy_grandpa passed it onto dad then it was my #turn#, to make the pretty rainbows in the #sky#.\n",
      " 1294.628125 -39.30380338430216\n",
      "00_21_35_Mayor Sunny Skies_Happy Singing_Very Noisy_it filled my heart with pride to see, our whole town gathered #gratefully#.\n",
      " 1302.9285 -38.7866052160972\n",
      "00_21_40_Mayor Sunny Skies_Happy Singing_Very Noisy_where we were sure there would never be an #end# to the #rainbow#.\n",
      " 1308.2675 -61.43891535829299\n",
      "00_21_53_Mayor Sunny Skies_Sad Si_Noisy_then fences went #up#, we lost track of our neighbors, each year passing dimming spirits all #around#.\n",
      " 1321.3225 -62.453948650374265\n",
      "00_22_02_Mayor Sunny Skies_Sad Si_Very Noisy_the happy days came to an #end#, and nopony had time to spend to gather in the #town#.\n",
      " 1329.7475 -67.23794769000712\n",
      "00_22_10_Mayor Sunny Skies_Sad Si_Very Noisy_i thought i knew exactly what the #festival# #needed#.\n",
      " 1338.315125 -51.03710818715259\n",
      "00_22_19_Mayor Sunny Skies_Sad Si_Very Noisy_a bigger better #rainbow#, would surely make them see #it#.\n",
      " 1346.8055 -49.25221505229497\n",
      "00_22_28_Mayor Sunny Skies_Sad Si_Very Noisy_but the extra magic was too much for the #rainbow# #generator#.\n",
      " 1355.5225 -49.060599533142664\n",
      "00_22_35_Mayor Sunny Skies_Sad Si_Very Noisy_and i'm the one who brought the #rainbow#, to an end.\n",
      " 1362.8635 -52.76779156694223\n",
      "00_22_46_Mayor Sunny Skies_Sad Si_Noisy_that's how our #town#, our little pony #town#, that's how our town saw the #end#, of the #rainbow#.\n",
      " 1374.1245 -48.08965178349119\n",
      "00_23_11_Pinkie_Sad_Very Noisy_That is the saddest story-song I've ever heard!\n",
      " 1398.641625 -39.14079784775872\n",
      "00_23_16_Mayor Sunny Skies_Neutral__I tried for a long time to get everypony Interested in the festival again.\n",
      " 1403.487375 -48.12773265174102\n",
      "00_23_21_Mayor Sunny Skies_Sad__To remember what it's like to come together as a community And share the fun!\n",
      " 1408.519375 -35.87649878077196\n",
      "00_23_25_Mayor Sunny Skies_Sad_Noisy_But nopony even bothered listenin'.\n",
      " 1413.289375 -18.461412718675035\n",
      "00_23_28_Mayor Sunny Skies_Sad_Very Noisy_That's why i wrote to you, rainbow dash.\n",
      " 1416.020125 -21.80684762041092\n",
      "00_23_30_Mayor Sunny Skies_Sad_Noisy_You were my last hope! i figured if a pony of your stature Came to town it would get everypony excited About puttin' on the festival again!\n",
      " 1418.324875 -38.94050150863854\n",
      "00_23_38_Mayor Sunny Skies_Sad Anxious__I mean, rainbow's even part of your name!\n",
      " 1426.051375 -28.96604479141141\n",
      "00_23_41_Rainbow_Neutral__Hmm, yeah i can see that.\n",
      " 1428.679375 -24.01698808475728\n",
      "00_23_43_Twilight_Neutral__Mister mayor, what kind of magic did you use On the rainbow generator?\n",
      " 1431.307375 -48.183834033273094\n",
      "00_23_48_Mayor Sunny Skies_Anxious__ooh. i'm not sure.\n",
      " 1435.470375 -15.041171546996955\n",
      "00_23_50_Mayor Sunny Skies_Sad_Noisy_I didn't know what i was dealing with, I only wanted to help.\n",
      " 1438.1205 -41.678534072729306\n",
      "00_23_54_Mayor Sunny Skies_Sad__But instead i sucked all the color out of the town.\n",
      " 1441.817375 -32.65627673273048\n",
      "00_23_57_Mayor Sunny Skies_Neutral_Very Noisy_That billboard's one of the only things that didn't change.\n",
      " 1445.362375 -26.698214883146303\n",
      "00_24_01_Mayor Sunny Skies_Neutral__To me it's a reminder of what we can be!\n",
      " 1448.88175 -36.9576376979379\n",
      "00_24_04_Mayor Sunny Skies_Neutral__Keeps the hope in hope hollow.\n",
      " 1451.577375 -19.270281966622406\n",
      "00_24_06_Twilight_Neutral__Hmm. if i could find out the type of magic you used, I might be able to reverse the spell.\n",
      " 1453.746375 -38.57596715259356\n",
      "00_24_11_Mayor Sunny Skies_Happy__You mean, you're gonna stay?!\n",
      " 1459.126375 -27.288983969195368\n",
      "00_24_15_Applejack_Happy__Heh. nothing we like better than a challenge, especially when it comes to helpin' ponies.\n",
      " 1462.798875 -29.217682183912892\n",
      "00_24_20_Mayor Sunny Skies_Happy__You don't know how clam-happy this all makes me! Thank you kindly.\n",
      " 1468.291875 -45.50732821844541\n",
      "00_24_26_Twilight_Neutral_Noisy_we'll do whatever we can To bring back your rainbow festival.\n",
      " 1473.455625 -41.16545553050561\n",
      "00_24_29_Mayor Sunny Skies_Neutral__I won't fib to ya, it won't be easy.\n",
      " 1477.181875 -29.000419529538274\n",
      "00_24_32_Mayor Sunny Skies_Anxious_Very Noisy_It's gotten so nopony even talks to each other anymore.\n",
      " 1480.048875 -33.94180763064713\n",
      "00_24_36_Twilight_Neutral_Very Noisy_Hm, it might be tough but. We have a little experience bringing ponies together.\n",
      " 1483.927625 -42.12439714092167\n",
      "00_24_43_Pinkie_Happy_Very Noisy_Yay! this is exactly like planning a party!\n",
      " 1490.9545 -24.535901175407066\n",
      "00_24_46_Pinkie_Happy_Very Noisy_Only bigger, 'cause it's a festival!\n",
      " 1494.126625 -23.679309473120195\n",
      "00_24_51_Pinkie_Happy_Noisy_Which means more cupcakes! Woo hoo!\n",
      " 1498.7965 -38.71986393292506\n",
      "00_24_57_Pinkie_Happy_Noisy_i've got a date with the bakery booth. ha-ha!\n",
      " 1505.096625 -27.442686565125648\n",
      "00_25_05_Fluttershy_Neutral_Noisy_Um. i'd better go with her.\n",
      " 1512.513375 -12.312975124138859\n",
      "00_25_08_Rarity_Neutral_Noisy_Hmm. an overall stylistic look To unify the sentiment of the celebration That's what this festival needs!\n",
      " 1516.275375 -35.39467489644761\n",
      "00_25_17_Mayor Sunny Skies_Neutral__you mean like, a rainbow?\n",
      " 1524.394375 -28.415747748949812\n",
      "00_25_19_Rarity_Happy__yes darling yes yes But more complex, more thematic, Something like, ooh!\n",
      " 1526.5065 -42.69637562207545\n",
      "00_25_25_Rarity_Happy__Something like that!\n",
      " 1532.73825 -19.62094551328211\n",
      "00_25_28_Rarity_Happy__Formidable!\n",
      " 1535.828375 -22.293747674621578\n",
      "00_25_31_Twilight_Neutral__The biggest challenge is getting your town interested In a rainbow festival when everything's so, gray.\n",
      " 1538.664375 -38.50105095008545\n",
      "00_25_36_Twilight_Neutral__I think if we can bring the color back, It'll solve everything.\n",
      " 1543.85275 -48.34493190170716\n",
      "00_25_39_Mayor Sunny Skies_Anxious__i'm with ya there but.\n",
      " 1547.297375 -26.24322388862189\n",
      "00_25_45_Rainbow_Neutral__Mister mayor? seriously, Is there a fan club?\n",
      " 1552.428375 -24.342022744432693\n",
      "00_25_48_Mayor Sunny Skies_Neutral__oh you betcha! They're around. somewhere.\n",
      " 1555.955 -35.63545219735239\n",
      "00_25_54_Applejack_Neutral__Any tools i can borrow your honor? I'm gonna spruce up that billboard to let everypony know this here rainbow festival's back in business.\n",
      " 1562.271375 -55.75789126543725\n",
      "00_26_02_Mayor Sunny Skies_Happy__Oho, that's music to my ears!\n",
      " 1569.534875 -29.399778630512984\n",
      "00_26_04_Mayor Sunny Skies_Happy__torque wrench! Let's get our host tooled up whaddya say? She's gonna put our rainbow back up!\n",
      " 1571.97625 -36.428991157921004\n",
      "00_26_09_Torque Wrench_Sarcastic__Oh, yippee.\n",
      " 1577.244375 -29.7391691902245\n",
      "00_26_19_Mayor Sunny Skies_Happy__If you don't mind i uh, i have a speech to work on. see ya around.\n",
      " 1587.2185 -40.3229881539839\n",
      "00_26_31_Rainbow_Neutral__So, what's your plan?\n",
      " 1602.8585 -16.468370717492313\n",
      "00_26_33_Twilight_Happy__If magic caused this, Maybe magic can solve it.\n",
      " 1605.330625 -40.16363256516281\n",
      "00_26_48_Twilight_Anxious__Ooh, i was afraid of that. I've never seen any magic like this before.\n",
      " 1619.6975 -36.85997847929135\n",
      "00_26_53_Rainbow_Happy__let me try. I mean, rainbow's part of my name right?\n",
      " 1625.222625 -43.19220101267035\n",
      "00_27_23_Rainbow_Neutral__yeah that's all i got.\n",
      " 1655.5465 -15.73323792263626\n",
      "00_27_26_Twilight_Neutral__thanks for trying.\n",
      " 1658.188625 -12.309908930000546\n",
      "00_27_27_Twilight_Neutral_Very Noisy_I guess i need to do more research.\n",
      " 1659.377125 -25.41968560237281\n",
      "00_27_48_Rainbow_Anxious_Noisy_A-are you okay?\n",
      " 1680.514 -18.70674481778761\n",
      "00_27_52_Barley Barrel_Annoyed_Noisy_Why did you zig in front of me like that?\n",
      " 1684.465125 -34.259836968882404\n",
      "00_27_55_Pickle Barrel_Annoyed_Very Noisy_I didn't zig you zigged! i zagged!\n",
      " 1687.2035 -34.881977108884755\n",
      "00_27_57_Barley Barrel_Annoyed_Noisy_That's no excuse for.\n",
      " 1689.169 -17.14801802223341\n",
      "00_27_59_Rainbow_Anxious_Noisy_Guys, guys! hold on! It was just an accident.\n",
      " 1690.733 -41.145172735356205\n",
      "00_28_03_Pickle Barrel_Sad_Noisy_An accident that happened in front of you.\n",
      " 1694.8665 -20.824285934707717\n",
      "00_28_05_Barley Barrel_Sad__Ugh! i'm so embarrassed. All of our lives we've been wanting to meet you and.\n",
      " 1697.3275 -28.781519268246637\n",
      "00_28_11_Rainbow_Confused__Wait! so, you're the fan club?\n",
      " 1702.83925 -28.74949050537054\n",
      "00_28_15_Barley Barrel_Happy__You've heard of us?\n",
      " 1706.906875 -13.979225997770977\n",
      "00_28_18_Pickle Barrel_Happy_Very Noisy_Barley's the president.\n",
      " 1709.777875 -17.04062902975246\n",
      "00_28_19_Barley Barrel_Happy_Noisy_Pickle's the assistant president.\n",
      " 1710.8825 -17.308974780100115\n",
      "00_28_21_Rainbow_Happy_Noisy_Well, what do you know? The mayor was telling the truth about something.\n",
      " 1712.869625 -37.48622966209447\n",
      "00_28_25_Barley Barrel_Happy_Noisy_Anyway, you're my brother's favorite wonderbolt!\n",
      " 1717.2225 -36.017309144164024\n",
      "00_28_28_Pickle Barrel_Happy_Noisy_And my sister's favorite wonderbolt too!\n",
      " 1719.8085 -26.542373243509804\n",
      "00_28_31_Barley Barrel_Happy_Noisy_He knows all of your best moves.\n",
      " 1722.8945 -20.220950759866778\n",
      "00_28_32_Pickle Barrel_Happy_Noisy_so does she!\n",
      " 1724.47 -7.350612152669645\n",
      "00_28_33_Barley Barrel_Happy_Noisy_We practice all of them, everyday!\n",
      " 1725.094375 -24.752664172421508\n",
      "00_28_39_Pickle Barrel_Sad_Noisy_But, we really can't do them.\n",
      " 1730.7355 -26.16042659639163\n",
      "00_28_42_Pickle Barrel_Annoyed__Well, it's true!\n",
      " 1734.046625 -23.10761804453428\n",
      "00_28_43_Barley Barrel_Anxious Whispering__go ahead, ask her.\n",
      " 1735.419875 -6.074074775164585\n",
      "00_28_45_Pickle Barrel_Anxious Whispering__no, you ask her.\n",
      " 1736.793125 -11.442662825269979\n",
      "00_28_46_Barley Barrel_Anxious Whispering__no you ask her!\n",
      " 1737.9495 -5.141162917018463\n",
      "00_28_47_Pickle Barrel_Anxious Whispering_Very Noisy_no, you!\n",
      " 1739.32675 -11.441794455574106\n",
      "00_28_50_Rainbow_Annoyed__Somepony ask me!\n",
      " 1741.8645 -22.50473558845954\n",
      "00_28_53_Barley Barrel_Anxious__Do you think, maybe. You could give us a lesson? just a tiny one? Show us some of your moves?\n",
      " 1745.3755 -31.053868335966804\n",
      "00_29_02_Rainbow_Happy__Well, you promise to listen? And work hard? and practice?\n",
      " 1753.938625 -31.962874240652503\n",
      "00_29_11_Rainbow_Happy__Tell you what, if i like what i see, The three of us will put on a show At the rainbow festival!\n",
      " 1763.24625 -28.007189516840153\n",
      "00_29_20_Barley Barrel_Surprised Confused__There's still a rainbow festival?\n",
      " 1771.6865 -25.344026397753257\n",
      "00_29_22_Pickle Barrel_Surprised Confused__And, we're gonna perform at it?\n",
      " 1773.924875 -20.12171906507501\n",
      "00_29_24_Rainbow_Happy_Noisy_I think the whole town should know there's a couple Of future wonderbolt's living here.\n",
      " 1776.521 -41.83023422708974\n",
      "00_29_31_Rainbow_Happy_Very Noisy_C'mon, we got work to do!\n",
      " 1782.712625 -18.902847678210318\n",
      "00_29_34_Barley Barrel_Happy_Very Noisy_Did you hear that?!\n",
      " 1786.54325 -15.506968546434155\n",
      "00_29_36_Pickle Barrel_Happy_Noisy_She called us future wonderbolts!\n",
      " 1788.11725 -20.123423991887964\n",
      "00_29_51_Applejack_Neutral_Noisy_I think some of this can be saved, But we'll need some fresh lumber.\n",
      " 1803.102625 -45.29937931493194\n",
      "00_29_55_Applejack_Neutral__Uh, torque? the mayor said maybe you can lend a hoof?\n",
      " 1806.724375 -42.36609301487304\n",
      "00_29_58_Torque Wrench_Annoyed__him and his crazy schemes. What's your business in this anyhoo, hmm?\n",
      " 1810.386375 -40.6177889525792\n",
      "00_30_03_Applejack_Neutral__Well for one thing, we're helping the mayor. And for another, granny smith always says, you break something, you fix it.\n",
      " 1815.028125 -45.56704467430951\n",
      "00_30_10_Applejack_Neutral_Very Noisy_And any job you do, you should be proud of.\n",
      " 1822.4105 -36.39980790709483\n",
      "00_30_14_Torque Wrench_Amused__proud of being a repair pony?\n",
      " 1826.42375 -45.46721685734059\n",
      "00_30_18_Applejack_Neutral__Well absolutely. it's a pretty rare talent to have. Nice work on that balloon basket by the way.\n",
      " 1829.8765 -44.477031707436474\n",
      "00_30_24_Applejack_Neutral_Noisy_Reweavin' all that straw is no joke.\n",
      " 1836.4245 -33.76105863981585\n",
      "00_30_28_Torque Wrench_Neutral__yeah well, Thanks for well, noticing.\n",
      " 1839.939375 -28.630621050072975\n",
      "00_30_51_Rarity_Anxious_Very Noisy_That's one of my designs!\n",
      " 1863.099875 -40.92191431194968\n",
      "00_30_58_Rarity_Neutral_Very Noisy_Hello?\n",
      " 1869.9165 -20.010799555882972\n",
      "00_31_02_Kerfuffle_Happy_Noisy_No way! stack my pancakes! Are you really the rarity?\n",
      " 1874.57575 -45.27911516077\n",
      "00_31_07_Rarity_Neutral__Uh, it's just rarity.\n",
      " 1879.5095 -22.78658392525875\n",
      "00_31_09_Rarity_Anxious__Uh and i-i couldn't help but notice that you've got.\n",
      " 1881.538375 -38.64093138294523\n",
      "00_31_13_Kerfuffle_Happy_Noisy_I love you! i love you so much, Your work i mean your designs your taste Your eye for beauty.\n",
      " 1884.847 -42.877326178861395\n",
      "00_31_19_Rarity_Anxious_Noisy_well, thank you.\n",
      " 1891.2555 -17.983495293122175\n",
      "00_31_21_Kerfuffle_Happy_Noisy_They're the perfect canvas for me to fancy up!\n",
      " 1892.829625 -50.179953925871644\n",
      "00_31_24_Rarity_Anxious_Noisy_Yes about that! the-the hat, the-the bow, the scarf, the.\n",
      " 1895.865125 -41.87635240195604\n",
      "00_31_28_Kerfuffle_Happy_Noisy_do you like 'em? very charming.\n",
      " 1900.241875 -13.479624986213771\n",
      "00_31_29_Rarity_Neutral__Very charming.\n",
      " 1901.567 -7.499061810839324\n",
      "00_31_31_Kerfuffle_Happy__thank you! Those are kerfuffle originals.\n",
      " 1903.33375 -46.93647995983612\n",
      "00_31_34_Kerfuffle_Happy__i'm kerfuffle, Spelled like it sounds with a double.\n",
      " 1906.289 -45.16072451023757\n",
      "00_31_38_Kerfuffle_Happy__For the fuff!\n",
      " 1910.14375 -15.391518621088265\n",
      "00_31_40_Kerfuffle_Anxious__I should really stop talking now.\n",
      " 1911.774 -13.054786996856471\n",
      "00_31_42_Rarity_Neutral__I do hope you don't mind my asking, But with all this talent, Why don't you simply display your own work? Instead of adding to others?\n",
      " 1914.022625 -30.8881827231668\n",
      "00_31_56_Kerfuffle_Sad_Noisy_oh no. I-i-i couldn't it's, Not good enough by itself.\n",
      " 1927.81125 -37.63803382435086\n",
      "00_32_01_Rarity_Annoyed__au contraire!\n",
      " 1933.248125 -15.605536529075506\n",
      "00_32_02_Rarity_Neutral_Very Noisy_take this shawl. Hoof-dyed, nicely woven.\n",
      " 1934.492875 -31.360950566446093\n",
      "00_32_06_Rarity_Happy__A piece of art by itself! Imagine if you could work in color.\n",
      " 1938.203 -49.814600870320206\n",
      "00_32_11_Kerfuffle_Happy__Oh i do imagine! I mean that's how i design things.\n",
      " 1942.652 -52.690846256974886\n",
      "00_32_14_Kerfuffle_Happy_Noisy_I feel in my heart what the colors are. Like this scarf, this stripe is red, Then orange, yellow!\n",
      " 1946.474625 -42.300573808063355\n",
      "00_32_22_Rarity_Happy__Like a rainbow.\n",
      " 1954.34475 -14.114256883323193\n",
      "00_32_24_Rarity_Happy__How would you like to work with me as the official assistant Designer of the rainbow festival?\n",
      " 1955.7945 -45.59162916961775\n",
      "00_32_30_Kerfuffle_Happy__really? Work with you?  I-i can't believe it!\n",
      " 1961.94175 -40.99903316848881\n",
      "00_32_38_Kerfuffle_Confused__Wait, there's still a rainbow festival?\n",
      " 1970.117 -35.54187178246924\n",
      "00_32_41_Rarity_Happy__Darling! if we have anything to do with it, Not only will there be a festival, It will be the most stylish anypony in this town Has ever seen!\n",
      " 1973.0195 -47.127714361592155\n",
      "00_32_50_Rarity_Happy_Noisy_now let's get started!\n",
      " 1982.002375 -10.102481021866854\n",
      "00_33_14_Petunia Petals_Happy_Very Noisy_you like it?\n",
      " 2005.8445 -15.247805392579597\n",
      "00_33_15_Twilight_Happy__I love it.\n",
      " 2007.60425 -16.83551587495634\n",
      "00_33_18_Petunia Petals_Happy_Noisy_That a teeny town like hope hollow Would have a library this grand?\n",
      " 2009.7365 -46.91766423475508\n",
      "00_33_21_Petunia Petals_Happy_Noisy_we may be small, But we are well read!\n",
      " 2013.571125 -47.042130045542145\n",
      "00_33_25_Petunia Petals_Happy_Noisy_I make sure of it!\n",
      " 2017.00025 -14.63556081005565\n",
      "00_33_26_Twilight_Happy_Noisy_Mayor sunny was right! you are something!\n",
      " 2018.4395 -49.28055324880585\n",
      "00_33_30_Petunia Petals_Happy_Noisy_Did he really say that?\n",
      " 2022.067625 -30.039274079754723\n",
      "00_33_32_Petunia Petals_Happy_Noisy_Oh, that silly unicorn.\n",
      " 2024.360375 -30.841653774357777\n",
      "00_33_35_Petunia Petals_Neutral__Did he say anything else?\n",
      " 2026.705375 -16.85598791619003\n",
      "00_33_36_Petunia Petals_Neutral__i mean Uh, anywho! what can i do ya for?\n",
      " 2028.283375 -47.237324701909415\n",
      "00_33_39_Twilight_Neutral_Noisy_I don't suppose you have a magic section?\n",
      " 2031.4525 -39.335893081876286\n",
      "00_33_44_Petunia Petals_Neutral__arcane? Elemental? or theory of?\n",
      " 2035.84425 -39.36965906324201\n",
      "00_33_53_Petunia Petals_Neutral__Let's see.\n",
      " 2050.13325 -2.9064281904088998\n",
      "00_33_55_Petunia Petals_Neutral_Very Noisy_If fifty cupcakes makes a party.\n",
      " 2051.6175 -18.10052185328274\n",
      "00_33_57_Pinkie_Neutral_Noisy_That means for the festival we need.\n",
      " 2053.37225 -23.387461834255337\n",
      "00_33_59_Pinkie_Neutral_Very Noisy_Divide by two, carry the one.\n",
      " 2055.60075 -4.599629695401478\n",
      "00_34_02_Pinkie_Happy__more? super more! We're gonna need some baking help!\n",
      " 2058.49725 -29.72439957338588\n",
      "00_34_13_Fluttershy_Neutral_Very Noisy_It looks like it's closed.\n",
      " 2069.9315 -12.80185676704625\n",
      "00_34_19_Pinkie_Sad_Very Noisy_Aw, that's so sad!\n",
      " 2075.396375 -26.542607032872105\n",
      "00_34_20_Mr. Hoofington_Annoyed_Very Noisy_We can only use the ones from our yard lovey.\n",
      " 2077.01525 -5.425292210293531\n",
      "00_34_23_Mrs. Hoofington_Annoyed_Very Noisy_Oh, darling, stop it!\n",
      " 2079.572375 -16.01897717193054\n",
      "00_34_25_Pinkie_Happy_Very Noisy_Excuse me! i see you're taking your pie for a walk, And i was wondering.\n",
      " 2081.38325 -35.19333145171297\n",
      "00_34_27_Mrs. Hoofington_Annoyed_Very Noisy_we're not interested. oh!\n",
      " 2084.0575 -21.452203727576432\n",
      "00_34_30_Mrs. Hoofington_Annoyed_Very Noisy_It's getting so a pony can't even walk Without being terrorized.\n",
      " 2086.56725 -48.440769034308246\n",
      "00_34_36_Pinkie_Happy_Very Noisy_that's not terrorized.\n",
      " 2092.774875 -15.229362750238883\n",
      "00_34_40_Pinkie_Happy_Very Noisy_is terrorized!\n",
      " 2096.81425 -10.416234794250816\n",
      "00_34_44_Pinkie_Happy_Very Noisy_So! how would you like to be a part of the official baking team At the rainbow festival?\n",
      " 2100.355875 -25.398622653098734\n",
      "00_34_49_Mrs. Hoofington_Confused_Very Noisy_There's still a rainbow festival?\n",
      " 2106.16925 -28.409213073610204\n",
      "00_34_52_Pinkie_Happy_Very Noisy_Uh-huh! we'll have a booth with cupcakes And pastimes and fun and we're going to start with this pie!\n",
      " 2108.531125 -33.54185198278459\n",
      "00_34_57_Pinkie_Happy_Noisy_Let the taste test, begin!\n",
      " 2113.34325 -17.271614694696233\n",
      "00_35_06_Pinkie_Anxious_Noisy_What kind of pie did you say this was supposed to be?\n",
      " 2122.72825 -28.31729745020179\n",
      "00_35_09_Mr. Hoofington_Annoyed_Very Noisy_Apricot.\n",
      " 2125.85625 -19.25340310028473\n",
      "00_35_11_Pinkie_Neutral__Are you sure? it's kinda, Crunchy.\n",
      " 2127.98325 -34.77627488825373\n",
      "00_35_15_Fluttershy_Anxious__Not, that there's anything wrong with that.\n",
      " 2131.82025 -35.09673989437757\n",
      "00_35_18_Mrs. Hoofington_Annoyed_Very Noisy_Well! the apricots are from Our very own tree!\n",
      " 2134.944 -49.51517182717273\n",
      "00_35_22_Mr. Hoofington_Neutral_Very Noisy_In our very own yard!\n",
      " 2138.91125 -29.501223524157197\n",
      "00_35_24_Mrs. Hoofington_Annoyed_Very Noisy_Behind our very own house!\n",
      " 2140.78725 -38.46950976800491\n",
      "00_35_27_Pinkie_Neutral_Very Noisy_Yeah. maybe we should get a look at this tree.\n",
      " 2143.58225 -12.919878096221794\n",
      "00_35_34_Rainbow_Neutral_Very Noisy_Alright, rookies.\n",
      " 2151.061625 -18.664306153987283\n",
      "00_35_37_Rainbow_Happy_Noisy_Show me what ya got!\n",
      " 2153.34225 -16.787751538169143\n",
      "00_35_39_Barley Barrel_Happy Whispering__she sounds just like we always imagined she'd sound!\n",
      " 2156.217375 -14.88525383236971\n",
      "00_35_43_Pickle Barrel_Happy Whispering__Only twenty percent cooler!\n",
      " 2159.365375 -30.941025921286492\n",
      "00_35_45_Rainbow_Confused__Well? Aren't you gonna fly or something?\n",
      " 2162.103875 -41.038410943059915\n",
      "00_35_49_Pickle Barrel_Anxious_Noisy_Yes sir! i mean, m'am!\n",
      " 2165.81225 -25.790252940905802\n",
      "00_36_17_Rainbow_Neutral__Fancy flying is something you have to work up to, Even i didn't become rainbow dash in one day.\n",
      " 2193.92425 -41.05656792586622\n",
      "00_36_24_Barley Barrel_Neutral_Noisy_Two days?\n",
      " 2200.900125 -21.640141257848917\n",
      "00_36_28_Rainbow_Neutral_Very Noisy_Everypony's gotta learn the basics before they can show off.\n",
      " 2204.55925 -47.198421274412446\n",
      "00_36_44_Rainbow_Neutral_Noisy_You'll get there. but first, Let's start with a single flip.\n",
      " 2220.310375 -28.801252083481003\n",
      "00_36_59_Fluttershy_Neutral_Noisy_If you don't mind my asking, You don't sound like the other ponies here in town.\n",
      " 2235.351875 -47.98879015804495\n",
      "00_37_03_Mr. Hoofington_Neutral__Oh we weren't born here, We're originally from manehattan.\n",
      " 2240.01225 -57.90142100564627\n",
      "00_37_08_Mrs. Hoofington_Neutral__But it was so big, All those ponies crammed together Never talking to each other.\n",
      " 2244.6755 -57.88756182174007\n",
      "00_37_14_Mr. Hoofington_Neutral_Noisy_We heard hope hollow was just the opposite, So we moved here.\n",
      " 2250.68925 -45.02574689451504\n",
      "00_37_18_Mrs. Hoofington_Happy__And it was wonderful.\n",
      " 2254.56825 -39.50904227642823\n",
      "00_37_21_Mrs. Hoofington_Neutral__for a while.\n",
      " 2258.0145 -17.254482076448053\n",
      "00_37_23_Fluttershy_Neutral__what happened?\n",
      " 2259.564375 -14.63404129093419\n",
      "00_37_24_Mrs. Hoofington_Neutral__uh, Things changed. ah! here!\n",
      " 2260.921625 -39.64543575837521\n",
      "00_37_28_Mrs. Hoofington_Happy__This is the tree!\n",
      " 2264.8165 -19.096329792471742\n",
      "00_37_30_Mr. Hoofington_Neutral_Noisy_This is where the apricots in my pie came from.\n",
      " 2266.59925 -35.11311083261339\n",
      "00_37_35_Pinkie_Confused_Noisy_Well i'm no expert but, I don't think these are very ripe.\n",
      " 2271.29325 -28.51189969487254\n",
      "00_37_40_Pinkie_Neutral__Apricots are supposed to be orange.\n",
      " 2276.444875 -31.77348480417402\n",
      "00_37_43_Mr. Hoofington_Anxious__Well, that's the problem isn't it? With hardly any colors in this town, One apricot looks like another!\n",
      " 2279.67325 -38.75485342345256\n",
      "00_37_50_Fluttershy_Neutral__What about that tree? Its apricots are big and juicy.\n",
      " 2286.884875 -32.0133349807962\n",
      "00_37_54_Mr. Hoofington_Annoyed__oh, We can't use the apricots from that tree.\n",
      " 2291.04475 -25.833849118201655\n",
      "00_37_58_Pinkie_Happy_Noisy_Sure you can.\n",
      " 2295.148375 -4.1428461938064896\n",
      "00_38_00_Moody Root_Angry Shouting_Very Noisy_Hey! stay away from my tree!\n",
      " 2296.979375 -47.63612381610538\n",
      "00_38_04_Fluttershy_Anxious__what was that?\n",
      " 2300.890375 -15.316867678807766\n",
      "00_38_06_Mr. Hoofington_Neutral__Just old moody root.\n",
      " 2302.49125 -28.20198491840035\n",
      "00_38_08_Mrs. Hoofington_Neutral__He's made it quite clear he won't share his apricots, He hasn't even said hello in ages.\n",
      " 2304.57625 -50.20184309965603\n",
      "00_38_14_Fluttershy_Annoyed__Have you tried saying hello to him?\n",
      " 2310.49925 -37.63139195887905\n",
      "00_38_16_Mr. Hoofington_Confused__What? Well, no, but.\n",
      " 2313.185375 -35.30112262050508\n",
      "00_38_20_Fluttershy_Neutral__Mister moody root? are you there?\n",
      " 2316.967875 -63.17658242649625\n",
      "00_38_23_Mr. Moody Root_Annoyed_Very Noisy_who wants to know?\n",
      " 2320.09975 -22.61684245544304\n",
      "00_38_26_Fluttershy_Happy_Noisy_I'm fluttershy. Your apricot tree is beautiful. So healthy. you must take very good care of it.\n",
      " 2322.58925 -34.88732162299432\n",
      "00_38_34_Moody Root_Neutral__Well, i try to uh, Plant food, a good waterin' now and then Keeps my apricots happy.\n",
      " 2330.788625 -39.172326633787925\n",
      "00_38_41_Fluttershy_Happy__I bet that's why you have so many of them, You must always be busy making things.\n",
      " 2337.855625 -38.50011777371548\n",
      "00_38_46_Fluttershy_Neutral_Noisy_Jam cobbler, pie.\n",
      " 2342.48925 -35.037176900226385\n",
      "00_38_49_Moody Root_Neutral__Nope i just eat 'em. although, Pie does sound pretty good.\n",
      " 2345.46075 -42.6805773354755\n",
      "00_38_53_Mrs. Hoofington_Confused__What in equestria is she doing?\n",
      " 2350.20525 -31.26218117091297\n",
      "00_38_56_Mr. Hoofington_Confused__I haven't the foggiest, dear.\n",
      " 2352.74925 -28.158052130208247\n",
      "00_38_59_Pinkie_Happy__Doing what she does best.\n",
      " 2355.6115 -20.9726150999421\n",
      "00_39_01_Fluttershy_Neutral_Noisy_Your neighbors were just about to bake some pies. You know them right?\n",
      " 2357.92125 -40.803336721640065\n",
      "00_39_07_Fluttershy_Happy_Noisy_Mister and missus hoofington, mister moody root.\n",
      " 2363.353125 -51.30042833157921\n",
      "00_39_18_Fluttershy_Neutral__but, They're a little short on apricots.\n",
      " 2374.4355 -36.75892484131952\n",
      "00_39_20_Pinkie_Happy_Noisy_If only there were some apricots We could use!\n",
      " 2377.206125 -42.03503796804378\n",
      "00_39_29_Mrs. Hoofington_Happy__Oh yes of course! we'd be happy to bake you a pie.\n",
      " 2385.82425 -47.89339391775089\n",
      "00_39_33_Mr. Hoofington_Happy__Two or, three pies even!\n",
      " 2389.45225 -36.56298462887649\n",
      "00_39_35_Moody Root_Neutral__So you mean if i give you my apricots?\n",
      " 2392.20525 -47.946608563627564\n",
      "00_39_40_Pinkie_Happy__what a great idea!\n",
      " 2397.025875 -32.12149770685862\n",
      "00_39_43_Fluttershy_Happy__Then everypony can share.\n",
      " 2399.75425 -30.72241885000375\n",
      "00_39_46_Fluttershy_Neutral__What do you think mister moody root?\n",
      " 2402.35025 -37.92018368421177\n",
      "00_39_50_Mrs. Hoofington_Neutral_Noisy_oh well.\n",
      " 2407.176625 -14.385457646596507\n",
      "00_39_52_Fluttershy_Neutral__Wait for it.\n",
      " 2409.28875 -30.14505006592617\n",
      "00_39_59_Moody Root_Happy_Very Noisy_Got a ladder? We can just pick 'em from your side of the fence!\n",
      " 2415.7775 -47.74165520596607\n",
      "00_40_03_Mr. Hoofington_Surprised Anxious__Um, yes! of course! this way!\n",
      " 2419.52425 -31.333184421893012\n",
      "00_40_19_Twilight_Anxious_Very Noisy_A prism curse? an erasure spell?\n",
      " 2435.66525 -40.63979728200337\n",
      "00_40_22_Twilight_Anxious_Noisy_None of these are big enough to make a whole town Lose its color on their own!\n",
      " 2438.5285 -56.4213180367521\n",
      "00_40_27_Twilight_Neutral__Unless.\n",
      " 2443.788625 -17.01060809639373\n",
      "00_40_41_Twilight_Neutral_Very Noisy_mayor skies!\n",
      " 2457.978875 -17.08703782916903\n",
      "00_40_43_Twilight_Confused__what is all this?\n",
      " 2459.77775 -18.270324433194713\n",
      "00_40_44_Mayor Sunny Skies_Happy_Noisy_princess twilight! Welcome to our town's rainbow room. Anything you want to know about each year's festival From the very beginning.\n",
      " 2461.046625 -40.20793587282316\n",
      "00_40_53_Twilight_Happy Surprised_Noisy_The pictures! they're in color!\n",
      " 2469.61625 -31.349422214436945\n",
      "00_40_55_Mayor Sunny Skies_Sad_Noisy_Sure are.\n",
      " 2471.912125 -12.682315591609749\n",
      "00_40_58_Mayor Sunny Skies_Sad_Very Noisy_Those are from happier times.\n",
      " 2474.45425 -17.064274994212106\n",
      "00_41_00_Mayor Sunny Skies_Sad__Back when there still was a festival.\n",
      " 2476.77875 -20.28500100781045\n",
      "00_41_04_Mayor Sunny Skies_Sad__Seems even though we faded, The memory never did.\n",
      " 2480.96275 -35.33084898518267\n",
      "00_41_09_Mayor Sunny Skies_Neutral__I come here sometimes for, inspiration.\n",
      " 2485.484 -30.61695376316559\n",
      "00_41_14_Mayor Sunny Skies_Sad_Very Noisy_I need plenty for this speech i'm writing, Biggest one of my life.\n",
      " 2490.5835 -44.23383240335923\n",
      "00_41_19_Mayor Sunny Skies_Surprised_Very Noisy_didn't see you there!\n",
      " 2495.466125 -24.27207585857787\n",
      "00_41_20_Petunia Petals_Neutral_Very Noisy_Sunny! Heh. i didn't know you were here.\n",
      " 2497.168625 -38.40895668158657\n",
      "00_41_24_Mayor Sunny Skies_Anxious_Very Noisy_Aha ha, j-just leavin', ha ha. Eh, i g-gotta finish this, eh, well, Eh, s-s-see you later!\n",
      " 2501.0395 -38.54198824911668\n",
      "00_41_32_Twilight_Sad_Noisy_The festival was really something, wasn't it?\n",
      " 2508.813125 -28.08315527010327\n",
      "00_41_35_Petunia Petals_Sad__it Used to be wonderful.\n",
      " 2511.479375 -23.64400932359097\n",
      "00_41_37_Petunia Petals_Sad__It brought the whole town together for a long time.\n",
      " 2513.5915 -40.806809664222364\n",
      "00_41_40_Petunia Petals_Sad_Noisy_And these pictures.\n",
      " 2516.916125 -19.90461483131773\n",
      "00_41_42_Petunia Petals_Sad__Are from the last festival.\n",
      " 2519.0845 -23.004799239960484\n",
      "00_41_45_Petunia Petals_Sad__you can see.\n",
      " 2521.341125 -13.641165830247708\n",
      "00_41_46_Petunia Petals_Sad_Very Noisy_it didn't go well.\n",
      " 2522.96125 -25.24045904601081\n",
      "00_41_48_Twilight_Neutral_Very Noisy_The mayor's magic and the generator Caused the colors to go.\n",
      " 2524.689875 -45.0853664458109\n",
      "00_41_52_Petunia Petals_Neutral_Very Noisy_that's what sunny thinks. He blames himself for it but, I'm still not convinced it was anything Other than an accident.\n",
      " 2528.98625 -36.85760134035982\n",
      "00_42_01_Twilight_Neutral_Very Noisy_There's something strange about this. i just can't put my hoof on it.\n",
      " 2537.43425 -23.72255447855031\n",
      "00_42_07_Twilight_Sad_Very Noisy_If only the generator hadn't been destroyed.\n",
      " 2544.23225 -37.261995925526946\n",
      "00_42_10_Petunia_Neutral_Very Noisy_not all of it was.\n",
      " 2547.02725 -23.76710115096651\n",
      "00_42_17_Petunia Petals_Sad_Very Noisy_i don't keep it out Because i know it hurts the mayor to see it.\n",
      " 2553.306875 -40.106746987196786\n",
      "00_42_21_Twilight_Neutral__Mind if i borrow this?\n",
      " 2558.254125 -22.009645258945014\n",
      "00_42_31_Mayor Sunny Skies_Happy__Great job! It's even better than it was before, don'cha know!\n",
      " 2571.6805 -42.43102112652874\n",
      "00_42_42_Mayor Sunny Skies_Happy_Very Noisy_Sure is!\n",
      " 2582.473 -12.392936405261015\n",
      "00_42_43_Mayor Sunny Skies_Happy__bigger and better than ever!\n",
      " 2583.678375 -28.0895794883691\n",
      "00_42_45_Mayor Sunny Skies_Anxious__I hope.\n",
      " 2585.509375 -4.223752930927738\n",
      "00_42_46_Mayor Sunny Skies_Happy__tell all your friends!\n",
      " 2586.8425 -23.85471428970547\n",
      "00_43_01_Twilight_Anxious Tired_Noisy_Mister mayor.\n",
      " 2601.908125 -7.4742635391136245\n",
      "00_43_03_Twilight_Anxious__i hope you don't mind but.\n",
      " 2603.619 -25.55205583242009\n",
      "00_43_04_Mayor Sunny Skies_Annoyed__where'd you find that?\n",
      " 2605.10125 -15.008663388607278\n",
      "00_43_06_Petunia Petals_Neutral__I gave it to her sunny, she has an idea.\n",
      " 2606.441375 -33.28888976534907\n",
      "00_43_08_Mayor Sunny Skies_Neutral__Best idea would just be to throw that thing in the trash heap.\n",
      " 2609.14375 -47.98908104008315\n",
      "00_43_12_Twilight_Neutral_Very Noisy_My theory is that the generator magnifies Whatever magic it uses, makes it stronger. So if we could rebuild it.\n",
      " 2612.645125 -52.78311155477131\n",
      "00_43_20_Twilight_Happy_Very Noisy_And use one of the reversal spells i just read about. It could work to bring color back to the town!\n",
      " 2621.18175 -37.386212571594214\n",
      "00_43_29_Mayor Sunny Skies_Annoyed_Very Noisy_Even if we could get it working again, Which is quite a tall order.\n",
      " 2629.686 -38.752806377523534\n",
      "00_43_33_Applejack_Neutral_Noisy_Not for a gifted repair pony, Who i just happen to know.\n",
      " 2633.982 -43.38860811919231\n",
      "00_43_38_Torque Wrench_Neutral_Very Noisy_Let me take a look see. Yeah, i could give her a go.\n",
      " 2638.752875 -28.946595108237968\n",
      "00_43_43_Mayor Sunny Skies_Anxious_Very Noisy_i don't wanna get my hopes up but.\n",
      " 2644.021 -23.920860235425742\n",
      "00_43_45_Mayor Sunny Skies_Happy_Very Noisy_Yahoo!\n",
      " 2645.932375 -26.537147051810773\n",
      "00_43_47_Torque Wrench_Neutral_Very Noisy_Don't worry, i'll get to work.\n",
      " 2647.621 -13.676280511389178\n",
      "00_43_50_Petunia Petals_Neutral__Um, how's your speech coming sunny? I'd be happy to help you with it if you'd like.\n",
      " 2651.375 -33.63030090676195\n",
      "00_43_56_Mayor Sunny Skies_Anxious__Ah oh no, y-you couldn't. Uh, thanks but uh, I have to do a little mayor-type business don't you know But i'll check back in a little bit to see How everything's goin'.\n",
      " 2656.846125 -33.479703609891295\n",
      "00_44_08_Petunia Petals_Confused__he's acting so peculiar.\n",
      " 2668.9725 -29.750668646465588\n",
      "00_44_11_Applejack_Confused__From what i've seen of the mayor, How can you tell exactly when peculiar kicks in?\n",
      " 2671.5985 -52.172663554463966\n",
      "00_44_27_Moody Root_Happy__If i had known your pie was this good, I'd have given you those apricots ages ago!\n",
      " 2687.744 -51.93264041333388\n",
      "00_44_32_Mrs. Hoofington_Happy__Mr. hoofington did all the baking.\n",
      " 2692.92 -41.42818433040232\n",
      "00_44_36_Mr. Hoofington_Happy_Very Noisy_nspired by you, snookums.\n",
      " 2696.469625 -37.60876876916312\n",
      "00_44_40_Moody Root_Happy__Say the whole town should know about this here pie!\n",
      " 2701.191625 -54.9660002129879\n",
      "00_44_44_Pinkie_Smug__Oh don't worry! they will.\n",
      " 2704.469 -27.967584514356098\n",
      "00_44_48_Pinkie_Happy__give it away at the rainbow festival!\n",
      " 2709.358875 -25.61079799641731\n",
      "00_44_52_Moody Root_Confused__Wait what? There's still a rainbow festival?\n",
      " 2712.522875 -26.549114209906325\n",
      "00_45_06_Torque Wrench_Happy__well! here it is! Had to hoof-build some of the parts myself But it's as good as new.\n",
      " 2727.0665 -31.82752214882819\n",
      "00_45_13_Applejack_Happy__Hoo-wee! this looks amazin' torque! Nopony else could have pulled this off.\n",
      " 2734.278125 -44.03786950084324\n",
      "00_45_18_Twilight_Happy__Thank you so much for your help.\n",
      " 2739.3695 -17.801466630937277\n",
      "00_45_20_Torque Wrench_Happy__It was a real challenge! But turns out, that was part of the fun!\n",
      " 2741.007875 -37.697865531789915\n",
      "00_45_32_Applejack_Surprised__Whoa! did, did y'all see that?\n",
      " 2752.74875 -26.627317112471584\n",
      "00_45_38_Twilight_Neutral_Very Noisy_now we need to test it. should we call the mayor?\n",
      " 2759.107 -35.65738720600582\n",
      "00_45_41_Twilight_Neutral__Might be best to make sure it works first, I'd hate to disappoint him.\n",
      " 2761.676625 -25.452965402040217\n",
      "00_45_47_Applejack_Anxious_Very Noisy_Uh, twilight, i think i saw.\n",
      " 2767.449 -36.23913067170016\n",
      "00_45_49_Twilight_Neutral_Very Noisy_In a moment applejack, this is important.\n",
      " 2769.6935 -27.35578444276106\n",
      "00_45_51_Applejack_Anxious_Very Noisy_yeah but!\n",
      " 2771.841625 -5.560141411766651\n",
      "00_45_51_Twilight_Neutral_Very Noisy_turn on the generator.\n",
      " 2772.24325 -18.351287920570286\n",
      "00_45_53_Applejack_Neutral_Very Noisy_okay.\n",
      " 2773.977875 -4.374885431382777\n",
      "00_46_09_Applejack_Happy_Very Noisy_Huh! well look at that!\n",
      " 2789.497125 -13.3618614001276\n",
      "00_46_11_Petunia Petals_Happy_Very Noisy_Isn't it beautiful?\n",
      " 2791.431 -12.826950823976672\n",
      "00_46_13_Petunia Petals_Happy_Very Noisy_That's what the generator's always done! For years and years!\n",
      " 2793.83375 -30.507947762392078\n",
      "00_46_17_Twilight_Happy_Very Noisy_Now we just add magic, and!\n",
      " 2798.271 -21.227588133979623\n",
      "00_46_42_Twilight_Sad__I'm sorry. i thought for sure it would work.\n",
      " 2822.713 -29.663857289351192\n",
      "00_46_49_Petunia Petals_Sad__Let's not tell the mayor, it would break his heart.\n",
      " 2830.21275 -43.67798954262764\n",
      "00_46_53_Twilight_Sad__No, we have to tell him we failed. We can't bring the color back.\n",
      " 2833.807 -33.442617882926896\n",
      "00_47_00_Applejack_Neutral__Hmm. twilight! I really think you should see this!\n",
      " 2841.022 -40.599203295805545\n",
      "00_47_13_Petunia Petals_Happy_Very Noisy_Everything you need for the rainbow festival bake sale!\n",
      " 2853.744 -18.47714086429794\n",
      "00_47_19_Fluttershy_Happy_Noisy_Courtesy of the hoofingtons.\n",
      " 2860.183375 -13.159835883783073\n",
      "00_47_21_Mr. Hoofington_Happy__and Mister moody root!\n",
      " 2862.3035 -32.16785347359183\n",
      "00_47_24_Twilight_Happy_Noisy_Ooh! everything looks delicious!\n",
      " 2865.363125 -27.183876766385044\n",
      "00_47_27_Petunia Petals_Happy__Mister moody root! Why i haven't seen you in the library for ages!\n",
      " 2867.7885 -40.81815280836196\n",
      "00_47_32_Moody Root_Happy__High time i came back! Eh you got any of them there, cookbooks?\n",
      " 2872.7755 -52.95096836807494\n",
      "00_47_46_Torque Wrench_Happy_Noisy_they're pretty good!\n",
      " 2886.6365 -18.383228349012168\n",
      "00_47_48_Rainbow_Happy_Very Noisy_They've been practicing their tails off for the big show!\n",
      " 2888.65225 -28.667018030676847\n",
      "00_47_52_Torque Wrench_Confused__What big show?\n",
      " 2892.555125 -11.1555589977355\n",
      "00_47_53_Rainbow_Happy_Noisy_The rainbow festival!\n",
      " 2894.000625 -14.952410308028737\n",
      "00_47_55_Rainbow_Happy_Noisy_They're the official entertainment.\n",
      " 2896.0725 -22.14855389392673\n",
      "00_48_07_Rainbow_Neutral_Noisy_landing still needs a little work.\n",
      " 2907.810625 -17.127363894733186\n",
      "00_48_10_Rarity_Happy_Very Noisy_Wonderful! you can help us set up our cart.\n",
      " 2911.343 -30.812725068292266\n",
      "00_48_14_Rarity_Happy_Noisy_Kerfuffle's official rainbow festival accessories!\n",
      " 2915.08125 -28.74026100094255\n",
      "00_48_18_Kerfuffle_Happy__Ta-da!\n",
      " 2918.851625 -16.568102125996724\n",
      "00_48_20_Rainbow_Happy__Ha! whoa-ho-ho! Nice stuff!\n",
      " 2920.891375 -31.808625432809347\n",
      "00_48_24_Kerfuffle_Happy_Very Noisy_And i designed color-matched accessories for each of you!\n",
      " 2924.481 -36.335890298611346\n",
      "00_48_28_Pinkie_Neutral_Noisy_Um, i can't help but notice that the color-matched Accessories, don't have much color.\n",
      " 2928.588875 -30.12344168154081\n",
      "00_48_34_Rarity_Neutral_Very Noisy_The town doesn't have any color remember?\n",
      " 2935.406875 -38.27694638944279\n",
      "00_48_37_Pinkie_Neutral__Oh, right!\n",
      " 2938.24175 -11.840324586478953\n",
      "00_48_39_Kerfuffle_Happy__Oh but don't worry, I know where the colors are supposed to be!\n",
      " 2939.996 -52.6282108346238\n",
      "00_48_44_Kerfuffle_Happy_Very Noisy_An orange scarf for applejack, Red leggings for fluttershy.\n",
      " 2945.2445 -46.130132356550064\n",
      "00_48_52_Kerfuffle_Happy_Noisy_The pink flower lei is for, Well, you know who!\n",
      " 2952.8175 -42.79334461412219\n",
      "00_48_56_Pinkie_Happy__No, who?\n",
      " 2957.08175 -14.85164995229855\n",
      "00_49_02_Rarity_Happy_Noisy_And look at my purple kerchief, Isn't it divine?\n",
      " 2963.000375 -30.509448641890792\n",
      "00_49_06_Kerfuffle_Happy_Noisy_The blue goggles are for rainbow dash.\n",
      " 2966.63025 -37.153754260156894\n",
      "00_49_11_Kerfuffle_Happy_Noisy_And i think i have some That might match for you two. whoa!\n",
      " 2971.890375 -49.5766872398577\n",
      "00_49_18_Kerfuffle_Happy_Very Noisy_And something very special for princess twilight Wing bling! In every shade of the rainbow don'cha know!\n",
      " 2978.451 -51.25795141601557\n",
      "00_49_29_Twilight_Happy_Noisy_Kerfuffle, this is amazing! everypony, You've done great work.\n",
      " 2990.256625 -25.683107269238416\n",
      "00_49_38_Twilight_Sad__i just wish i could have done my part. I hate to admit it but, i'm stuck.\n",
      " 2998.568375 -26.778536213976356\n",
      "00_49_43_Twilight_Sad_Noisy_I don't know how to make the town's color come back.\n",
      " 3003.62775 -22.984411885043702\n",
      "00_49_47_Applejack_Happy_Noisy_That's what i've been tryin' to tell ya! It is comin' back!\n",
      " 3007.83575 -55.874931990793634\n",
      "00_50_00_Fluttershy_Confused_Very Noisy_What's happening?\n",
      " 3020.827 -12.511324799533604\n",
      "00_50_02_Rarity_Happy_Very Noisy_Something wonderful!\n",
      " 3022.954 -25.90100356817729\n",
      "00_50_04_Twilight_Confused_Very Noisy_But, how? It wasn't the generator. which means something.\n",
      " 3025.174125 -17.324678984164073\n",
      "00_50_10_Twilight_Happy_Noisy_Something else must have drained the town's color In the first place! I have to get back to the library!\n",
      " 3030.72325 -30.471278383196974\n",
      "00_50_20_Twilight_Happy_Noisy_I thought so! Look, in the second photo, when the generator goes off, this pony is walking away.\n",
      " 3045.301 -29.59160507142763\n",
      "00_50_27_Twilight_Happy_Noisy_But on the third photo, with all the colors gone, He's back where he was!\n",
      " 3052.132 -46.42436574607577\n",
      "00_50_34_Petunia Petals_Happy_Noisy_We have to tell the mayor!\n",
      " 3059.7895 -34.26072763268512\n",
      "00_50_38_Petunia Petals_Happy_Very Noisy_Sunny! Have you seen what's happenin' outside?\n",
      " 3063.7005 -50.15328411619065\n",
      "00_50_42_Mayor Sunny Skies_Neutral_Very Noisy_No i've been in here for a while working on my speech.\n",
      " 3067.089375 -34.19384898281925\n",
      "00_50_45_Twilight_Neutral_Noisy_Maybe we should just show him.\n",
      " 3070.43025 -17.57338144862743\n",
      "00_50_48_Mr. Hoofington_Happy_Very Noisy_Who wants apricot pies? Best pies in hope hollow!\n",
      " 3073.612 -34.017116389508594\n",
      "00_50_53_Mrs. Hoofington_Happy_Very Noisy_Pies for sale! yummy-licious!\n",
      " 3078.43675 -40.303665473390986\n",
      "00_51_01_Mrs. Hoofington_Happy_Very Noisy_How lovely to see you!\n",
      " 3086.869 -30.935213311066775\n",
      "00_51_06_Pinkie_Happy_Very Noisy_What's better than one pie? Lots of pies! Official rainbow festival goodness right here, now!\n",
      " 3091.607125 -29.287123444406056\n",
      "00_51_16_Rarity_Happy_Very Noisy_Over here darlings, Just look what kerfuffle has come up with!\n",
      " 3101.501 -41.80032692650287\n",
      "00_51_34_Mayor Sunny Skies_Happy Surprised__But, colors! So you were able to reverse the generator?\n",
      " 3119.9555 -32.090544218463634\n",
      "00_51_39_Petunia Petals_Neutral__The generator had nothing to do with it. and never did.\n",
      " 3124.32425 -28.968974210189366\n",
      "00_51_43_Mayor Sunny Skies_Confused__so, None of it was my fault?\n",
      " 3128.419875 -20.3007873345845\n",
      "00_51_45_Petunia Petals_Happy__No you big doofus! How many times have i tried to tell you that? All those years you blamed yourself for nothing!\n",
      " 3130.919 -35.656091884338565\n",
      "00_51_53_Twilight_Happy_Very Noisy_These photos from the library explain everything. Once i realised they were out of order, It proved that the town's colors got dim Before you turned on the generator!\n",
      " 3138.402 -29.99705605437405\n",
      "00_52_02_Mayor Sunny Skies_Happy_Very Noisy_Boy, howdy, am i glad to hear that!\n",
      " 3147.88625 -35.12969942669305\n",
      "00_52_05_Mayor Sunny Skies_Confused_Very Noisy_But then, what did cause it?\n",
      " 3150.604875 -18.324949419659152\n",
      "00_52_08_Twilight_Neutral_Very Noisy_It's called hopeless magic. Everypony was already giving up on each other, losing hope!\n",
      " 3153.149 -28.265932689902417\n",
      "00_52_14_Twilight_Neutral_Very Noisy_Then when the generator blew up, It must have been the last straw. It took all the hope out of the town for good, Along with the color.\n",
      " 3159.25775 -45.569761697934744\n",
      "00_52_21_Twilight_Happy_Very Noisy_but now, There's a different kind of magic, Of everypony coming together again!\n",
      " 3166.943125 -32.01366045549618\n",
      "00_52_27_Twilight_Happy_Very Noisy_Just the way you wanted it mayor.\n",
      " 3172.87775 -20.845840201370546\n",
      "00_52_29_Torque Wrench_Happy_Very Noisy_What do you know? There is still a rainbow festival!\n",
      " 3174.909625 -32.95061095312919\n",
      "00_52_33_Twilight_Happy_Very Noisy_And we better get it started, This town's been waiting long enough.\n",
      " 3178.75625 -41.03489625017889\n",
      "00_52_37_Torque Wrench_Happy_Very Noisy_The generator's working again mister mayor, Just the way your grandpa built her.\n",
      " 3182.79575 -43.26672836355435\n",
      "00_52_43_Mayor Sunny Skies_Anxious_Noisy_I just hope my speech lives up to the occasion.\n",
      " 3188.934875 -36.03806519848748\n",
      "00_52_47_Twilight_Happy_Very Noisy_Attention please!\n",
      " 3192.440625 -16.47954033750293\n",
      "00_52_49_Twilight_Happy_Very Noisy_Welcome to the brand new hope hollow annual rainbow festival!\n",
      " 3194.816 -44.34486675157687\n",
      "00_52_53_Twilight_Happy__And here's the pony who made it all possible.\n",
      " 3198.903 -29.750063981983935\n",
      "00_52_56_Twilight_Happy_Very Noisy_Mayor sunny skies!\n",
      " 3201.603625 -20.105204711782697\n",
      "00_53_01_Mayor Sunny Skies_Happy_Very Noisy_I am as proud as a two-tailed peacock To see you all here today.\n",
      " 3206.452875 -27.968055720536995\n",
      "00_53_06_Mayor Sunny Skies_Happy_Very Noisy_To once again celebrate our little town At the end of the rainbow.\n",
      " 3211.19225 -48.44474957023104\n",
      "00_53_14_Mayor Sunny Skies_Happy_Very Noisy_And i can't give enough thanks to rainbow dash.\n",
      " 3219.256875 -39.712803691758424\n",
      "00_53_18_Mayor Sunny Skies_Happy_Very Noisy_Princess twilight, Pinkie pie, Fluttershy, Rarity and applejack.\n",
      " 3223.60775 -34.926323311515574\n",
      "00_53_27_Mayor Sunny Skies_Happy_Very Noisy_My grandpa started this festival to celebrate us, The ponies of hope hollow.\n",
      " 3232.394875 -47.332590042493905\n",
      "00_53_33_Mayor Sunny Skies_Happy_Very Noisy_It's you who brought friendship back to our town, And all the bright colors that come with it.\n",
      " 3238.560875 -38.39251174449203\n",
      "00_53_41_Mayor Sunny Skies_Happy_Very Noisy_We just have to always remember To reach a hoof out to our neighbors.\n",
      " 3246.696 -36.72829545952214\n",
      "00_53_46_Mayor Sunny Skies_Happy_Very Noisy_To respect, and listen and talk to each other. You never know what just sayin' hello To somepony can do.\n",
      " 3251.205875 -30.605041304942468\n",
      "00_53_54_Mayor Sunny Skies_Happy_Very Noisy_So, without further ado.\n",
      " 3259.713875 -41.344126401470355\n",
      "00_54_31_Kerfuffle_Happy_Very Noisy_It's exactly as i imagined it!\n",
      " 3296.876 -31.72516745011385\n",
      "00_54_41_Petunia Petals_Happy__That was a beautiful speech sunny.\n",
      " 3306.803 -14.581532983805793\n",
      "00_54_44_Mayor Sunny Skies_Neutral__What? oh no uh, that wasn't my speech.\n",
      " 3309.680875 -40.34722863522241\n",
      "00_54_47_Petunia Petals_Confused__But uh, then what have you been writing all day?\n",
      " 3313.059 -38.499295644882125\n",
      "00_54_51_Mayor Sunny Skies_Neutral__Well eh, another speech. I mean it's for later but, Aw flapjacks.\n",
      " 3316.314125 -40.701542816453966\n",
      "00_54_57_Mayor Sunny Skies_Neutral_Very Noisy_I guess now is as a good a time as any.\n",
      " 3322.234875 -27.535881059591773\n",
      "00_55_01_Mayor Sunny Skies_Neutral_Very Noisy_petunia, You've never given up on me, or the town.\n",
      " 3326.135625 -30.99231163489429\n",
      "00_55_05_Mayor Sunny Skies_Neutral_Very Noisy_You always had hope when we had none and, I can't imagine a day without you.\n",
      " 3330.424 -35.78135352255701\n",
      "00_55_11_Mayor Sunny Skies_Happy__You're the pony who brings color into my life.\n",
      " 3336.75225 -35.57160291034427\n",
      "00_55_14_Mayor Sunny Skies_Happy_Very Noisy_Petunia petals. Will you marry me?\n",
      " 3339.918875 -34.44942119931004\n",
      "00_55_19_Petunia Petals_Happy_Very Noisy_Of course you silly goose!\n",
      " 3344.215 -27.878547759349242\n",
      "00_55_31_Rainbow_Happy Shouting_Very Noisy_Attention, everypony!\n",
      " 3356.311 -26.289825617691054\n",
      "00_55_34_Rainbow_Happy_Very Noisy_Introducing hope hollow's very own. Junior wonderbolts!\n",
      " 3359.272 -42.42330674170521\n",
      "00_55_42_Barley Barrel_Happy_Very Noisy_Did you hear what she called us?\n",
      " 3367.989 -18.840806979863157\n",
      "00_55_45_Pickle Barrel_Happy_Very Noisy_Did you hear what she called us?\n",
      " 3370.45 -18.40449906463737\n",
      "00_56_00_Rainbow_Happy_Very Noisy_Okay guys, showtime!\n",
      " 3385.980375 -11.282456724707338\n",
      "00_56_36_Rainbow_Happy_Very Noisy_Now this is something i'm proud To be a guest of honor for!\n",
      " 3421.39575 -40.543555314154446\n",
      "00_56_42_Fluttershy_Happy_Very Noisy_And it looks like there's a butterfly garden after all!\n",
      " 3427.464875 -55.04477589802222\n",
      "00_56_46_Pinkie_Happy_Noisy_Only one more thing Could make this rainbow festival better!\n",
      " 3432.011 -29.034752377907516\n",
      "00_56_51_Rarity_Tired Anxious__Oh not more karaoke darling!\n",
      " 3436.099 -29.522719374401337\n",
      "00_56_54_Pinkie_Happy__What? no! A trout dj!\n",
      " 3439.755125 -28.47594224955284\n",
      "00_57_12_Twilight_Happy Singing_Very Noisy_step out of the shadows and into the light where it's bright and you might see all the colors you are.\n",
      " 3457.566125 -29.819191898880554\n",
      "00_57_19_Rainbow_Happy Singing_Very Noisy_or any color you wanna be that your mind can see and wear them bright like a shining star.\n",
      " 3464.4725 -24.762571753275\n",
      "00_57_26_Rarity_Happy Singing_Noisy_why just be black and white, no need to hide all those colors #inside#.\n",
      " 3471.45125 -34.17856121852378\n",
      "00_57_33_Fluttershy_Happy Singing_Noisy_cause when they shine out bright, it just feels #right#.\n",
      " 3478.245125 -48.066175648083956\n",
      "00_57_53_Applejack_Happy Singing_Noisy_make up any colors that you can devise, mix 'em up, watch the joy as it multiplies.\n",
      " 3498.868 -45.27644700375135\n",
      "00_58_00_Kerfuffle_Happy Singing_Noisy_make a rainbow and you will see how together we are like one when we harmonize.\n",
      " 3505.662 -42.92013599174759\n",
      "00_58_07_Rarity_Happy Singing_Noisy_why just be black and white, no need to hide all those colors #inside#.\n",
      " 3512.729 -34.34487383924093\n",
      "00_58_14_Fluttershy_Happy Singing_Very Noisy_cause when we shine so bright, it just feels #right#.\n",
      " 3519.426625 -57.402138406075\n",
      "00_58_33_Fluttershy_Happy Singing_Noisy_hello my friend, is a big bright yellow.\n",
      " 3538.603875 -45.27777100171351\n",
      "00_58_37_Twilight_Happy Singing_Noisy_violet's what you get when you're feeling mellow.\n",
      " 3542.177625 -41.32690327886452\n",
      "00_58_40_Moody Root_Happy Singing_Noisy_red is the part, where your heart starts to glow.\n",
      " 3545.50225 -44.82547996937369\n",
      "00_58_43_Kerfuffle_Happy Singing_Noisy_in the #mood#, in the groove indigo.\n",
      " 3549.059875 -72.31039847559961\n",
      "00_58_47_Rainbow_Happy Singing_Noisy_blue is the sky spinning high as can be.\n",
      " 3552.42475 -50.470513820933704\n",
      "00_58_50_Applejack_Happy Singing_Noisy_orange can amaze bringing days that are sunny.\n",
      " 3555.877875 -37.91642706640874\n",
      "00_58_54_Moody Root_Happy Singing_Noisy_green is serene, take a breath, feel new.\n",
      " 3559.266875 -30.7336559244762\n",
      "00_58_57_Pinkie_Happy Singing_Noisy_feel all the living #colors#.\n",
      " 3562.591625 -26.34313541035035\n"
     ]
    },
    {
     "name": "stderr",
     "output_type": "stream",
     "text": [
      "\n"
     ]
    }
   ],
   "source": [
    "from util import longpath\n",
    "from tqdm import tqdm\n",
    "import os\n",
    "import soundfile as sf\n",
    "import librosa\n",
    "import numpy as np\n",
    "import scipy.signal\n",
    "src_label_file = r\"D:\\MLP_Samples\\AIData\\Master file\\Sliced Dialogue\\Label files\\fim_rainbow roadtrip.txt\"\n",
    "audio_source = r\"D:\\MLP_Samples\\AIData\\Master file\\Sliced Dialogue\\FiM\\Rainbow Roadtrip\"\n",
    "src_audio = r\"D:\\MLP_Samples\\AIData\\for vul\\Rainbow Roadtrip.flac\"\n",
    "\n",
    "#src_label_file = r\"D:\\MLP_Samples\\AIData\\Master file\\Sliced Dialogue\\Label files\\fim_movie.txt\"\n",
    "#audio_source = r\"D:\\MEGASyncDownloads\\Master file 2\\MLP Movie (still has music, don't use this in any training)\\MLP Movie\"\n",
    "#src_audio = r\"D:\\MLP_Samples\\AIData\\for vul\\MLP Movie_C.flac\"\n",
    "\n",
    "audio_set = set(os.listdir(audio_source))\n",
    "\n",
    "with open(src_label_file, 'r', encoding='utf-8') as f:\n",
    "    lines = [{'ts': float(x[0]), 'te': float(x[1]), 'line': x[2]} for x in [line.split('\\t') for line in f.readlines()]]\n",
    "\n",
    "SEARCH_GAP = 90\n",
    "DOWNSAMPLE_SR = 8000\n",
    "ORIG_SR = 48000\n",
    "CLIP_SAMPLE = 3 # Seconds of clip to identify\n",
    "PULSE_STD = 200 # Windowing function used to \"bias\" cross-correlation.\n",
    "start_idx = 0\n",
    "end_idx = 0\n",
    "\n",
    "print(\"Loading source audio\")\n",
    "src_data, src_sr = sf.read(src_audio, dtype='float32')\n",
    "print(\"Resampling source audio\")\n",
    "src_8k = librosa.resample(src_data, orig_sr=ORIG_SR, target_sr=DOWNSAMPLE_SR)\n",
    "\n",
    "# Operates off the assumption that audio clip order is invariant across\n",
    "# different alignments.\n",
    "\n",
    "N_CLIPS = 1600\n",
    "for i,l in tqdm(enumerate(lines[0:N_CLIPS])):\n",
    "    test_path = l['line'].strip().replace('?','_')+'.flac'\n",
    "    if test_path not in audio_set:\n",
    "        continue # The only time this path fails is for singing audios in Rainbow Roadtrip with the normal master file\n",
    "        # So I just copied them back in so all alignments are accurate\n",
    "    clip_data, clip_sr = sf.read(longpath(os.path.join(audio_source,test_path)), dtype='float32')\n",
    "\n",
    "    # 1. To get a \"coarse\" alignment, we downsample both clips to 8khz (which is\n",
    "    # enough to convey speech data). If there is an error of 1 sample then that is .000125 sec which is acceptable\n",
    "    clip_8k = librosa.resample(clip_data, orig_sr=ORIG_SR, target_sr=DOWNSAMPLE_SR)\n",
    "    clip_8k = clip_8k[:CLIP_SAMPLE*DOWNSAMPLE_SR]\n",
    "\n",
    "    assert src_sr == ORIG_SR\n",
    "    assert clip_sr == ORIG_SR\n",
    "\n",
    "    # 2. Calculate cross-correlation using FFT method\n",
    "    end_idx = start_idx + SEARCH_GAP*DOWNSAMPLE_SR\n",
    "    src_8k_search_segment = src_8k[start_idx:end_idx]\n",
    "\n",
    "    result_length = len(src_8k_search_segment) + len(clip_8k) - 1\n",
    "    fft_src = np.fft.fft(src_8k_search_segment, n=result_length)\n",
    "    fft_clip = np.fft.fft(clip_8k, n=result_length)\n",
    "    cross_corr = np.fft.ifft(fft_src * np.conj(fft_clip)).real\n",
    "\n",
    "    denom_src = np.sqrt(np.sum(np.abs(src_8k_search_segment)**2))\n",
    "    denom_clip = np.sqrt(np.sum(np.abs(clip_8k)**2))\n",
    "    ncc = cross_corr / (denom_src * denom_clip)\n",
    "\n",
    "    alignment = np.argmax(np.absolute(cross_corr))\n",
    "    \n",
    "    # Window cross-correlation by expected offset from the START of the previous clip\n",
    "    if i != 0:\n",
    "        expected_offset = l['ts'] - lines[i-1]['ts']\n",
    "        expected_offset_samples_8k = int(expected_offset * DOWNSAMPLE_SR)\n",
    "        #print(f\"Between {lines[i-1]['line']} and {l['line']}\")\n",
    "\n",
    "        window = scipy.signal.windows.gaussian(len(cross_corr), std=PULSE_STD)\n",
    "        #print(expected_offset_samples_8k - len(cross_corr) // 2)\n",
    "        window = np.roll(window, expected_offset_samples_8k - len(cross_corr) // 2)\n",
    "        modified_corr = cross_corr * window\n",
    "\n",
    "        old_alignment = alignment\n",
    "        alignment = np.argmax(np.absolute(modified_corr))\n",
    "\n",
    "        windowed_corr = modified_corr[alignment]\n",
    "        print(f\"Expected offset: {expected_offset_samples_8k} pre-window: {old_alignment} | {cross_corr[old_alignment]} post-window: {alignment} | {modified_corr[alignment]}\")\n",
    "        if abs(windowed_corr) < 0.5:\n",
    "            if abs(cross_corr[old_alignment]) < 2.5:\n",
    "                print(f\"Warning - Could not find a plausible alignment for line {l['line']}; using post-window\")\n",
    "            else:\n",
    "                print(f\"Warning - windowed corr for line {l['line']} low; using pre-window\")\n",
    "                alignment = old_alignment\n",
    "\n",
    "    l['alignment'] = start_idx + alignment\n",
    "    l['cross_corr'] = cross_corr[alignment]\n",
    "\n",
    "    start_idx = start_idx + alignment\n",
    "\n",
    "for l in lines[0:N_CLIPS]:\n",
    "    print(l['line'],l['alignment']/DOWNSAMPLE_SR,l['cross_corr'])\n",
    "#print(f\"Sample alignment for line {l['line']}: {alignment} ({alignment/DOWNSAMPLE_SR} sec)\")\n",
    "\n",
    "# Problem: I think the noise canceling knocks enough stuff out of wack that cross-correlation is not feasible\n",
    "\n"
   ]
  },
  {
   "cell_type": "code",
   "execution_count": 6,
   "metadata": {},
   "outputs": [],
   "source": [
    "for l in lines:\n",
    "    if l.get('alignment') is None:\n",
    "        print(\"no alignment for line \"+l['line'])"
   ]
  },
  {
   "cell_type": "code",
   "execution_count": 17,
   "metadata": {},
   "outputs": [
    {
     "data": {
      "image/png": "[encoded data removed]",
      "text/plain": [
       "<Figure size 1000x500 with 1 Axes>"
      ]
     },
     "metadata": {},
     "output_type": "display_data"
    }
   ],
   "source": [
    "import matplotlib.pyplot as plt\n",
    "offsets = np.array([l['alignment']/DOWNSAMPLE_SR - l['ts'] for l in lines])\n",
    "plt.figure(figsize=(10,5))\n",
    "plt.plot(offsets)\n",
    "plt.show()"
   ]
  },
  {
   "cell_type": "code",
   "execution_count": 19,
   "metadata": {},
   "outputs": [],
   "source": [
    "def convert_decimal_seconds_to_hh_mm_ss(timestamp):\n",
    "    hours = int(timestamp / 3600)\n",
    "    minutes = int((timestamp % 3600) / 60)\n",
    "    seconds = int(timestamp % 60)\n",
    "    return hours, minutes, seconds\n",
    "\n",
    "dst_label_file = \"fim_rainbow_roadtrip_auto.txt\"\n",
    "with open(dst_label_file, 'w', encoding='utf-8') as f:\n",
    "    for l in lines:\n",
    "        dur = l['te'] - l['ts']\n",
    "        ts = l['alignment']/DOWNSAMPLE_SR\n",
    "        te = ts + dur\n",
    "        line = l['line'].split('_')\n",
    "        #hh, mm, ss = convert_decimal_seconds_to_hh_mm_ss(ts)\n",
    "        #line[0] = f\"{hh:02d}\"\n",
    "        #line[1] = f\"{mm:02d}\"\n",
    "        #line[2] = f\"{ss:02d}\"\n",
    "        f.write(f\"{ts}\\t{te}\\t{'_'.join(line)}\")\n"
   ]
  },
  {
   "cell_type": "code",
   "execution_count": 30,
   "metadata": {},
   "outputs": [
    {
     "name": "stdout",
     "output_type": "stream",
     "text": [
      "Skipping 00_20_00_Mayor Sunny Skies_Happy Singingnging_Noisy_next-door neighbors chatting, over white wood fences, stopping on the street to say #hello#.\n",
      "Skipping 00_20_08_Mayor Sunny Skies_Happy Singing_Noisy_when friends did well, we sang their praises, brought soup to comfort them when they felt #low#.\n",
      "Skipping 00_20_16_Mayor Sunny Skies_Happy Singing_Noisy_that was our town at the end of the rainbow.\n",
      "Skipping 00_20_25_Mayor Sunny Skies_Happy Singing_Very Noisy_no pots of gold, or buried treasure, just everypony looking after each #other#.\n",
      "Skipping 00_20_33_Mayor Sunny Skies_Happy Singing_Very Noisy_the truest riches, cannot be measured, it was a lesson that had kept us #together#.\n",
      "Skipping 00_20_41_Mayor Sunny Skies_Happy Singing_Noisy_in our town at the end of the #rainbow#.\n",
      "Skipping 00_20_50_Mayor Sunny Skies_Happy Singing_Very Noisy_to honor our fine town my grandpa skies decided, to throw a party each and every #year#.\n",
      "Skipping 00_21_10_Mayor Sunny Skies_Happy Singing_Very Noisy_grandpa made a gizmo called the rainbow generator, to paint the sky with lots of colors shining bold and bright.\n",
      "Skipping 00_21_19_Mayor Sunny Skies_Happy Singing_Very Noisy_to remind us all, together we are greater, and darkness never wins against the coming of the light.\n",
      "Skipping 00_21_27_Mayor Sunny Skies_Happy Singing_Noisy_grandpa passed it onto dad then it was my #turn#, to make the pretty rainbows in the #sky#.\n",
      "Skipping 00_21_35_Mayor Sunny Skies_Happy Singing_Very Noisy_it filled my heart with pride to see, our whole town gathered #gratefully#.\n",
      "Skipping 00_21_40_Mayor Sunny Skies_Happy Singing_Very Noisy_where we were sure there would never be an #end# to the #rainbow#.\n",
      "Skipping 00_57_12_Twilight_Happy Singing_Very Noisy_step out of the shadows and into the light where it's bright and you might see all the colors you are.\n",
      "Skipping 00_57_19_Rainbow_Happy Singing_Very Noisy_or any color you wanna be that your mind can see and wear them bright like a shining star.\n",
      "Skipping 00_57_26_Rarity_Happy Singing_Noisy_why just be black and white, no need to hide all those colors #inside#.\n",
      "Skipping 00_57_33_Fluttershy_Happy Singing_Noisy_cause when they shine out bright, it just feels #right#.\n",
      "Skipping 00_57_53_Applejack_Happy Singing_Noisy_make up any colors that you can devise, mix 'em up, watch the joy as it multiplies.\n",
      "Skipping 00_58_00_Kerfuffle_Happy Singing_Noisy_make a rainbow and you will see how together we are like one when we harmonize.\n",
      "Skipping 00_58_07_Rarity_Happy Singing_Noisy_why just be black and white, no need to hide all those colors #inside#.\n",
      "Skipping 00_58_14_Fluttershy_Happy Singing_Very Noisy_cause when we shine so bright, it just feels #right#.\n",
      "Skipping 00_58_33_Fluttershy_Happy Singing_Noisy_hello my friend, is a big bright yellow.\n",
      "Skipping 00_58_37_Twilight_Happy Singing_Noisy_violet's what you get when you're feeling mellow.\n",
      "Skipping 00_58_40_Moody Root_Happy Singing_Noisy_red is the part, where your heart starts to glow.\n",
      "Skipping 00_58_43_Kerfuffle_Happy Singing_Noisy_in the #mood#, in the groove indigo.\n",
      "Skipping 00_58_47_Rainbow_Happy Singing_Noisy_blue is the sky spinning high as can be.\n",
      "Skipping 00_58_50_Applejack_Happy Singing_Noisy_orange can amaze bringing days that are sunny.\n",
      "Skipping 00_58_54_Moody Root_Happy Singing_Noisy_green is serene, take a breath, feel new.\n",
      "Skipping 00_58_57_Pinkie_Happy Singing_Noisy_feel all the living #colors#.\n"
     ]
    }
   ],
   "source": [
    "# Update\n",
    "import json\n",
    "label_to_sig = {\n",
    "    'fim_movie_auto.txt' : 'fim_movie',\n",
    "    'fim_rainbow_roadtrip_auto.txt' : 'fim_rainbow roadtrip'\n",
    "}\n",
    "sig_file = 'extras_labels_index.json'\n",
    "\n",
    "with open(sig_file, 'r', encoding='utf-8') as f2:\n",
    "    obj = json.load(f2)\n",
    "    for label_file,sig in label_to_sig.items():\n",
    "        with open(label_file, 'r', encoding='utf-8') as f:\n",
    "            lines = [{'ts': float(x[0]), 'te': float(x[1]), 'line': x[2].strip()} for x in [line.split('\\t') for line in f.readlines()]]\n",
    "        line_maps = {l['label'] : l for l in obj[sig]['lines']}\n",
    "\n",
    "        for l in lines:\n",
    "            if l['line'] not in line_maps:\n",
    "                print(\"Skipping \"+l['line'])\n",
    "                continue\n",
    "            line_maps[l['line']]['ts'] = l['ts']\n",
    "            line_maps[l['line']]['te'] = l['te']\n",
    "with open(sig_file, 'w', encoding='utf-8') as f2:\n",
    "    json.dump(obj, f2)"
   ]
  },
  {
   "cell_type": "code",
   "execution_count": null,
   "metadata": {},
   "outputs": [],
   "source": [
    "# XXX: Everything below this line does not work. This was an attempt at using\n",
    "# whisper_timestamped to generate timestamped transcriptions. This would be\n",
    "# combined with fuzzy text searching to try to get an alignment\n",
    "import whisper_timestamped as whisper\n",
    "import os\n",
    "import json\n",
    "\n",
    "json_file_path = \"transcription_result.json\"\n",
    "\n",
    "if os.path.exists(json_file_path):\n",
    "    with open(json_file_path, \"r\") as json_file:\n",
    "        result = json.load(json_file)\n",
    "else:\n",
    "    # audio = whisper.load_audio(r\"D:\\UnfuckPlugins\\REAPER Media\\Rainbow Roadtrip render 001.wav\")\n",
    "    audio = whisper.load_audio(r\"D:\\MLP_Samples\\AIData\\for vul\\Rainbow Roadtrip.flac\")\n",
    "    model = whisper.load_model(\"medium\")\n",
    "    result = whisper.transcribe(model, audio, vad=True, language=\"en\")\n",
    "    # Problem: The VAD model does not think that Pinkie is actually speaking.\n",
    "    with open(json_file_path, \"w\") as json_file:\n",
    "        json.dump(result, json_file)\n",
    "\n",
    "# So, the output is split into segments, but those segments do not necessarily align with our current transcription.\n",
    "words = []\n",
    "words_raw = []\n",
    "for s in result[\"segments\"]:\n",
    "    for w in s[\"words\"]:\n",
    "        words.append(w)\n",
    "        words_raw.append(w[\"text\"].lower())\n",
    "        \n",
    "text_full = ' '.join(words_raw)\n"
   ]
  },
  {
   "cell_type": "code",
   "execution_count": null,
   "metadata": {},
   "outputs": [],
   "source": [
    "\n",
    "print(json.dumps(result, indent = 2, ensure_ascii = False))"
   ]
  },
  {
   "cell_type": "code",
   "execution_count": null,
   "metadata": {},
   "outputs": [],
   "source": [
    "# The next step is: We grab a transcription for a source, and we monotonically search for the index which most matches that.\n",
    "src_label_file = r\"D:\\MLP_Samples\\AIData\\Master file\\Sliced Dialogue\\Label files\\fim_rainbow roadtrip.txt\"\n",
    "with open(src_label_file, 'r', encoding='utf-8') as f:\n",
    "    lines = [{'ts': x[0], 'te': x[1], 'line': x[2], 'startword': None} for x in [line.split('\\t') for line in f.readlines()]]\n",
    "\n",
    "from fuzzywuzzy import fuzz\n",
    "\n",
    "start_idx = 0\n",
    "MAX_JUMP = 200\n",
    "PRE_WORD_ADJ = -.110 # sec adjustment of word beginning\n",
    "import string\n",
    "transl_table = str.maketrans('','',string.punctuation+string.whitespace)\n",
    "\n",
    "for l in lines:\n",
    "    # Wordwise alignment\n",
    "    search_txt = l['line'].split('_')[-1]\n",
    "    search_txt = search_txt.lower()\n",
    "    search_words = search_txt.split()\n",
    "\n",
    "    best_score = -1\n",
    "    best_start = -1\n",
    "    # TODO: We need to prevent long jumps. A jump over 200 cannot be accepted\n",
    "    for j in range(start_idx,\n",
    "        min(start_idx+MAX_JUMP, len(words_raw) - len(search_words) + 1)):\n",
    "        test_txt = ' '.join(words_raw[j:j+len(search_words)]).replace('...','') # Ellipses screw things up\n",
    "        score = fuzz.ratio(test_txt, search_txt)\n",
    "        if score > best_score:\n",
    "            best_score = score\n",
    "            best_start = j\n",
    "    # If the starting word is the same we can boost the score a little\n",
    "    if words_raw[best_start].translate(transl_table).lower() == search_words[0].translate(transl_table).lower():\n",
    "        best_score += 5\n",
    "\n",
    "    # MAJOR problem: Timestamps seem to overflow past 3627\n",
    "\n",
    "    l['startword'] = words[best_start]\n",
    "    if best_score > 85:\n",
    "        start_idx = best_start + max(len(search_words) - 2, 0)\n",
    "\n",
    "    print(f\"Score of {search_txt.strip()}: {best_score}\")\n",
    "    print(f\"Not captured: {words[best_start]}\")\n",
    "    #if best_score < 85:\n",
    "    #    print(f\"Score of {search_txt.strip()}: {best_score}\")\n",
    "    #    print(f\"Not captured: {words[best_start]}\")\n",
    "\n",
    "#capture_ratio = sum([1 if x['startword'] is not None else 0 for x in lines])/len(lines)\n",
    "#print(f\"Capture ratio: {capture_ratio}\")\n",
    "\n",
    "dst_label_file = \"fim_rainbow_roadtrip_auto.txt\"\n",
    "with open(dst_label_file, 'w', encoding='utf-8') as f:\n",
    "    for l in lines:\n",
    "        f.write(f\"{l['startword']['start'] + PRE_WORD_ADJ}\\t{l['startword']['start'] + PRE_WORD_ADJ +(float(l['te']) - float(l['ts']))}\\t{l['line']}\")\n"
   ]
  },
  {
   "cell_type": "code",
   "execution_count": null,
   "metadata": {},
   "outputs": [],
   "source": [
    "import numpy as np\n",
    "import librosa\n",
    "import matplotlib.pyplot as plt\n",
    "from tqdm import tqdm\n",
    "\n",
    "# Cross-correlation based data realigner (doesn't work for our case)\n",
    "SRC_AUDIO = r\"D:\\MLP_Samples\\AIData\\for vul\\MLP Movie_C.flac\"\n",
    "#SRC_AUDIO = r\"D:\\MLP_Samples\\AIData\\for vul\\Rainbow Roadtrip.flac\"\n",
    "\n",
    "# Operates off the assumption that audio clip order is invariant across\n",
    "# different alignments.\n",
    "# Also operates off the assumption that 2 seconds of clip is enough to identify it (?)\n",
    "\n",
    "def find_alignment(src_audio = SRC_AUDIO):\n",
    "    offset = 0\n",
    "    src_data, src_sr = sf.read(src_audio, dtype='float32')\n",
    "    src_8k = librosa.resample(src_data, orig_sr=48000, target_sr=8000)\n",
    "\n",
    "    clip = r\"D:\\MEGASyncDownloads\\Master file 2\\MLP Movie (still has music, don't use this in any training)\\MLP Movie\\00_01_28_Rachel Platten_Singing_Noisy_hey! hey! hey!.flac\"\n",
    "    #clip = r\"D:\\MLP_Samples\\AIData\\Master file\\Sliced Dialogue\\FiM\\Rainbow Roadtrip\\00_00_40_Pinkie_Neutral_Noisy_Okay, not technically a road trip because we're taking that..flac\"\n",
    "    #clip = r\"D:\\MLP_Samples\\AIData\\Master file\\Sliced Dialogue\\FiM\\Rainbow Roadtrip\\00_05_00_Applejack_Happy_Very Noisy_Huh. now that sounds right up my river..flac\"\n",
    "    clip_data, clip_sr = sf.read(clip, dtype='float32')\n",
    "\n",
    "    # 0. Both clips begin at a sample rate of 48khz\n",
    "    assert src_sr == 48000\n",
    "    assert clip_sr == 48000\n",
    "\n",
    "    # 1. To get a \"coarse\" alignment, we downsample both clips to 8khz (which is\n",
    "    # enough to convey speech data). If there is an error of 1 sample then that is .000125 sec which is acceptable\n",
    "    clip_8k = librosa.resample(clip_data, orig_sr=48000, target_sr=8000)\n",
    "\n",
    "    # Limit the clip to 1 second for identification purposes\n",
    "    #clip_8k = clip_8k[:32000]\n",
    "    clip_8k = clip_8k[:16000]\n",
    "\n",
    "    # 2. Calculate cross correlation with a sliding window \n",
    "    #traversal = len(src_8k) - len(clip_8k) + 1\n",
    "    #cross_corr = np.zeros(traversal)\n",
    "    #print(traversal)\n",
    "    #for i in tqdm(range(traversal)):\n",
    "    #    cross_corr[i] = np.dot(src_8k[i:i+len(clip_8k)], clip_8k)\n",
    "\n",
    "    # 2. Calculate cross-correlation using FFT method\n",
    "    result_length = len(src_8k) + len(clip_8k) - 1\n",
    "    fft_src = np.fft.fft(src_8k, n=result_length)\n",
    "    fft_clip = np.fft.fft(clip_8k, n=result_length)\n",
    "    cross_corr = np.fft.ifft(fft_src * np.conj(fft_clip)).real\n",
    "\n",
    "    # 3. Plot cross correlation to get reasonable preliminary coefficient values.\n",
    "    plt.figure(figsize=(10, 5))\n",
    "    plt.plot(cross_corr)\n",
    "    plt.title('Cross-correlation between audio1 and audio2')\n",
    "    plt.xlabel('Sample shift')\n",
    "    plt.ylabel('Cross-correlation')\n",
    "    plt.grid(True)\n",
    "    plt.show()\n",
    "\n",
    "    # at 8khz, the 8000th sample corresponds to the 48000th sample.\n",
    "    # Multiply by 6 to get the offset.\n",
    "\n",
    "find_alignment()"
   ]
  },
  {
   "cell_type": "code",
   "execution_count": null,
   "metadata": {},
   "outputs": [],
   "source": []
  }
 ],
 "metadata": {
  "kernelspec": {
   "display_name": "Python 3",
   "language": "python",
   "name": "python3"
  },
  "language_info": {
   "codemirror_mode": {
    "name": "ipython",
    "version": 3
   },
   "file_extension": ".py",
   "mimetype": "text/x-python",
   "name": "python",
   "nbconvert_exporter": "python",
   "pygments_lexer": "ipython3",
   "version": "3.10.7"
  }
 },
 "nbformat": 4,
 "nbformat_minor": 2
}
